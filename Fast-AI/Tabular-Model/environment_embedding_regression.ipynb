{
 "cells": [
  {
   "cell_type": "markdown",
   "metadata": {},
   "source": [
    "# Fast AI Tabular: Regression\n",
    "Fast AI is a deep learning library built on top of PyTorch, designed to make it easier and faster to develop and train deep learning models.\n",
    "\n",
    "In this section I used FastAI to implement regression on a tabular dataset where the 'X' features are buisiness Key Performance Indicators and the 'y' target Total Environmental Intensity (Revenue) is an estimate of the Total Environmental Cost divided by Revenue for that company."
   ]
  },
  {
   "cell_type": "markdown",
   "metadata": {},
   "source": [
    "## Imports"
   ]
  },
  {
   "cell_type": "code",
   "execution_count": 62,
   "metadata": {},
   "outputs": [],
   "source": [
    "import pandas as pd\n",
    "import numpy as np\n",
    "# importing libraries for use with fast-ai\n",
    "# -- uncomment if using within google colab env --\n",
    "#import fastbook \n",
    "#fastbook.setup_book()\n",
    "#from pandas.api.types import is_string_dtype, is_numeric_dtype, is_categorical_dtype\n",
    "from fastai.tabular.all import *\n",
    "import sklearn\n",
    "from IPython.display import Image, display_svg, SVG\n"
   ]
  },
  {
   "cell_type": "markdown",
   "metadata": {},
   "source": [
    "## The Data"
   ]
  },
  {
   "cell_type": "code",
   "execution_count": 70,
   "metadata": {},
   "outputs": [],
   "source": [
    "corp_env_impact_3pct = pd.read_csv('../../data/tabular_data/final_raw_sample_3_percent.csv')"
   ]
  },
  {
   "cell_type": "markdown",
   "metadata": {},
   "source": [
    "There are two datasets. Each one has its' own unique rows based on the application of uncertainty estimates of 0 and 3 percent in the calculations of environmental cost. They both have similar column features. According to the data source, these features are the impact of buisnesses on eight \"safeguard subjects\":\n",
    "1. Human Health (Working Capacity): Working Capacity captures human health effects from climate change, air pollution, and toxicity.\n",
    "2. Crop Production : captures soil degradation, air pollution, climate change, and land use.\n",
    "3. Meat Production Capacity: includes soil degradation, climate change, land use, and toxicity.\n",
    "4. Fish Production Capacity: includes acidification, eutrophication, climate change, and toxicity.\n",
    "5. Wood Production Capacity: includes climate change, air pollution, and land use.\n",
    "6. Drinking Water & Irrigation Water (Water Production Capacity): captures climate change, land use, and water pollution.\n",
    "7. Abiotic Resources: includes environmental impacts from mining.\n",
    "8. Biodiversity: captures land use and toxicity.\n",
    "\n",
    "The dataset also includes further uncertainty estimates that may increase the accuracy of the model, but for the purposes of this assignment, we will stick to these eight. I will also be using the data that includes uncertainty estimates (3 percent discount rate)."
   ]
  },
  {
   "cell_type": "code",
   "execution_count": 71,
   "metadata": {},
   "outputs": [
    {
     "data": {
      "text/html": [
       "<div>\n",
       "<style scoped>\n",
       "    .dataframe tbody tr th:only-of-type {\n",
       "        vertical-align: middle;\n",
       "    }\n",
       "\n",
       "    .dataframe tbody tr th {\n",
       "        vertical-align: top;\n",
       "    }\n",
       "\n",
       "    .dataframe thead th {\n",
       "        text-align: right;\n",
       "    }\n",
       "</style>\n",
       "<table border=\"1\" class=\"dataframe\">\n",
       "  <thead>\n",
       "    <tr style=\"text-align: right;\">\n",
       "      <th></th>\n",
       "      <th>Year</th>\n",
       "      <th>Company Name</th>\n",
       "      <th>Country</th>\n",
       "      <th>Industry (Exiobase)</th>\n",
       "      <th>Total Environmental Intensity (Revenue)</th>\n",
       "      <th>Total Environmental Intensity (Operating Income)</th>\n",
       "      <th>Total Environmental Cost</th>\n",
       "      <th>Working Capacity</th>\n",
       "      <th>Fish Production Capacity</th>\n",
       "      <th>Crop Production Capacity</th>\n",
       "      <th>Meat Production Capacity</th>\n",
       "      <th>Biodiversity</th>\n",
       "      <th>Abiotic Resources</th>\n",
       "      <th>Water production capacity (Drinking water &amp; Irrigation Water)</th>\n",
       "      <th>Wood Production Capacity</th>\n",
       "      <th>% Imputed</th>\n",
       "    </tr>\n",
       "  </thead>\n",
       "  <tbody>\n",
       "    <tr>\n",
       "      <th>0</th>\n",
       "      <td>2018</td>\n",
       "      <td>APPLUS SERVICES SA</td>\n",
       "      <td>Spain</td>\n",
       "      <td>Activities auxiliary to financial intermediation (67)</td>\n",
       "      <td>-1.62%</td>\n",
       "      <td>-25.12%</td>\n",
       "      <td>(3,10,59,488)</td>\n",
       "      <td>(69,39,394)</td>\n",
       "      <td>(1,763)</td>\n",
       "      <td>(90,516)</td>\n",
       "      <td>(21,094)</td>\n",
       "      <td>(310)</td>\n",
       "      <td>(3,850)</td>\n",
       "      <td>(2,40,03,212)</td>\n",
       "      <td>652</td>\n",
       "      <td>0%</td>\n",
       "    </tr>\n",
       "    <tr>\n",
       "      <th>1</th>\n",
       "      <td>2018</td>\n",
       "      <td>TELEPERFORMANCE SE</td>\n",
       "      <td>France</td>\n",
       "      <td>Activities auxiliary to financial intermediation (67)</td>\n",
       "      <td>-0.46%</td>\n",
       "      <td>-4.28%</td>\n",
       "      <td>(2,35,30,704)</td>\n",
       "      <td>(1,75,76,865)</td>\n",
       "      <td>(4,191)</td>\n",
       "      <td>(2,34,020)</td>\n",
       "      <td>(54,603)</td>\n",
       "      <td>(766)</td>\n",
       "      <td>(3,661)</td>\n",
       "      <td>(56,57,645)</td>\n",
       "      <td>1,047</td>\n",
       "      <td>1%</td>\n",
       "    </tr>\n",
       "    <tr>\n",
       "      <th>2</th>\n",
       "      <td>2018</td>\n",
       "      <td>SGS SA</td>\n",
       "      <td>Switzerland</td>\n",
       "      <td>Activities auxiliary to financial intermediation (67)</td>\n",
       "      <td>-0.32%</td>\n",
       "      <td>-2.13%</td>\n",
       "      <td>(2,20,83,908)</td>\n",
       "      <td>(1,83,85,456)</td>\n",
       "      <td>(4,273)</td>\n",
       "      <td>(2,43,627)</td>\n",
       "      <td>(56,860)</td>\n",
       "      <td>(783)</td>\n",
       "      <td>(3,489)</td>\n",
       "      <td>(33,90,060)</td>\n",
       "      <td>639</td>\n",
       "      <td>0</td>\n",
       "    </tr>\n",
       "    <tr>\n",
       "      <th>3</th>\n",
       "      <td>2018</td>\n",
       "      <td>INTERTEK GROUP PLC</td>\n",
       "      <td>United Kingdom</td>\n",
       "      <td>Activities auxiliary to financial intermediation (67)</td>\n",
       "      <td>-0.55%</td>\n",
       "      <td>-3.39%</td>\n",
       "      <td>(1,97,43,336)</td>\n",
       "      <td>(1,93,12,582)</td>\n",
       "      <td>(4,522)</td>\n",
       "      <td>(2,56,694)</td>\n",
       "      <td>(60,089)</td>\n",
       "      <td>(820)</td>\n",
       "      <td>(3,428)</td>\n",
       "      <td>(1,05,662)</td>\n",
       "      <td>461</td>\n",
       "      <td>1%</td>\n",
       "    </tr>\n",
       "    <tr>\n",
       "      <th>4</th>\n",
       "      <td>2018</td>\n",
       "      <td>THOMSON REUTERS CORP</td>\n",
       "      <td>Canada</td>\n",
       "      <td>Activities auxiliary to financial intermediation (67)</td>\n",
       "      <td>-0.26%</td>\n",
       "      <td>-1.91%</td>\n",
       "      <td>(1,42,55,905)</td>\n",
       "      <td>(91,62,390)</td>\n",
       "      <td>(3,149)</td>\n",
       "      <td>(1,26,821)</td>\n",
       "      <td>(28,623)</td>\n",
       "      <td>(597)</td>\n",
       "      <td>(1,94,781)</td>\n",
       "      <td>(47,45,756)</td>\n",
       "      <td>6,212</td>\n",
       "      <td>18%</td>\n",
       "    </tr>\n",
       "  </tbody>\n",
       "</table>\n",
       "</div>"
      ],
      "text/plain": [
       "   Year          Company Name         Country  \\\n",
       "0  2018    APPLUS SERVICES SA           Spain   \n",
       "1  2018    TELEPERFORMANCE SE          France   \n",
       "2  2018                SGS SA     Switzerland   \n",
       "3  2018    INTERTEK GROUP PLC  United Kingdom   \n",
       "4  2018  THOMSON REUTERS CORP          Canada   \n",
       "\n",
       "                                     Industry (Exiobase)  \\\n",
       "0  Activities auxiliary to financial intermediation (67)   \n",
       "1  Activities auxiliary to financial intermediation (67)   \n",
       "2  Activities auxiliary to financial intermediation (67)   \n",
       "3  Activities auxiliary to financial intermediation (67)   \n",
       "4  Activities auxiliary to financial intermediation (67)   \n",
       "\n",
       "  Total Environmental Intensity (Revenue)  \\\n",
       "0                                  -1.62%   \n",
       "1                                  -0.46%   \n",
       "2                                  -0.32%   \n",
       "3                                  -0.55%   \n",
       "4                                  -0.26%   \n",
       "\n",
       "  Total Environmental Intensity (Operating Income) Total Environmental Cost  \\\n",
       "0                                          -25.12%            (3,10,59,488)   \n",
       "1                                           -4.28%            (2,35,30,704)   \n",
       "2                                           -2.13%            (2,20,83,908)   \n",
       "3                                           -3.39%            (1,97,43,336)   \n",
       "4                                           -1.91%            (1,42,55,905)   \n",
       "\n",
       "  Working Capacity Fish Production Capacity Crop Production Capacity  \\\n",
       "0      (69,39,394)                  (1,763)                 (90,516)   \n",
       "1    (1,75,76,865)                  (4,191)               (2,34,020)   \n",
       "2    (1,83,85,456)                  (4,273)               (2,43,627)   \n",
       "3    (1,93,12,582)                  (4,522)               (2,56,694)   \n",
       "4      (91,62,390)                  (3,149)               (1,26,821)   \n",
       "\n",
       "  Meat Production Capacity Biodiversity Abiotic Resources  \\\n",
       "0                 (21,094)        (310)           (3,850)   \n",
       "1                 (54,603)        (766)           (3,661)   \n",
       "2                 (56,860)        (783)           (3,489)   \n",
       "3                 (60,089)        (820)           (3,428)   \n",
       "4                 (28,623)        (597)        (1,94,781)   \n",
       "\n",
       "  Water production capacity (Drinking water & Irrigation Water)  \\\n",
       "0                                                 (2,40,03,212)   \n",
       "1                                                   (56,57,645)   \n",
       "2                                                   (33,90,060)   \n",
       "3                                                    (1,05,662)   \n",
       "4                                                   (47,45,756)   \n",
       "\n",
       "  Wood Production Capacity % Imputed  \n",
       "0                      652        0%  \n",
       "1                   1,047         1%  \n",
       "2                      639         0  \n",
       "3                      461        1%  \n",
       "4                   6,212        18%  "
      ]
     },
     "execution_count": 71,
     "metadata": {},
     "output_type": "execute_result"
    }
   ],
   "source": [
    "corp_env_impact_3pct.head()"
   ]
  },
  {
   "cell_type": "code",
   "execution_count": 72,
   "metadata": {},
   "outputs": [
    {
     "data": {
      "text/plain": [
       "(13177, 16)"
      ]
     },
     "execution_count": 72,
     "metadata": {},
     "output_type": "execute_result"
    }
   ],
   "source": [
    "corp_env_impact_3pct.shape"
   ]
  },
  {
   "cell_type": "markdown",
   "metadata": {},
   "source": [
    "# Pre-processing"
   ]
  },
  {
   "cell_type": "markdown",
   "metadata": {},
   "source": [
    " It is mentioned in the kaggle source that \"Each safeguard subject is made up of multiple impact categories and indicators, called state indicators, for measuring the current state of each safeguard subject (Life Cycle Initiative 2016; Steen and Palander 2016).\"\n",
    "\n",
    "Guidance given in the Kaggle source:\n",
    "\n",
    "'y' target:\n",
    "\n",
    "- Total Environmental Intensity (Revenue): The monetized environmental impact of the firm's operations during the specific year indicated in column A divided by revenue in that year.\n",
    "\n",
    "'X' features: \n",
    "\n",
    "- Column H: Working Capacity captures human health effects from climate change, air pollution, and toxicity.\n",
    "- Column I: Fish Production Capacity includes acidification, eutrophication, climate change, and toxicity.\n",
    "- Column J: Crop Production Capacity captures soil degradation, air pollution, climate change, and land use.\n",
    "- Column K: Meat Production Capacity includes soil degradation, climate change, land use, and toxicity.\n",
    "- Column L: Biodiversity captures land use and toxicity.\n",
    "- Column M: Abiotic Resources includes environmental impacts from mining.\n",
    "- Column N: Water production capacity captures climate change, land use, and water pollution.\n",
    "- Column O: Wood Production Capacity includes climate change, air pollution, and land use.\n",
    "\n",
    "\n"
   ]
  },
  {
   "cell_type": "markdown",
   "metadata": {},
   "source": [
    "## Cleaning safeguard subjects"
   ]
  },
  {
   "cell_type": "code",
   "execution_count": 73,
   "metadata": {},
   "outputs": [],
   "source": [
    "def clean_numeric_text(df, column_name):\n",
    "    print(column_name)\n",
    "    # Remove parentheses and commas\n",
    "    df[column_name] = df[column_name].str.replace(r'[\\(\\),]', '', regex=True)\n",
    "    # Convert to integer data type\n",
    "    df[column_name] = pd.to_numeric(df[column_name], errors='coerce', downcast='integer')"
   ]
  },
  {
   "cell_type": "code",
   "execution_count": 74,
   "metadata": {},
   "outputs": [],
   "source": [
    "env_features = corp_env_impact_3pct.iloc[:, 7: 15]"
   ]
  },
  {
   "cell_type": "code",
   "execution_count": 75,
   "metadata": {},
   "outputs": [],
   "source": [
    "env_features['Year'] = corp_env_impact_3pct.Year\n",
    "env_features['target'] = corp_env_impact_3pct['Total Environmental Intensity (Operating Income)']"
   ]
  },
  {
   "cell_type": "code",
   "execution_count": 76,
   "metadata": {},
   "outputs": [
    {
     "data": {
      "text/html": [
       "<div>\n",
       "<style scoped>\n",
       "    .dataframe tbody tr th:only-of-type {\n",
       "        vertical-align: middle;\n",
       "    }\n",
       "\n",
       "    .dataframe tbody tr th {\n",
       "        vertical-align: top;\n",
       "    }\n",
       "\n",
       "    .dataframe thead th {\n",
       "        text-align: right;\n",
       "    }\n",
       "</style>\n",
       "<table border=\"1\" class=\"dataframe\">\n",
       "  <thead>\n",
       "    <tr style=\"text-align: right;\">\n",
       "      <th></th>\n",
       "      <th>Working Capacity</th>\n",
       "      <th>Fish Production Capacity</th>\n",
       "      <th>Crop Production Capacity</th>\n",
       "      <th>Meat Production Capacity</th>\n",
       "      <th>Biodiversity</th>\n",
       "      <th>Abiotic Resources</th>\n",
       "      <th>Water production capacity (Drinking water &amp; Irrigation Water)</th>\n",
       "      <th>Wood Production Capacity</th>\n",
       "      <th>Year</th>\n",
       "      <th>target</th>\n",
       "    </tr>\n",
       "  </thead>\n",
       "  <tbody>\n",
       "    <tr>\n",
       "      <th>0</th>\n",
       "      <td>(69,39,394)</td>\n",
       "      <td>(1,763)</td>\n",
       "      <td>(90,516)</td>\n",
       "      <td>(21,094)</td>\n",
       "      <td>(310)</td>\n",
       "      <td>(3,850)</td>\n",
       "      <td>(2,40,03,212)</td>\n",
       "      <td>652</td>\n",
       "      <td>2018</td>\n",
       "      <td>-25.12%</td>\n",
       "    </tr>\n",
       "    <tr>\n",
       "      <th>1</th>\n",
       "      <td>(1,75,76,865)</td>\n",
       "      <td>(4,191)</td>\n",
       "      <td>(2,34,020)</td>\n",
       "      <td>(54,603)</td>\n",
       "      <td>(766)</td>\n",
       "      <td>(3,661)</td>\n",
       "      <td>(56,57,645)</td>\n",
       "      <td>1,047</td>\n",
       "      <td>2018</td>\n",
       "      <td>-4.28%</td>\n",
       "    </tr>\n",
       "    <tr>\n",
       "      <th>2</th>\n",
       "      <td>(1,83,85,456)</td>\n",
       "      <td>(4,273)</td>\n",
       "      <td>(2,43,627)</td>\n",
       "      <td>(56,860)</td>\n",
       "      <td>(783)</td>\n",
       "      <td>(3,489)</td>\n",
       "      <td>(33,90,060)</td>\n",
       "      <td>639</td>\n",
       "      <td>2018</td>\n",
       "      <td>-2.13%</td>\n",
       "    </tr>\n",
       "    <tr>\n",
       "      <th>3</th>\n",
       "      <td>(1,93,12,582)</td>\n",
       "      <td>(4,522)</td>\n",
       "      <td>(2,56,694)</td>\n",
       "      <td>(60,089)</td>\n",
       "      <td>(820)</td>\n",
       "      <td>(3,428)</td>\n",
       "      <td>(1,05,662)</td>\n",
       "      <td>461</td>\n",
       "      <td>2018</td>\n",
       "      <td>-3.39%</td>\n",
       "    </tr>\n",
       "    <tr>\n",
       "      <th>4</th>\n",
       "      <td>(91,62,390)</td>\n",
       "      <td>(3,149)</td>\n",
       "      <td>(1,26,821)</td>\n",
       "      <td>(28,623)</td>\n",
       "      <td>(597)</td>\n",
       "      <td>(1,94,781)</td>\n",
       "      <td>(47,45,756)</td>\n",
       "      <td>6,212</td>\n",
       "      <td>2018</td>\n",
       "      <td>-1.91%</td>\n",
       "    </tr>\n",
       "  </tbody>\n",
       "</table>\n",
       "</div>"
      ],
      "text/plain": [
       "  Working Capacity Fish Production Capacity Crop Production Capacity  \\\n",
       "0      (69,39,394)                  (1,763)                 (90,516)   \n",
       "1    (1,75,76,865)                  (4,191)               (2,34,020)   \n",
       "2    (1,83,85,456)                  (4,273)               (2,43,627)   \n",
       "3    (1,93,12,582)                  (4,522)               (2,56,694)   \n",
       "4      (91,62,390)                  (3,149)               (1,26,821)   \n",
       "\n",
       "  Meat Production Capacity Biodiversity Abiotic Resources  \\\n",
       "0                 (21,094)        (310)           (3,850)   \n",
       "1                 (54,603)        (766)           (3,661)   \n",
       "2                 (56,860)        (783)           (3,489)   \n",
       "3                 (60,089)        (820)           (3,428)   \n",
       "4                 (28,623)        (597)        (1,94,781)   \n",
       "\n",
       "  Water production capacity (Drinking water & Irrigation Water)  \\\n",
       "0                                                 (2,40,03,212)   \n",
       "1                                                   (56,57,645)   \n",
       "2                                                   (33,90,060)   \n",
       "3                                                    (1,05,662)   \n",
       "4                                                   (47,45,756)   \n",
       "\n",
       "  Wood Production Capacity  Year   target  \n",
       "0                      652  2018  -25.12%  \n",
       "1                   1,047   2018   -4.28%  \n",
       "2                      639  2018   -2.13%  \n",
       "3                      461  2018   -3.39%  \n",
       "4                   6,212   2018   -1.91%  "
      ]
     },
     "execution_count": 76,
     "metadata": {},
     "output_type": "execute_result"
    }
   ],
   "source": [
    "env_features.head()"
   ]
  },
  {
   "cell_type": "code",
   "execution_count": 77,
   "metadata": {},
   "outputs": [
    {
     "name": "stdout",
     "output_type": "stream",
     "text": [
      "Working Capacity\n",
      "Fish Production Capacity\n",
      "Crop Production Capacity\n",
      "Meat Production Capacity\n",
      "Biodiversity\n",
      "Abiotic Resources\n",
      "Water production capacity (Drinking water & Irrigation Water)\n",
      "Wood Production Capacity\n"
     ]
    }
   ],
   "source": [
    "# removing paranthesis and commas from columns \n",
    "for column in list(env_features.iloc[:, 0:8].columns):\n",
    "    clean_numeric_text(env_features, column)\n",
    "\n"
   ]
  },
  {
   "cell_type": "code",
   "execution_count": 78,
   "metadata": {},
   "outputs": [],
   "source": [
    "def text_percent_to_numeric(text_percent):\n",
    "    if isinstance(text_percent, type(np.nan)):\n",
    "        return np.nan\n",
    "    # Remove percentage sign and convert to float\n",
    "    numeric_value = float(text_percent.strip('%'))\n",
    "    # Convert to decimal representation\n",
    "    numeric_value /= 100\n",
    "    return numeric_value"
   ]
  },
  {
   "cell_type": "code",
   "execution_count": 79,
   "metadata": {},
   "outputs": [],
   "source": [
    "env_features['target'] = env_features.target.apply(lambda x: text_percent_to_numeric(x))"
   ]
  },
  {
   "cell_type": "code",
   "execution_count": 80,
   "metadata": {},
   "outputs": [
    {
     "data": {
      "text/html": [
       "<div>\n",
       "<style scoped>\n",
       "    .dataframe tbody tr th:only-of-type {\n",
       "        vertical-align: middle;\n",
       "    }\n",
       "\n",
       "    .dataframe tbody tr th {\n",
       "        vertical-align: top;\n",
       "    }\n",
       "\n",
       "    .dataframe thead th {\n",
       "        text-align: right;\n",
       "    }\n",
       "</style>\n",
       "<table border=\"1\" class=\"dataframe\">\n",
       "  <thead>\n",
       "    <tr style=\"text-align: right;\">\n",
       "      <th></th>\n",
       "      <th>Working Capacity</th>\n",
       "      <th>Fish Production Capacity</th>\n",
       "      <th>Crop Production Capacity</th>\n",
       "      <th>Meat Production Capacity</th>\n",
       "      <th>Biodiversity</th>\n",
       "      <th>Abiotic Resources</th>\n",
       "      <th>Water production capacity (Drinking water &amp; Irrigation Water)</th>\n",
       "      <th>Wood Production Capacity</th>\n",
       "      <th>Year</th>\n",
       "      <th>target</th>\n",
       "    </tr>\n",
       "  </thead>\n",
       "  <tbody>\n",
       "    <tr>\n",
       "      <th>0</th>\n",
       "      <td>6939394</td>\n",
       "      <td>1763</td>\n",
       "      <td>90516</td>\n",
       "      <td>21094</td>\n",
       "      <td>310</td>\n",
       "      <td>3850.0</td>\n",
       "      <td>24003212</td>\n",
       "      <td>652.0</td>\n",
       "      <td>2018</td>\n",
       "      <td>-0.2512</td>\n",
       "    </tr>\n",
       "    <tr>\n",
       "      <th>1</th>\n",
       "      <td>17576865</td>\n",
       "      <td>4191</td>\n",
       "      <td>234020</td>\n",
       "      <td>54603</td>\n",
       "      <td>766</td>\n",
       "      <td>3661.0</td>\n",
       "      <td>5657645</td>\n",
       "      <td>1047.0</td>\n",
       "      <td>2018</td>\n",
       "      <td>-0.0428</td>\n",
       "    </tr>\n",
       "    <tr>\n",
       "      <th>2</th>\n",
       "      <td>18385456</td>\n",
       "      <td>4273</td>\n",
       "      <td>243627</td>\n",
       "      <td>56860</td>\n",
       "      <td>783</td>\n",
       "      <td>3489.0</td>\n",
       "      <td>3390060</td>\n",
       "      <td>639.0</td>\n",
       "      <td>2018</td>\n",
       "      <td>-0.0213</td>\n",
       "    </tr>\n",
       "    <tr>\n",
       "      <th>3</th>\n",
       "      <td>19312582</td>\n",
       "      <td>4522</td>\n",
       "      <td>256694</td>\n",
       "      <td>60089</td>\n",
       "      <td>820</td>\n",
       "      <td>3428.0</td>\n",
       "      <td>105662</td>\n",
       "      <td>461.0</td>\n",
       "      <td>2018</td>\n",
       "      <td>-0.0339</td>\n",
       "    </tr>\n",
       "    <tr>\n",
       "      <th>4</th>\n",
       "      <td>9162390</td>\n",
       "      <td>3149</td>\n",
       "      <td>126821</td>\n",
       "      <td>28623</td>\n",
       "      <td>597</td>\n",
       "      <td>194781.0</td>\n",
       "      <td>4745756</td>\n",
       "      <td>6212.0</td>\n",
       "      <td>2018</td>\n",
       "      <td>-0.0191</td>\n",
       "    </tr>\n",
       "  </tbody>\n",
       "</table>\n",
       "</div>"
      ],
      "text/plain": [
       "   Working Capacity  Fish Production Capacity  Crop Production Capacity  \\\n",
       "0           6939394                      1763                     90516   \n",
       "1          17576865                      4191                    234020   \n",
       "2          18385456                      4273                    243627   \n",
       "3          19312582                      4522                    256694   \n",
       "4           9162390                      3149                    126821   \n",
       "\n",
       "   Meat Production Capacity  Biodiversity  Abiotic Resources  \\\n",
       "0                     21094           310             3850.0   \n",
       "1                     54603           766             3661.0   \n",
       "2                     56860           783             3489.0   \n",
       "3                     60089           820             3428.0   \n",
       "4                     28623           597           194781.0   \n",
       "\n",
       "   Water production capacity (Drinking water & Irrigation Water)  \\\n",
       "0                                                       24003212   \n",
       "1                                                        5657645   \n",
       "2                                                        3390060   \n",
       "3                                                         105662   \n",
       "4                                                        4745756   \n",
       "\n",
       "   Wood Production Capacity  Year  target  \n",
       "0                     652.0  2018 -0.2512  \n",
       "1                    1047.0  2018 -0.0428  \n",
       "2                     639.0  2018 -0.0213  \n",
       "3                     461.0  2018 -0.0339  \n",
       "4                    6212.0  2018 -0.0191  "
      ]
     },
     "execution_count": 80,
     "metadata": {},
     "output_type": "execute_result"
    }
   ],
   "source": [
    "env_features.head()"
   ]
  },
  {
   "cell_type": "markdown",
   "metadata": {},
   "source": [
    "## Processing with FastAI"
   ]
  },
  {
   "cell_type": "code",
   "execution_count": 85,
   "metadata": {},
   "outputs": [
    {
     "data": {
      "text/plain": [
       "Year\n",
       "2017    0.135539\n",
       "2018    0.134856\n",
       "2016    0.131138\n",
       "2015    0.122334\n",
       "2014    0.113000\n",
       "2013    0.105411\n",
       "2012    0.096456\n",
       "2011    0.084921\n",
       "2010    0.076345\n",
       "Name: proportion, dtype: float64"
      ]
     },
     "execution_count": 85,
     "metadata": {},
     "output_type": "execute_result"
    }
   ],
   "source": [
    "env_features.Year.value_counts(normalize=True) # we will create a training condition using data before 2018"
   ]
  },
  {
   "cell_type": "code",
   "execution_count": 91,
   "metadata": {},
   "outputs": [],
   "source": [
    "year_cond = (env_features.Year<2018)\n",
    "train_idx = np.where( year_cond)[0]\n",
    "valid_idx = np.where(~year_cond)[0]\n",
    "splits = (list(train_idx),list(valid_idx))"
   ]
  },
  {
   "cell_type": "code",
   "execution_count": 86,
   "metadata": {},
   "outputs": [
    {
     "data": {
      "text/plain": [
       "['Working Capacity',\n",
       " 'Fish Production Capacity',\n",
       " 'Crop Production Capacity',\n",
       " 'Meat Production Capacity',\n",
       " 'Biodiversity',\n",
       " 'Abiotic Resources',\n",
       " 'Water production capacity (Drinking water & Irrigation Water)',\n",
       " 'Wood Production Capacity',\n",
       " 'Year']"
      ]
     },
     "execution_count": 86,
     "metadata": {},
     "output_type": "execute_result"
    }
   ],
   "source": [
    "cont_names = list(env_features.columns)[:-1]\n",
    "cont_names"
   ]
  },
  {
   "cell_type": "code",
   "execution_count": 105,
   "metadata": {},
   "outputs": [],
   "source": [
    "env_features.target = env_features.target.fillna(env_features.target.mean())"
   ]
  },
  {
   "cell_type": "code",
   "execution_count": 106,
   "metadata": {},
   "outputs": [],
   "source": [
    "# Instantiate a TabularPandas object with the FillMissing preprocessing step\n",
    "procs = [FillMissing, Normalize]\n",
    "fastai_env_features = Tabular(env_features, cont_names = cont_names, y_names = ['target'], procs=procs, splits=splits)"
   ]
  },
  {
   "cell_type": "code",
   "execution_count": 107,
   "metadata": {},
   "outputs": [
    {
     "name": "stdout",
     "output_type": "stream",
     "text": [
      "1777 11400\n"
     ]
    }
   ],
   "source": [
    "print(len(fastai_env_features.valid), len(fastai_env_features.train))"
   ]
  },
  {
   "cell_type": "markdown",
   "metadata": {},
   "source": [
    "# Training a Regression Model"
   ]
  },
  {
   "cell_type": "code",
   "execution_count": 108,
   "metadata": {},
   "outputs": [],
   "source": [
    "from sklearn.ensemble import AdaBoostRegressor"
   ]
  },
  {
   "cell_type": "code",
   "execution_count": 109,
   "metadata": {},
   "outputs": [],
   "source": [
    "# creating our train and test set\n",
    "xs,y = fastai_env_features.train.xs,fastai_env_features.train.y\n",
    "valid_xs,valid_y = fastai_env_features.valid.xs,fastai_env_features.valid.y"
   ]
  },
  {
   "cell_type": "code",
   "execution_count": 110,
   "metadata": {},
   "outputs": [],
   "source": [
    "regressor_model = AdaBoostRegressor()"
   ]
  },
  {
   "cell_type": "code",
   "execution_count": 111,
   "metadata": {},
   "outputs": [
    {
     "data": {
      "text/html": [
       "<style>#sk-container-id-1 {color: black;}#sk-container-id-1 pre{padding: 0;}#sk-container-id-1 div.sk-toggleable {background-color: white;}#sk-container-id-1 label.sk-toggleable__label {cursor: pointer;display: block;width: 100%;margin-bottom: 0;padding: 0.3em;box-sizing: border-box;text-align: center;}#sk-container-id-1 label.sk-toggleable__label-arrow:before {content: \"▸\";float: left;margin-right: 0.25em;color: #696969;}#sk-container-id-1 label.sk-toggleable__label-arrow:hover:before {color: black;}#sk-container-id-1 div.sk-estimator:hover label.sk-toggleable__label-arrow:before {color: black;}#sk-container-id-1 div.sk-toggleable__content {max-height: 0;max-width: 0;overflow: hidden;text-align: left;background-color: #f0f8ff;}#sk-container-id-1 div.sk-toggleable__content pre {margin: 0.2em;color: black;border-radius: 0.25em;background-color: #f0f8ff;}#sk-container-id-1 input.sk-toggleable__control:checked~div.sk-toggleable__content {max-height: 200px;max-width: 100%;overflow: auto;}#sk-container-id-1 input.sk-toggleable__control:checked~label.sk-toggleable__label-arrow:before {content: \"▾\";}#sk-container-id-1 div.sk-estimator input.sk-toggleable__control:checked~label.sk-toggleable__label {background-color: #d4ebff;}#sk-container-id-1 div.sk-label input.sk-toggleable__control:checked~label.sk-toggleable__label {background-color: #d4ebff;}#sk-container-id-1 input.sk-hidden--visually {border: 0;clip: rect(1px 1px 1px 1px);clip: rect(1px, 1px, 1px, 1px);height: 1px;margin: -1px;overflow: hidden;padding: 0;position: absolute;width: 1px;}#sk-container-id-1 div.sk-estimator {font-family: monospace;background-color: #f0f8ff;border: 1px dotted black;border-radius: 0.25em;box-sizing: border-box;margin-bottom: 0.5em;}#sk-container-id-1 div.sk-estimator:hover {background-color: #d4ebff;}#sk-container-id-1 div.sk-parallel-item::after {content: \"\";width: 100%;border-bottom: 1px solid gray;flex-grow: 1;}#sk-container-id-1 div.sk-label:hover label.sk-toggleable__label {background-color: #d4ebff;}#sk-container-id-1 div.sk-serial::before {content: \"\";position: absolute;border-left: 1px solid gray;box-sizing: border-box;top: 0;bottom: 0;left: 50%;z-index: 0;}#sk-container-id-1 div.sk-serial {display: flex;flex-direction: column;align-items: center;background-color: white;padding-right: 0.2em;padding-left: 0.2em;position: relative;}#sk-container-id-1 div.sk-item {position: relative;z-index: 1;}#sk-container-id-1 div.sk-parallel {display: flex;align-items: stretch;justify-content: center;background-color: white;position: relative;}#sk-container-id-1 div.sk-item::before, #sk-container-id-1 div.sk-parallel-item::before {content: \"\";position: absolute;border-left: 1px solid gray;box-sizing: border-box;top: 0;bottom: 0;left: 50%;z-index: -1;}#sk-container-id-1 div.sk-parallel-item {display: flex;flex-direction: column;z-index: 1;position: relative;background-color: white;}#sk-container-id-1 div.sk-parallel-item:first-child::after {align-self: flex-end;width: 50%;}#sk-container-id-1 div.sk-parallel-item:last-child::after {align-self: flex-start;width: 50%;}#sk-container-id-1 div.sk-parallel-item:only-child::after {width: 0;}#sk-container-id-1 div.sk-dashed-wrapped {border: 1px dashed gray;margin: 0 0.4em 0.5em 0.4em;box-sizing: border-box;padding-bottom: 0.4em;background-color: white;}#sk-container-id-1 div.sk-label label {font-family: monospace;font-weight: bold;display: inline-block;line-height: 1.2em;}#sk-container-id-1 div.sk-label-container {text-align: center;}#sk-container-id-1 div.sk-container {/* jupyter's `normalize.less` sets `[hidden] { display: none; }` but bootstrap.min.css set `[hidden] { display: none !important; }` so we also need the `!important` here to be able to override the default hidden behavior on the sphinx rendered scikit-learn.org. See: https://github.com/scikit-learn/scikit-learn/issues/21755 */display: inline-block !important;position: relative;}#sk-container-id-1 div.sk-text-repr-fallback {display: none;}</style><div id=\"sk-container-id-1\" class=\"sk-top-container\"><div class=\"sk-text-repr-fallback\"><pre>AdaBoostRegressor()</pre><b>In a Jupyter environment, please rerun this cell to show the HTML representation or trust the notebook. <br />On GitHub, the HTML representation is unable to render, please try loading this page with nbviewer.org.</b></div><div class=\"sk-container\" hidden><div class=\"sk-item\"><div class=\"sk-estimator sk-toggleable\"><input class=\"sk-toggleable__control sk-hidden--visually\" id=\"sk-estimator-id-1\" type=\"checkbox\" checked><label for=\"sk-estimator-id-1\" class=\"sk-toggleable__label sk-toggleable__label-arrow\">AdaBoostRegressor</label><div class=\"sk-toggleable__content\"><pre>AdaBoostRegressor()</pre></div></div></div></div></div>"
      ],
      "text/plain": [
       "AdaBoostRegressor()"
      ]
     },
     "execution_count": 111,
     "metadata": {},
     "output_type": "execute_result"
    }
   ],
   "source": [
    "regressor_model.fit(xs, y)"
   ]
  },
  {
   "cell_type": "code",
   "execution_count": 113,
   "metadata": {},
   "outputs": [],
   "source": [
    "validation_predictions = regressor_model.predict(valid_xs)"
   ]
  },
  {
   "cell_type": "code",
   "execution_count": 115,
   "metadata": {},
   "outputs": [],
   "source": [
    "valid_xs['predictions'] = validation_predictions"
   ]
  },
  {
   "cell_type": "code",
   "execution_count": 116,
   "metadata": {},
   "outputs": [],
   "source": [
    "valid_xs['target'] = valid_y"
   ]
  },
  {
   "cell_type": "code",
   "execution_count": 119,
   "metadata": {},
   "outputs": [
    {
     "data": {
      "text/html": [
       "<div>\n",
       "<style scoped>\n",
       "    .dataframe tbody tr th:only-of-type {\n",
       "        vertical-align: middle;\n",
       "    }\n",
       "\n",
       "    .dataframe tbody tr th {\n",
       "        vertical-align: top;\n",
       "    }\n",
       "\n",
       "    .dataframe thead th {\n",
       "        text-align: right;\n",
       "    }\n",
       "</style>\n",
       "<table border=\"1\" class=\"dataframe\">\n",
       "  <thead>\n",
       "    <tr style=\"text-align: right;\">\n",
       "      <th></th>\n",
       "      <th>predictions</th>\n",
       "      <th>target</th>\n",
       "    </tr>\n",
       "  </thead>\n",
       "  <tbody>\n",
       "    <tr>\n",
       "      <th>0</th>\n",
       "      <td>-3.601268</td>\n",
       "      <td>-0.2512</td>\n",
       "    </tr>\n",
       "    <tr>\n",
       "      <th>1</th>\n",
       "      <td>-3.601268</td>\n",
       "      <td>-0.0428</td>\n",
       "    </tr>\n",
       "    <tr>\n",
       "      <th>2</th>\n",
       "      <td>-3.601268</td>\n",
       "      <td>-0.0213</td>\n",
       "    </tr>\n",
       "    <tr>\n",
       "      <th>3</th>\n",
       "      <td>-3.601268</td>\n",
       "      <td>-0.0339</td>\n",
       "    </tr>\n",
       "    <tr>\n",
       "      <th>4</th>\n",
       "      <td>-3.601268</td>\n",
       "      <td>-0.0191</td>\n",
       "    </tr>\n",
       "    <tr>\n",
       "      <th>...</th>\n",
       "      <td>...</td>\n",
       "      <td>...</td>\n",
       "    </tr>\n",
       "    <tr>\n",
       "      <th>1772</th>\n",
       "      <td>-4.219667</td>\n",
       "      <td>-3.3184</td>\n",
       "    </tr>\n",
       "    <tr>\n",
       "      <th>1773</th>\n",
       "      <td>-4.219667</td>\n",
       "      <td>-0.0716</td>\n",
       "    </tr>\n",
       "    <tr>\n",
       "      <th>1774</th>\n",
       "      <td>-3.601268</td>\n",
       "      <td>-0.0067</td>\n",
       "    </tr>\n",
       "    <tr>\n",
       "      <th>1775</th>\n",
       "      <td>-3.601268</td>\n",
       "      <td>-0.1722</td>\n",
       "    </tr>\n",
       "    <tr>\n",
       "      <th>1776</th>\n",
       "      <td>-3.601268</td>\n",
       "      <td>-0.0096</td>\n",
       "    </tr>\n",
       "  </tbody>\n",
       "</table>\n",
       "<p>1777 rows × 2 columns</p>\n",
       "</div>"
      ],
      "text/plain": [
       "      predictions  target\n",
       "0       -3.601268 -0.2512\n",
       "1       -3.601268 -0.0428\n",
       "2       -3.601268 -0.0213\n",
       "3       -3.601268 -0.0339\n",
       "4       -3.601268 -0.0191\n",
       "...           ...     ...\n",
       "1772    -4.219667 -3.3184\n",
       "1773    -4.219667 -0.0716\n",
       "1774    -3.601268 -0.0067\n",
       "1775    -3.601268 -0.1722\n",
       "1776    -3.601268 -0.0096\n",
       "\n",
       "[1777 rows x 2 columns]"
      ]
     },
     "execution_count": 119,
     "metadata": {},
     "output_type": "execute_result"
    }
   ],
   "source": [
    "valid_xs.loc[:, ['predictions', 'target']]"
   ]
  },
  {
   "cell_type": "markdown",
   "metadata": {},
   "source": [
    "# Evaluating the Model"
   ]
  },
  {
   "cell_type": "code",
   "execution_count": 123,
   "metadata": {},
   "outputs": [],
   "source": [
    "import sklearn.metrics"
   ]
  },
  {
   "cell_type": "markdown",
   "metadata": {},
   "source": [
    "The model is showing a negative RMSE which should technically not be possible as a root is applied to the mean squared error which should return a non-negative value. However, since this is negative, it means the model may be fitting the data badly. This was my initial hypothesis during the preprocessing step when I was reading the research paper where the data description for the \"safeguard subject\" features mentioned it includes multiple metrics within it. I assumed that the tuple with commas seperating each value where the different metrics, however, I just assumed it could be a single value and simply removed the paranthesis and commas instead of splitting it subject into multiple features (as even considering the tuples were different metrics, each subject varied in its n-tuple structure - meaning more data preparation is necessary). This may have had the unintended effect of skewing the data distributions and introducing noise.\n",
    "\n",
    "The sources for this data do not document the data CSV used in this notebook explicitly (i.e how to preprocess it). In the future I would consider a deep-sets or a graph based regression model that captures the multiplicity of the tuple data features."
   ]
  },
  {
   "cell_type": "code",
   "execution_count": 130,
   "metadata": {},
   "outputs": [
    {
     "name": "stdout",
     "output_type": "stream",
     "text": [
      "RMSE: -1.7376185028222921\n",
      "MSE: 1177.1415013357353\n"
     ]
    }
   ],
   "source": [
    "# Root mean squared error\n",
    "rmse_score = sklearn.metrics.(valid_xs.predictions, valid_xs.target)\n",
    "print(\"RMSE:\", rmse_score)\n",
    "\n",
    "# mean squared error\n",
    "mse_score = sklearn.metrics.mean_squared_error(valid_xs.predictions, valid_xs.target)\n",
    "print(\"MSE:\", mse_score)"
   ]
  },
  {
   "cell_type": "markdown",
   "metadata": {},
   "source": [
    "# Visualizing the Prediction line vs. the Actual line "
   ]
  },
  {
   "cell_type": "code",
   "execution_count": 141,
   "metadata": {},
   "outputs": [
    {
     "data": {
      "image/png": "[encoded data removed]",
      "text/plain": [
       "<Figure size 800x600 with 1 Axes>"
      ]
     },
     "metadata": {},
     "output_type": "display_data"
    }
   ],
   "source": [
    "# Plot predictions versus actual values\n",
    "plt.figure(figsize=(8, 6))\n",
    "plt.scatter(valid_xs['target'], valid_xs['predictions'], color='blue', alpha=0.5, label='Predicted')\n",
    "plt.scatter(valid_xs['target'], valid_xs['target'], color='red', alpha=0.5, label='Actual')  # Actual values in red\n",
    "plt.title('Predictions vs Actual Values')\n",
    "plt.xlabel('Actual Values')\n",
    "plt.ylabel('Predictions')\n",
    "# Set the limits of x-axis and y-axis to correspond to the full data range\n",
    "xmin = min(np.min(valid_xs['target']), np.min(valid_xs['predictions']))\n",
    "xmax = max(np.max(valid_xs['target']), np.min( valid_xs['predictions']))\n",
    "plt.xlim(xmin, xmax)\n",
    "plt.ylim(xmin, xmax)\n",
    "\n",
    "plt.legend()\n",
    "plt.grid(True)\n",
    "plt.show()"
   ]
  },
  {
   "cell_type": "code",
   "execution_count": null,
   "metadata": {},
   "outputs": [],
   "source": []
  }
 ],
 "metadata": {
  "kernelspec": {
   "display_name": "fastai_env",
   "language": "python",
   "name": "python3"
  },
  "language_info": {
   "codemirror_mode": {
    "name": "ipython",
    "version": 3
   },
   "file_extension": ".py",
   "mimetype": "text/x-python",
   "name": "python",
   "nbconvert_exporter": "python",
   "pygments_lexer": "ipython3",
   "version": "3.8.18"
  }
 },
 "nbformat": 4,
 "nbformat_minor": 2
}
