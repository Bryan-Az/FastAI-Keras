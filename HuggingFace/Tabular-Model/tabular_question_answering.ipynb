{
 "cells": [
  {
   "cell_type": "markdown",
   "metadata": {},
   "source": [
    "# HuggingFace: Tabular (Question Answering)\n",
    "\n",
    "In this notebook I will be using the same data used in the Fast AI tabular section where I created a model that implements regression. This section will improve on the work done in that section and apply another preprocessing step in the ETL section. Based on the outcome of the regressor model, splitting the data features for each safeguard subject may help increase the signal of the environmental cost based on revenue. \n",
    "\n",
    "This may help in building a new model in this section that is able to answer questions about the data. In the previous section, I read the research that was used to create this data and it seems that each of the individual safeguard subjects contain multiple environmental affect features within them. So splitting these features may help the model understand the underlying distribution for each subject feature and how it affects the environmental cost."
   ]
  },
  {
   "cell_type": "markdown",
   "metadata": {},
   "source": [
    "# Imports"
   ]
  },
  {
   "cell_type": "code",
   "execution_count": 1,
   "metadata": {},
   "outputs": [],
   "source": [
    "import pandas as pd\n",
    "import numpy as np\n",
    "import re"
   ]
  },
  {
   "cell_type": "markdown",
   "metadata": {},
   "source": [
    "## The Data\n",
    "\n",
    "The dataset contains these main safeguard subjects containing environmental cost according to these industry segments. Previously, the data for each feature was combined into a single numerical value which gave poor results. A better method may be to split the tuple value for each feature into another feature. For example human_health1, human_health2, etc, based on the number of tuple value per record for that feature. Since this is a variable value due to missingness, a better method may be to create the n number of features based on the median length of the tuples for each individual feature and then fill in the records having less than the median with an imputation of the mean for the missing tuple index based on the mean of that tuple index for that feature.\n",
    "\n",
    "1. Human Health (Working Capacity): Working Capacity captures human health effects from climate change, air pollution, and toxicity.\n",
    "2. Crop Production : captures soil degradation, air pollution, climate change, and land use.\n",
    "3. Meat Production Capacity: includes soil degradation, climate change, land use, and toxicity.\n",
    "4. Fish Production Capacity: includes acidification, eutrophication, climate change, and toxicity.\n",
    "5. Wood Production Capacity: includes climate change, air pollution, and land use.\n",
    "6. Drinking Water & Irrigation Water (Water Production Capacity): captures climate change, land use, and water pollution.\n",
    "7. Abiotic Resources: includes environmental impacts from mining.\n",
    "8. Biodiversity: captures land use and toxicity.\n",
    "\n",
    "This information was taken from the dataset source linked in the main readme of this repository."
   ]
  },
  {
   "cell_type": "code",
   "execution_count": 2,
   "metadata": {},
   "outputs": [],
   "source": [
    "corp_env_impact_3pct = pd.read_csv('../../data/tabular_data/final_raw_sample_3_percent.csv')"
   ]
  },
  {
   "cell_type": "markdown",
   "metadata": {},
   "source": [
    "## Extraction, Transformation, Loading\n",
    "\n",
    " It is mentioned in the kaggle source that \"Each safeguard subject is made up of multiple impact categories and indicators, called state indicators, for measuring the current state of each safeguard subject (Life Cycle Initiative 2016; Steen and Palander 2016).\"\n",
    "\n",
    "Guidance given in the Kaggle source:\n",
    "\n",
    "'y' target:\n",
    "\n",
    "- Total Environmental Intensity (Revenue): The monetized environmental impact of the firm's operations during the specific year indicated in column A divided by revenue in that year.\n",
    "\n",
    "'X' features: \n",
    "\n",
    "- Column H: Working Capacity captures human health effects from climate change, air pollution, and toxicity.\n",
    "- Column I: Fish Production Capacity includes acidification, eutrophication, climate change, and toxicity.\n",
    "- Column J: Crop Production Capacity captures soil degradation, air pollution, climate change, and land use.\n",
    "- Column K: Meat Production Capacity includes soil degradation, climate change, land use, and toxicity.\n",
    "- Column L: Biodiversity captures land use and toxicity.\n",
    "- Column M: Abiotic Resources includes environmental impacts from mining.\n",
    "- Column N: Water production capacity captures climate change, land use, and water pollution.\n",
    "- Column O: Wood Production Capacity includes climate change, air pollution, and land use."
   ]
  },
  {
   "cell_type": "code",
   "execution_count": 3,
   "metadata": {},
   "outputs": [
    {
     "data": {
      "text/html": [
       "<div>\n",
       "<style scoped>\n",
       "    .dataframe tbody tr th:only-of-type {\n",
       "        vertical-align: middle;\n",
       "    }\n",
       "\n",
       "    .dataframe tbody tr th {\n",
       "        vertical-align: top;\n",
       "    }\n",
       "\n",
       "    .dataframe thead th {\n",
       "        text-align: right;\n",
       "    }\n",
       "</style>\n",
       "<table border=\"1\" class=\"dataframe\">\n",
       "  <thead>\n",
       "    <tr style=\"text-align: right;\">\n",
       "      <th></th>\n",
       "      <th>Year</th>\n",
       "      <th>Company Name</th>\n",
       "      <th>Country</th>\n",
       "      <th>Industry (Exiobase)</th>\n",
       "      <th>Total Environmental Intensity (Revenue)</th>\n",
       "      <th>Total Environmental Intensity (Operating Income)</th>\n",
       "      <th>Total Environmental Cost</th>\n",
       "      <th>Working Capacity</th>\n",
       "      <th>Fish Production Capacity</th>\n",
       "      <th>Crop Production Capacity</th>\n",
       "      <th>Meat Production Capacity</th>\n",
       "      <th>Biodiversity</th>\n",
       "      <th>Abiotic Resources</th>\n",
       "      <th>Water production capacity (Drinking water &amp; Irrigation Water)</th>\n",
       "      <th>Wood Production Capacity</th>\n",
       "      <th>% Imputed</th>\n",
       "    </tr>\n",
       "  </thead>\n",
       "  <tbody>\n",
       "    <tr>\n",
       "      <th>567</th>\n",
       "      <td>2018</td>\n",
       "      <td>KISCO CORPORATION</td>\n",
       "      <td>South Korea</td>\n",
       "      <td>Manufacture of basic iron and steel and of fer...</td>\n",
       "      <td>-12.87%</td>\n",
       "      <td>-393.84%</td>\n",
       "      <td>(8,99,06,545)</td>\n",
       "      <td>(7,68,05,412)</td>\n",
       "      <td>(17,412)</td>\n",
       "      <td>(7,07,477)</td>\n",
       "      <td>(1,60,871)</td>\n",
       "      <td>(2,947)</td>\n",
       "      <td>(87,63,233)</td>\n",
       "      <td>(34,60,430)</td>\n",
       "      <td>11,238</td>\n",
       "      <td>38%</td>\n",
       "    </tr>\n",
       "    <tr>\n",
       "      <th>6499</th>\n",
       "      <td>2015</td>\n",
       "      <td>VISCOFAN SA</td>\n",
       "      <td>Spain</td>\n",
       "      <td>Processing of Food products nec</td>\n",
       "      <td>-8.33%</td>\n",
       "      <td>-40.14%</td>\n",
       "      <td>(6,69,86,147)</td>\n",
       "      <td>(6,05,42,750)</td>\n",
       "      <td>(14,010)</td>\n",
       "      <td>(8,04,400)</td>\n",
       "      <td>(1,88,167)</td>\n",
       "      <td>(2,547)</td>\n",
       "      <td>(1,826)</td>\n",
       "      <td>(54,33,357)</td>\n",
       "      <td>909</td>\n",
       "      <td>7%</td>\n",
       "    </tr>\n",
       "    <tr>\n",
       "      <th>12627</th>\n",
       "      <td>2010</td>\n",
       "      <td>CVS HEALTH CORP</td>\n",
       "      <td>United States</td>\n",
       "      <td>Manufacture of medical,precision and optical i...</td>\n",
       "      <td>-0.29%</td>\n",
       "      <td>-4.47%</td>\n",
       "      <td>(27,57,09,523)</td>\n",
       "      <td>(19,35,73,214)</td>\n",
       "      <td>(58,862)</td>\n",
       "      <td>(24,05,511)</td>\n",
       "      <td>(4,98,666)</td>\n",
       "      <td>(11,300)</td>\n",
       "      <td>(2,54,698)</td>\n",
       "      <td>(7,90,29,896)</td>\n",
       "      <td>1,22,625</td>\n",
       "      <td>2%</td>\n",
       "    </tr>\n",
       "  </tbody>\n",
       "</table>\n",
       "</div>"
      ],
      "text/plain": [
       "       Year       Company Name        Country  \\\n",
       "567    2018  KISCO CORPORATION    South Korea   \n",
       "6499   2015        VISCOFAN SA          Spain   \n",
       "12627  2010    CVS HEALTH CORP  United States   \n",
       "\n",
       "                                     Industry (Exiobase)  \\\n",
       "567    Manufacture of basic iron and steel and of fer...   \n",
       "6499                     Processing of Food products nec   \n",
       "12627  Manufacture of medical,precision and optical i...   \n",
       "\n",
       "      Total Environmental Intensity (Revenue)  \\\n",
       "567                                   -12.87%   \n",
       "6499                                   -8.33%   \n",
       "12627                                  -0.29%   \n",
       "\n",
       "      Total Environmental Intensity (Operating Income)  \\\n",
       "567                                           -393.84%   \n",
       "6499                                           -40.14%   \n",
       "12627                                           -4.47%   \n",
       "\n",
       "      Total Environmental Cost Working Capacity Fish Production Capacity  \\\n",
       "567              (8,99,06,545)    (7,68,05,412)                 (17,412)   \n",
       "6499             (6,69,86,147)    (6,05,42,750)                 (14,010)   \n",
       "12627           (27,57,09,523)   (19,35,73,214)                 (58,862)   \n",
       "\n",
       "      Crop Production Capacity Meat Production Capacity Biodiversity  \\\n",
       "567                 (7,07,477)               (1,60,871)      (2,947)   \n",
       "6499                (8,04,400)               (1,88,167)      (2,547)   \n",
       "12627              (24,05,511)               (4,98,666)     (11,300)   \n",
       "\n",
       "      Abiotic Resources  \\\n",
       "567         (87,63,233)   \n",
       "6499            (1,826)   \n",
       "12627        (2,54,698)   \n",
       "\n",
       "      Water production capacity (Drinking water & Irrigation Water)  \\\n",
       "567                                          (34,60,430)              \n",
       "6499                                         (54,33,357)              \n",
       "12627                                      (7,90,29,896)              \n",
       "\n",
       "      Wood Production Capacity % Imputed  \n",
       "567                    11,238        38%  \n",
       "6499                       909        7%  \n",
       "12627                1,22,625         2%  "
      ]
     },
     "execution_count": 3,
     "metadata": {},
     "output_type": "execute_result"
    }
   ],
   "source": [
    "corp_env_impact_3pct.sample(3)"
   ]
  },
  {
   "cell_type": "code",
   "execution_count": 4,
   "metadata": {},
   "outputs": [
    {
     "data": {
      "text/html": [
       "<div>\n",
       "<style scoped>\n",
       "    .dataframe tbody tr th:only-of-type {\n",
       "        vertical-align: middle;\n",
       "    }\n",
       "\n",
       "    .dataframe tbody tr th {\n",
       "        vertical-align: top;\n",
       "    }\n",
       "\n",
       "    .dataframe thead th {\n",
       "        text-align: right;\n",
       "    }\n",
       "</style>\n",
       "<table border=\"1\" class=\"dataframe\">\n",
       "  <thead>\n",
       "    <tr style=\"text-align: right;\">\n",
       "      <th></th>\n",
       "      <th>working_capacity</th>\n",
       "      <th>fish_production_capacity</th>\n",
       "      <th>crop_production_capacity</th>\n",
       "      <th>meat_production_capacity</th>\n",
       "      <th>biodiversity</th>\n",
       "      <th>abiotic_resources</th>\n",
       "      <th>water_production_capacity_(drinking_water_&amp;_irrigation_water)</th>\n",
       "    </tr>\n",
       "  </thead>\n",
       "  <tbody>\n",
       "    <tr>\n",
       "      <th>0</th>\n",
       "      <td>(69, 39, 394)</td>\n",
       "      <td>(1, 763)</td>\n",
       "      <td>(90, 516)</td>\n",
       "      <td>(21, 94)</td>\n",
       "      <td>(310,)</td>\n",
       "      <td>(3, 850)</td>\n",
       "      <td>(2, 40, 3, 212)</td>\n",
       "    </tr>\n",
       "    <tr>\n",
       "      <th>1</th>\n",
       "      <td>(1, 75, 76, 865)</td>\n",
       "      <td>(4, 191)</td>\n",
       "      <td>(2, 34, 20)</td>\n",
       "      <td>(54, 603)</td>\n",
       "      <td>(766,)</td>\n",
       "      <td>(3, 661)</td>\n",
       "      <td>(56, 57, 645)</td>\n",
       "    </tr>\n",
       "    <tr>\n",
       "      <th>2</th>\n",
       "      <td>(1, 83, 85, 456)</td>\n",
       "      <td>(4, 273)</td>\n",
       "      <td>(2, 43, 627)</td>\n",
       "      <td>(56, 860)</td>\n",
       "      <td>(783,)</td>\n",
       "      <td>(3, 489)</td>\n",
       "      <td>(33, 90, 60)</td>\n",
       "    </tr>\n",
       "    <tr>\n",
       "      <th>3</th>\n",
       "      <td>(1, 93, 12, 582)</td>\n",
       "      <td>(4, 522)</td>\n",
       "      <td>(2, 56, 694)</td>\n",
       "      <td>(60, 89)</td>\n",
       "      <td>(820,)</td>\n",
       "      <td>(3, 428)</td>\n",
       "      <td>(1, 5, 662)</td>\n",
       "    </tr>\n",
       "    <tr>\n",
       "      <th>4</th>\n",
       "      <td>(91, 62, 390)</td>\n",
       "      <td>(3, 149)</td>\n",
       "      <td>(1, 26, 821)</td>\n",
       "      <td>(28, 623)</td>\n",
       "      <td>(597,)</td>\n",
       "      <td>(1, 94, 781)</td>\n",
       "      <td>(47, 45, 756)</td>\n",
       "    </tr>\n",
       "  </tbody>\n",
       "</table>\n",
       "</div>"
      ],
      "text/plain": [
       "   working_capacity fish_production_capacity crop_production_capacity  \\\n",
       "0     (69, 39, 394)                 (1, 763)                (90, 516)   \n",
       "1  (1, 75, 76, 865)                 (4, 191)              (2, 34, 20)   \n",
       "2  (1, 83, 85, 456)                 (4, 273)             (2, 43, 627)   \n",
       "3  (1, 93, 12, 582)                 (4, 522)             (2, 56, 694)   \n",
       "4     (91, 62, 390)                 (3, 149)             (1, 26, 821)   \n",
       "\n",
       "  meat_production_capacity biodiversity abiotic_resources  \\\n",
       "0                 (21, 94)       (310,)          (3, 850)   \n",
       "1                (54, 603)       (766,)          (3, 661)   \n",
       "2                (56, 860)       (783,)          (3, 489)   \n",
       "3                 (60, 89)       (820,)          (3, 428)   \n",
       "4                (28, 623)       (597,)      (1, 94, 781)   \n",
       "\n",
       "  water_production_capacity_(drinking_water_&_irrigation_water)  \n",
       "0                                    (2, 40, 3, 212)             \n",
       "1                                      (56, 57, 645)             \n",
       "2                                       (33, 90, 60)             \n",
       "3                                        (1, 5, 662)             \n",
       "4                                      (47, 45, 756)             "
      ]
     },
     "execution_count": 4,
     "metadata": {},
     "output_type": "execute_result"
    }
   ],
   "source": [
    "env_features = corp_env_impact_3pct.iloc[:, 7: 14]\n",
    "# convert the features from str tuple into numerical tuple\n",
    "for col in env_features.columns:\n",
    "    env_features[col] = env_features[col].apply(lambda x: tuple(map(int, re.findall(r'\\d+', x))))\n",
    "env_features.columns = [x.lower().replace(' ', '_') for x in env_features.columns]\n",
    "env_features.head()"
   ]
  },
  {
   "cell_type": "code",
   "execution_count": 5,
   "metadata": {},
   "outputs": [],
   "source": [
    "def split_env_feature(feature):\n",
    "    col_name = feature.name\n",
    "    calculate_median_tuple_len = feature.apply(len)\n",
    "    # to calculate the average per idx\n",
    "    med_ind_map = {f'{col_name}_{x}':0 for x in range(int(calculate_median_tuple_len.median()))}\n",
    "    num_vals_per_idx = med_ind_map.copy()\n",
    "    # to hold the new features\n",
    "    features = {col:[] for col in med_ind_map.keys()}\n",
    "    def calculate_mean_by_tuple_ind(row,sum_map = med_ind_map,total_n_map=num_vals_per_idx, num_idx = len(features.keys()), features=features):\n",
    "        for i in range(num_idx):\n",
    "            if i < len(row):\n",
    "                sum_map[list(sum_map.keys())[i]] += row[i]\n",
    "                total_n_map[list(sum_map.keys())[i]] += 1\n",
    "                features[list(features.keys())[i]].append(row[i])\n",
    "            else:\n",
    "                features[list(features.keys())[i]].append(np.nan)\n",
    "    feature.apply(calculate_mean_by_tuple_ind)\n",
    "    features = pd.DataFrame(features)\n",
    "    med_ind_map = {idx_sum[0]:idx_sum[1]/num_vals_per_idx[idx_sum[0]] for idx_sum in med_ind_map.items()}\n",
    "\n",
    "    # filling in the mean for each split feature using the med_ind_map\n",
    "    for feature_name in features.columns:\n",
    "        features[feature_name].fillna(med_ind_map[feature_name], inplace=True)\n",
    "\n",
    "    return features"
   ]
  },
  {
   "cell_type": "code",
   "execution_count": 6,
   "metadata": {},
   "outputs": [],
   "source": [
    "corp_safeguard_split = None\n",
    "for col in env_features.columns:\n",
    "    if isinstance(corp_safeguard_split, type(None)):\n",
    "        corp_safeguard_split = split_env_feature(env_features[col])\n",
    "    else:\n",
    "        corp_safeguard_split = pd.concat([corp_safeguard_split,split_env_feature(env_features[col])], axis=1)"
   ]
  },
  {
   "cell_type": "code",
   "execution_count": 7,
   "metadata": {},
   "outputs": [],
   "source": [
    "corp_safeguard_split['Year'] = corp_env_impact_3pct.Year\n",
    "corp_safeguard_split['Company Name'] = corp_env_impact_3pct['Company Name']\n",
    "corp_safeguard_split['target'] = corp_env_impact_3pct['Total Environmental Intensity (Operating Income)']"
   ]
  },
  {
   "cell_type": "code",
   "execution_count": 8,
   "metadata": {},
   "outputs": [],
   "source": [
    "# used to convert the target column to a float percent\n",
    "def text_percent_to_numeric(text_percent):\n",
    "    if isinstance(text_percent, type(np.nan)):\n",
    "        return np.nan\n",
    "    # Remove percentage sign and convert to float\n",
    "    numeric_value = float(text_percent.strip('%'))\n",
    "    # Convert to decimal representation\n",
    "    numeric_value /= 100\n",
    "    return numeric_value"
   ]
  },
  {
   "cell_type": "code",
   "execution_count": 9,
   "metadata": {},
   "outputs": [],
   "source": [
    "corp_safeguard_split['target'] = corp_safeguard_split['target'].apply(text_percent_to_numeric)"
   ]
  },
  {
   "cell_type": "code",
   "execution_count": 10,
   "metadata": {},
   "outputs": [
    {
     "data": {
      "text/html": [
       "<div>\n",
       "<style scoped>\n",
       "    .dataframe tbody tr th:only-of-type {\n",
       "        vertical-align: middle;\n",
       "    }\n",
       "\n",
       "    .dataframe tbody tr th {\n",
       "        vertical-align: top;\n",
       "    }\n",
       "\n",
       "    .dataframe thead th {\n",
       "        text-align: right;\n",
       "    }\n",
       "</style>\n",
       "<table border=\"1\" class=\"dataframe\">\n",
       "  <thead>\n",
       "    <tr style=\"text-align: right;\">\n",
       "      <th></th>\n",
       "      <th>working_capacity_0</th>\n",
       "      <th>working_capacity_1</th>\n",
       "      <th>working_capacity_2</th>\n",
       "      <th>working_capacity_3</th>\n",
       "      <th>fish_production_capacity_0</th>\n",
       "      <th>fish_production_capacity_1</th>\n",
       "      <th>crop_production_capacity_0</th>\n",
       "      <th>crop_production_capacity_1</th>\n",
       "      <th>crop_production_capacity_2</th>\n",
       "      <th>meat_production_capacity_0</th>\n",
       "      <th>...</th>\n",
       "      <th>biodiversity_0</th>\n",
       "      <th>biodiversity_1</th>\n",
       "      <th>abiotic_resources_0</th>\n",
       "      <th>abiotic_resources_1</th>\n",
       "      <th>water_production_capacity_(drinking_water_&amp;_irrigation_water)_0</th>\n",
       "      <th>water_production_capacity_(drinking_water_&amp;_irrigation_water)_1</th>\n",
       "      <th>water_production_capacity_(drinking_water_&amp;_irrigation_water)_2</th>\n",
       "      <th>Year</th>\n",
       "      <th>Company Name</th>\n",
       "      <th>target</th>\n",
       "    </tr>\n",
       "  </thead>\n",
       "  <tbody>\n",
       "    <tr>\n",
       "      <th>0</th>\n",
       "      <td>69</td>\n",
       "      <td>39</td>\n",
       "      <td>394.0</td>\n",
       "      <td>445.799955</td>\n",
       "      <td>1</td>\n",
       "      <td>763.0</td>\n",
       "      <td>90</td>\n",
       "      <td>516.0</td>\n",
       "      <td>437.036571</td>\n",
       "      <td>21</td>\n",
       "      <td>...</td>\n",
       "      <td>310</td>\n",
       "      <td>418.64977</td>\n",
       "      <td>3.0</td>\n",
       "      <td>850.0</td>\n",
       "      <td>2</td>\n",
       "      <td>40.0</td>\n",
       "      <td>3.0</td>\n",
       "      <td>2018</td>\n",
       "      <td>APPLUS SERVICES SA</td>\n",
       "      <td>-0.2512</td>\n",
       "    </tr>\n",
       "    <tr>\n",
       "      <th>1</th>\n",
       "      <td>1</td>\n",
       "      <td>75</td>\n",
       "      <td>76.0</td>\n",
       "      <td>865.000000</td>\n",
       "      <td>4</td>\n",
       "      <td>191.0</td>\n",
       "      <td>2</td>\n",
       "      <td>34.0</td>\n",
       "      <td>20.000000</td>\n",
       "      <td>54</td>\n",
       "      <td>...</td>\n",
       "      <td>766</td>\n",
       "      <td>418.64977</td>\n",
       "      <td>3.0</td>\n",
       "      <td>661.0</td>\n",
       "      <td>56</td>\n",
       "      <td>57.0</td>\n",
       "      <td>645.0</td>\n",
       "      <td>2018</td>\n",
       "      <td>TELEPERFORMANCE SE</td>\n",
       "      <td>-0.0428</td>\n",
       "    </tr>\n",
       "    <tr>\n",
       "      <th>2</th>\n",
       "      <td>1</td>\n",
       "      <td>83</td>\n",
       "      <td>85.0</td>\n",
       "      <td>456.000000</td>\n",
       "      <td>4</td>\n",
       "      <td>273.0</td>\n",
       "      <td>2</td>\n",
       "      <td>43.0</td>\n",
       "      <td>627.000000</td>\n",
       "      <td>56</td>\n",
       "      <td>...</td>\n",
       "      <td>783</td>\n",
       "      <td>418.64977</td>\n",
       "      <td>3.0</td>\n",
       "      <td>489.0</td>\n",
       "      <td>33</td>\n",
       "      <td>90.0</td>\n",
       "      <td>60.0</td>\n",
       "      <td>2018</td>\n",
       "      <td>SGS SA</td>\n",
       "      <td>-0.0213</td>\n",
       "    </tr>\n",
       "    <tr>\n",
       "      <th>3</th>\n",
       "      <td>1</td>\n",
       "      <td>93</td>\n",
       "      <td>12.0</td>\n",
       "      <td>582.000000</td>\n",
       "      <td>4</td>\n",
       "      <td>522.0</td>\n",
       "      <td>2</td>\n",
       "      <td>56.0</td>\n",
       "      <td>694.000000</td>\n",
       "      <td>60</td>\n",
       "      <td>...</td>\n",
       "      <td>820</td>\n",
       "      <td>418.64977</td>\n",
       "      <td>3.0</td>\n",
       "      <td>428.0</td>\n",
       "      <td>1</td>\n",
       "      <td>5.0</td>\n",
       "      <td>662.0</td>\n",
       "      <td>2018</td>\n",
       "      <td>INTERTEK GROUP PLC</td>\n",
       "      <td>-0.0339</td>\n",
       "    </tr>\n",
       "    <tr>\n",
       "      <th>4</th>\n",
       "      <td>91</td>\n",
       "      <td>62</td>\n",
       "      <td>390.0</td>\n",
       "      <td>445.799955</td>\n",
       "      <td>3</td>\n",
       "      <td>149.0</td>\n",
       "      <td>1</td>\n",
       "      <td>26.0</td>\n",
       "      <td>821.000000</td>\n",
       "      <td>28</td>\n",
       "      <td>...</td>\n",
       "      <td>597</td>\n",
       "      <td>418.64977</td>\n",
       "      <td>1.0</td>\n",
       "      <td>94.0</td>\n",
       "      <td>47</td>\n",
       "      <td>45.0</td>\n",
       "      <td>756.0</td>\n",
       "      <td>2018</td>\n",
       "      <td>THOMSON REUTERS CORP</td>\n",
       "      <td>-0.0191</td>\n",
       "    </tr>\n",
       "  </tbody>\n",
       "</table>\n",
       "<p>5 rows × 21 columns</p>\n",
       "</div>"
      ],
      "text/plain": [
       "   working_capacity_0  working_capacity_1  working_capacity_2  \\\n",
       "0                  69                  39               394.0   \n",
       "1                   1                  75                76.0   \n",
       "2                   1                  83                85.0   \n",
       "3                   1                  93                12.0   \n",
       "4                  91                  62               390.0   \n",
       "\n",
       "   working_capacity_3  fish_production_capacity_0  fish_production_capacity_1  \\\n",
       "0          445.799955                           1                       763.0   \n",
       "1          865.000000                           4                       191.0   \n",
       "2          456.000000                           4                       273.0   \n",
       "3          582.000000                           4                       522.0   \n",
       "4          445.799955                           3                       149.0   \n",
       "\n",
       "   crop_production_capacity_0  crop_production_capacity_1  \\\n",
       "0                          90                       516.0   \n",
       "1                           2                        34.0   \n",
       "2                           2                        43.0   \n",
       "3                           2                        56.0   \n",
       "4                           1                        26.0   \n",
       "\n",
       "   crop_production_capacity_2  meat_production_capacity_0  ...  \\\n",
       "0                  437.036571                          21  ...   \n",
       "1                   20.000000                          54  ...   \n",
       "2                  627.000000                          56  ...   \n",
       "3                  694.000000                          60  ...   \n",
       "4                  821.000000                          28  ...   \n",
       "\n",
       "   biodiversity_0  biodiversity_1  abiotic_resources_0  abiotic_resources_1  \\\n",
       "0             310       418.64977                  3.0                850.0   \n",
       "1             766       418.64977                  3.0                661.0   \n",
       "2             783       418.64977                  3.0                489.0   \n",
       "3             820       418.64977                  3.0                428.0   \n",
       "4             597       418.64977                  1.0                 94.0   \n",
       "\n",
       "   water_production_capacity_(drinking_water_&_irrigation_water)_0  \\\n",
       "0                                                  2                 \n",
       "1                                                 56                 \n",
       "2                                                 33                 \n",
       "3                                                  1                 \n",
       "4                                                 47                 \n",
       "\n",
       "   water_production_capacity_(drinking_water_&_irrigation_water)_1  \\\n",
       "0                                               40.0                 \n",
       "1                                               57.0                 \n",
       "2                                               90.0                 \n",
       "3                                                5.0                 \n",
       "4                                               45.0                 \n",
       "\n",
       "   water_production_capacity_(drinking_water_&_irrigation_water)_2  Year  \\\n",
       "0                                                3.0                2018   \n",
       "1                                              645.0                2018   \n",
       "2                                               60.0                2018   \n",
       "3                                              662.0                2018   \n",
       "4                                              756.0                2018   \n",
       "\n",
       "           Company Name  target  \n",
       "0    APPLUS SERVICES SA -0.2512  \n",
       "1    TELEPERFORMANCE SE -0.0428  \n",
       "2                SGS SA -0.0213  \n",
       "3    INTERTEK GROUP PLC -0.0339  \n",
       "4  THOMSON REUTERS CORP -0.0191  \n",
       "\n",
       "[5 rows x 21 columns]"
      ]
     },
     "execution_count": 10,
     "metadata": {},
     "output_type": "execute_result"
    }
   ],
   "source": [
    "corp_safeguard_split.head()"
   ]
  },
  {
   "cell_type": "markdown",
   "metadata": {},
   "source": [
    "## Model Training & Inference\n",
    "I will be using the pre-trained BERT Tapas model specifically trained for question answering on tabular data. This model is imported using the transformers library and is sourced from [HuggingFace](https://huggingface.co/docs/transformers/v4.38.2/en/model_doc/tapas#transformers.TapasForQuestionAnswering). The model will then be fine-tuned using the data I prepared and text queries will be prompted for evaluation in the same step."
   ]
  },
  {
   "cell_type": "code",
   "execution_count": 11,
   "metadata": {},
   "outputs": [
    {
     "name": "stderr",
     "output_type": "stream",
     "text": [
      "/Users/mocha/miniconda3/envs/mamba/envs/fastai_env/lib/python3.8/site-packages/transformers/utils/generic.py:311: UserWarning: torch.utils._pytree._register_pytree_node is deprecated. Please use torch.utils._pytree.register_pytree_node instead.\n",
      "  torch.utils._pytree._register_pytree_node(\n"
     ]
    }
   ],
   "source": [
    "from transformers import TapexTokenizer, BartForConditionalGeneration, pipeline"
   ]
  },
  {
   "cell_type": "code",
   "execution_count": 12,
   "metadata": {},
   "outputs": [
    {
     "data": {
      "text/plain": [
       "2017    0.135539\n",
       "2018    0.134856\n",
       "2016    0.131138\n",
       "2015    0.122334\n",
       "2014    0.113000\n",
       "2013    0.105411\n",
       "2012    0.096456\n",
       "2011    0.084921\n",
       "2010    0.076345\n",
       "Name: Year, dtype: float64"
      ]
     },
     "execution_count": 12,
     "metadata": {},
     "output_type": "execute_result"
    }
   ],
   "source": [
    "corp_safeguard_split.Year.value_counts(normalize=True) # we will create a training condition using data before 2018"
   ]
  },
  {
   "cell_type": "code",
   "execution_count": 13,
   "metadata": {},
   "outputs": [
    {
     "data": {
      "text/plain": [
       "Index(['working_capacity_0', 'working_capacity_1', 'working_capacity_2',\n",
       "       'working_capacity_3', 'fish_production_capacity_0',\n",
       "       'fish_production_capacity_1', 'crop_production_capacity_0',\n",
       "       'crop_production_capacity_1', 'crop_production_capacity_2',\n",
       "       'meat_production_capacity_0', 'meat_production_capacity_1',\n",
       "       'biodiversity_0', 'biodiversity_1', 'abiotic_resources_0',\n",
       "       'abiotic_resources_1',\n",
       "       'water_production_capacity_(drinking_water_&_irrigation_water)_0',\n",
       "       'water_production_capacity_(drinking_water_&_irrigation_water)_1',\n",
       "       'water_production_capacity_(drinking_water_&_irrigation_water)_2',\n",
       "       'Year', 'Company Name', 'target'],\n",
       "      dtype='object')"
      ]
     },
     "execution_count": 13,
     "metadata": {},
     "output_type": "execute_result"
    }
   ],
   "source": [
    "corp_safeguard_split.columns"
   ]
  },
  {
   "cell_type": "code",
   "execution_count": 489,
   "metadata": {},
   "outputs": [],
   "source": [
    "corp_safeguard_split.to_csv('../../data/tabular_data/corp_safeguard_split.csv', index=False)"
   ]
  },
  {
   "cell_type": "code",
   "execution_count": 377,
   "metadata": {},
   "outputs": [],
   "source": [
    "corp_safeguard_split_train = corp_safeguard_split.copy().where(corp_safeguard_split.Year < 2018).dropna(how='all')\n",
    "corp_safeguard_split_test = corp_safeguard_split.copy().where(corp_safeguard_split.Year >= 2018).dropna(how='all')"
   ]
  },
  {
   "cell_type": "code",
   "execution_count": 378,
   "metadata": {},
   "outputs": [
    {
     "name": "stdout",
     "output_type": "stream",
     "text": [
      "(11400, 21)\n",
      "(1777, 21)\n"
     ]
    }
   ],
   "source": [
    "print(corp_safeguard_split_train.shape)\n",
    "print(corp_safeguard_split_test.shape)"
   ]
  },
  {
   "cell_type": "markdown",
   "metadata": {},
   "source": [
    "### Converting the numerical columns into text\n",
    "From looking at the model documentation, it seems text large language models prefer numbers to be formatted as strings. I will do that right before input to the model."
   ]
  },
  {
   "cell_type": "code",
   "execution_count": 347,
   "metadata": {},
   "outputs": [],
   "source": [
    "tokenizer = TapexTokenizer.from_pretrained(\"microsoft/tapex-large-finetuned-wtq\")"
   ]
  },
  {
   "cell_type": "code",
   "execution_count": 348,
   "metadata": {},
   "outputs": [],
   "source": [
    "model = BartForConditionalGeneration.from_pretrained(\"microsoft/tapex-large-finetuned-wtq\")"
   ]
  },
  {
   "cell_type": "code",
   "execution_count": 381,
   "metadata": {},
   "outputs": [],
   "source": [
    "corp_safeguard_split_test = corp_safeguard_split_test.astype(str)"
   ]
  },
  {
   "cell_type": "code",
   "execution_count": 458,
   "metadata": {},
   "outputs": [],
   "source": [
    "question_sample = corp_safeguard_split_test.loc[:50,['Company Name', 'biodiversity_0']]"
   ]
  },
  {
   "cell_type": "code",
   "execution_count": 459,
   "metadata": {},
   "outputs": [
    {
     "data": {
      "text/html": [
       "<div>\n",
       "<style scoped>\n",
       "    .dataframe tbody tr th:only-of-type {\n",
       "        vertical-align: middle;\n",
       "    }\n",
       "\n",
       "    .dataframe tbody tr th {\n",
       "        vertical-align: top;\n",
       "    }\n",
       "\n",
       "    .dataframe thead th {\n",
       "        text-align: right;\n",
       "    }\n",
       "</style>\n",
       "<table border=\"1\" class=\"dataframe\">\n",
       "  <thead>\n",
       "    <tr style=\"text-align: right;\">\n",
       "      <th></th>\n",
       "      <th>Company Name</th>\n",
       "      <th>biodiversity_0</th>\n",
       "    </tr>\n",
       "  </thead>\n",
       "  <tbody>\n",
       "    <tr>\n",
       "      <th>0</th>\n",
       "      <td>APPLUS SERVICES SA</td>\n",
       "      <td>310.0</td>\n",
       "    </tr>\n",
       "    <tr>\n",
       "      <th>1</th>\n",
       "      <td>TELEPERFORMANCE SE</td>\n",
       "      <td>766.0</td>\n",
       "    </tr>\n",
       "    <tr>\n",
       "      <th>2</th>\n",
       "      <td>SGS SA</td>\n",
       "      <td>783.0</td>\n",
       "    </tr>\n",
       "    <tr>\n",
       "      <th>3</th>\n",
       "      <td>INTERTEK GROUP PLC</td>\n",
       "      <td>820.0</td>\n",
       "    </tr>\n",
       "    <tr>\n",
       "      <th>4</th>\n",
       "      <td>THOMSON REUTERS CORP</td>\n",
       "      <td>597.0</td>\n",
       "    </tr>\n",
       "  </tbody>\n",
       "</table>\n",
       "</div>"
      ],
      "text/plain": [
       "           Company Name biodiversity_0\n",
       "0    APPLUS SERVICES SA          310.0\n",
       "1    TELEPERFORMANCE SE          766.0\n",
       "2                SGS SA          783.0\n",
       "3    INTERTEK GROUP PLC          820.0\n",
       "4  THOMSON REUTERS CORP          597.0"
      ]
     },
     "execution_count": 459,
     "metadata": {},
     "output_type": "execute_result"
    }
   ],
   "source": [
    "question_sample.head()"
   ]
  },
  {
   "cell_type": "code",
   "execution_count": 460,
   "metadata": {},
   "outputs": [
    {
     "data": {
      "text/plain": [
       "(51, 2)"
      ]
     },
     "execution_count": 460,
     "metadata": {},
     "output_type": "execute_result"
    }
   ],
   "source": [
    "question_sample.shape"
   ]
  },
  {
   "cell_type": "code",
   "execution_count": 476,
   "metadata": {},
   "outputs": [],
   "source": [
    "queries = [\"Which hong kong company has a medium biodiversity value?\"]"
   ]
  },
  {
   "cell_type": "code",
   "execution_count": 481,
   "metadata": {},
   "outputs": [
    {
     "name": "stdout",
     "output_type": "stream",
     "text": [
      "Question:  Which hong kong company has a medium biodiversity value?\n",
      "[' nisshinbo holdings incorporated']\n",
      "Answer:  nisshinbo holdings incorporated\n"
     ]
    }
   ],
   "source": [
    "for question in queries:\n",
    "    print('Question: ', question)\n",
    "    encoding = tokenizer(question_sample, queries=question,return_tensors=\"pt\")\n",
    "    outputs = model.generate(**encoding)\n",
    "    result = tokenizer.batch_decode(outputs, skip_special_tokens=True)\n",
    "    print(result)\n",
    "    print('Answer: ', result[0].strip())"
   ]
  },
  {
   "cell_type": "code",
   "execution_count": 482,
   "metadata": {},
   "outputs": [],
   "source": [
    "search_pattern = r'^N.*HOLDINGS.*'\n",
    "result = question_sample[question_sample['Company Name'].str.contains(search_pattern, regex=True)]"
   ]
  },
  {
   "cell_type": "code",
   "execution_count": 483,
   "metadata": {},
   "outputs": [
    {
     "data": {
      "text/html": [
       "<div>\n",
       "<style scoped>\n",
       "    .dataframe tbody tr th:only-of-type {\n",
       "        vertical-align: middle;\n",
       "    }\n",
       "\n",
       "    .dataframe tbody tr th {\n",
       "        vertical-align: top;\n",
       "    }\n",
       "\n",
       "    .dataframe thead th {\n",
       "        text-align: right;\n",
       "    }\n",
       "</style>\n",
       "<table border=\"1\" class=\"dataframe\">\n",
       "  <thead>\n",
       "    <tr style=\"text-align: right;\">\n",
       "      <th></th>\n",
       "      <th>Company Name</th>\n",
       "      <th>biodiversity_0</th>\n",
       "    </tr>\n",
       "  </thead>\n",
       "  <tbody>\n",
       "    <tr>\n",
       "      <th>50</th>\n",
       "      <td>NISSHINBO HOLDINGS INCORPORATED</td>\n",
       "      <td>3.0</td>\n",
       "    </tr>\n",
       "  </tbody>\n",
       "</table>\n",
       "</div>"
      ],
      "text/plain": [
       "                       Company Name biodiversity_0\n",
       "50  NISSHINBO HOLDINGS INCORPORATED            3.0"
      ]
     },
     "execution_count": 483,
     "metadata": {},
     "output_type": "execute_result"
    }
   ],
   "source": [
    "result"
   ]
  },
  {
   "cell_type": "code",
   "execution_count": 484,
   "metadata": {},
   "outputs": [
    {
     "data": {
      "text/html": [
       "<div>\n",
       "<style scoped>\n",
       "    .dataframe tbody tr th:only-of-type {\n",
       "        vertical-align: middle;\n",
       "    }\n",
       "\n",
       "    .dataframe tbody tr th {\n",
       "        vertical-align: top;\n",
       "    }\n",
       "\n",
       "    .dataframe thead th {\n",
       "        text-align: right;\n",
       "    }\n",
       "</style>\n",
       "<table border=\"1\" class=\"dataframe\">\n",
       "  <thead>\n",
       "    <tr style=\"text-align: right;\">\n",
       "      <th></th>\n",
       "      <th>Company Name</th>\n",
       "      <th>biodiversity_0</th>\n",
       "    </tr>\n",
       "  </thead>\n",
       "  <tbody>\n",
       "    <tr>\n",
       "      <th>18</th>\n",
       "      <td>HONG KONG EXCHANGES AND CLEARING LIMITED</td>\n",
       "      <td>92.0</td>\n",
       "    </tr>\n",
       "    <tr>\n",
       "      <th>20</th>\n",
       "      <td>BALOISE HOLDING AG</td>\n",
       "      <td>87.0</td>\n",
       "    </tr>\n",
       "    <tr>\n",
       "      <th>19</th>\n",
       "      <td>RICARDO PLC</td>\n",
       "      <td>83.0</td>\n",
       "    </tr>\n",
       "    <tr>\n",
       "      <th>3</th>\n",
       "      <td>INTERTEK GROUP PLC</td>\n",
       "      <td>820.0</td>\n",
       "    </tr>\n",
       "    <tr>\n",
       "      <th>42</th>\n",
       "      <td>FAR EASTERN NEW CENTURY CORPORATION</td>\n",
       "      <td>8.0</td>\n",
       "    </tr>\n",
       "    <tr>\n",
       "      <th>2</th>\n",
       "      <td>SGS SA</td>\n",
       "      <td>783.0</td>\n",
       "    </tr>\n",
       "    <tr>\n",
       "      <th>1</th>\n",
       "      <td>TELEPERFORMANCE SE</td>\n",
       "      <td>766.0</td>\n",
       "    </tr>\n",
       "    <tr>\n",
       "      <th>21</th>\n",
       "      <td>ASX LIMITED</td>\n",
       "      <td>70.0</td>\n",
       "    </tr>\n",
       "    <tr>\n",
       "      <th>45</th>\n",
       "      <td>SIEMENS AG</td>\n",
       "      <td>7.0</td>\n",
       "    </tr>\n",
       "    <tr>\n",
       "      <th>23</th>\n",
       "      <td>HELVETIA HOLDING AG</td>\n",
       "      <td>63.0</td>\n",
       "    </tr>\n",
       "  </tbody>\n",
       "</table>\n",
       "</div>"
      ],
      "text/plain": [
       "                                Company Name biodiversity_0\n",
       "18  HONG KONG EXCHANGES AND CLEARING LIMITED           92.0\n",
       "20                        BALOISE HOLDING AG           87.0\n",
       "19                               RICARDO PLC           83.0\n",
       "3                         INTERTEK GROUP PLC          820.0\n",
       "42       FAR EASTERN NEW CENTURY CORPORATION            8.0\n",
       "2                                     SGS SA          783.0\n",
       "1                         TELEPERFORMANCE SE          766.0\n",
       "21                               ASX LIMITED           70.0\n",
       "45                                SIEMENS AG            7.0\n",
       "23                       HELVETIA HOLDING AG           63.0"
      ]
     },
     "execution_count": 484,
     "metadata": {},
     "output_type": "execute_result"
    }
   ],
   "source": [
    "question_sample.sort_values(by='biodiversity_0', ascending=False)[:10]"
   ]
  }
 ],
 "metadata": {
  "kernelspec": {
   "display_name": "fastai_env",
   "language": "python",
   "name": "python3"
  },
  "language_info": {
   "codemirror_mode": {
    "name": "ipython",
    "version": 3
   },
   "file_extension": ".py",
   "mimetype": "text/x-python",
   "name": "python",
   "nbconvert_exporter": "python",
   "pygments_lexer": "ipython3",
   "version": "3.8.18"
  }
 },
 "nbformat": 4,
 "nbformat_minor": 2
}
