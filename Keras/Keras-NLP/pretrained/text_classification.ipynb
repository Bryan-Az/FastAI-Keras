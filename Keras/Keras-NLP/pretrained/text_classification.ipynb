{
 "cells": [
  {
   "cell_type": "markdown",
   "metadata": {},
   "source": [
    "# Keras NLP: Text Classification\n",
    "In this notebook, I will use text classification techniques using the Keras machine learning library to classify text review data for Amazon fashion products."
   ]
  },
  {
   "cell_type": "markdown",
   "metadata": {},
   "source": [
    "## Imports"
   ]
  },
  {
   "cell_type": "code",
   "execution_count": 176,
   "metadata": {},
   "outputs": [],
   "source": [
    "# loads the libraries used in this notebook\n",
    "import tensorflow\n",
    "import tensorflow_text\n",
    "from tensorflow import feature_column\n",
    "import pandas as pd\n",
    "import numpy as np\n",
    "import os\n",
    "from sklearn.model_selection import train_test_split\n"
   ]
  },
  {
   "cell_type": "code",
   "execution_count": 9,
   "metadata": {},
   "outputs": [],
   "source": [
    "! pip install keras-nlp tensorflow==2.11 tensorflow-text==2.11 --upgrade -q\n",
    "os.environ[\"KERAS_BACKEND\"] = \"torch\"  # I will be using torch as it is a dependency in our environment.yml\n",
    "import keras_nlp\n",
    "import keras"
   ]
  },
  {
   "cell_type": "markdown",
   "metadata": {},
   "source": [
    "## The Data\n",
    "The dataset being used is the Amazon fashion reviews dataset from Julian McAuley's database from UC San Diego. "
   ]
  },
  {
   "cell_type": "code",
   "execution_count": 350,
   "metadata": {},
   "outputs": [],
   "source": [
    "fashion_reviews = pd.read_csv('../../../data/text_data/combined_preprocessed.csv')"
   ]
  },
  {
   "cell_type": "code",
   "execution_count": 411,
   "metadata": {},
   "outputs": [
    {
     "data": {
      "text/html": [
       "<div>\n",
       "<style scoped>\n",
       "    .dataframe tbody tr th:only-of-type {\n",
       "        vertical-align: middle;\n",
       "    }\n",
       "\n",
       "    .dataframe tbody tr th {\n",
       "        vertical-align: top;\n",
       "    }\n",
       "\n",
       "    .dataframe thead th {\n",
       "        text-align: right;\n",
       "    }\n",
       "</style>\n",
       "<table border=\"1\" class=\"dataframe\">\n",
       "  <thead>\n",
       "    <tr style=\"text-align: right;\">\n",
       "      <th></th>\n",
       "      <th>overall</th>\n",
       "      <th>reviewerID</th>\n",
       "      <th>asin</th>\n",
       "      <th>reviewText</th>\n",
       "      <th>summary</th>\n",
       "      <th>unixReviewTime</th>\n",
       "      <th>vote</th>\n",
       "      <th>Color1</th>\n",
       "      <th>Color2</th>\n",
       "      <th>Color3</th>\n",
       "      <th>...</th>\n",
       "      <th>Size</th>\n",
       "      <th>unixReviewTime.1</th>\n",
       "      <th>reviewTimeYear</th>\n",
       "      <th>reviewTimeMonth</th>\n",
       "      <th>reviewTimeWeek</th>\n",
       "      <th>reviewTimeDay</th>\n",
       "      <th>reviewTimeDayofweek</th>\n",
       "      <th>reviewTimeDayofyear</th>\n",
       "      <th>reviewTimeElapsed</th>\n",
       "      <th>sentiment</th>\n",
       "    </tr>\n",
       "  </thead>\n",
       "  <tbody>\n",
       "    <tr>\n",
       "      <th>0</th>\n",
       "      <td>5.0</td>\n",
       "      <td>ALJ66O1Y6SLHA</td>\n",
       "      <td>B000K2PJ4K</td>\n",
       "      <td>Great product and price!</td>\n",
       "      <td>Five Stars</td>\n",
       "      <td>1.441325e+09</td>\n",
       "      <td>0</td>\n",
       "      <td>Blue</td>\n",
       "      <td>Orange</td>\n",
       "      <td>missing</td>\n",
       "      <td>...</td>\n",
       "      <td>Big Boys</td>\n",
       "      <td>1.441325e+09</td>\n",
       "      <td>2015.0</td>\n",
       "      <td>9.0</td>\n",
       "      <td>36.0</td>\n",
       "      <td>4.0</td>\n",
       "      <td>4.0</td>\n",
       "      <td>247.0</td>\n",
       "      <td>1.441325e+09</td>\n",
       "      <td>1</td>\n",
       "    </tr>\n",
       "    <tr>\n",
       "      <th>1</th>\n",
       "      <td>5.0</td>\n",
       "      <td>ALJ66O1Y6SLHA</td>\n",
       "      <td>B000K2PJ4K</td>\n",
       "      <td>Great product and price!</td>\n",
       "      <td>Five Stars</td>\n",
       "      <td>1.441325e+09</td>\n",
       "      <td>0</td>\n",
       "      <td>Black (37467610)</td>\n",
       "      <td>Red</td>\n",
       "      <td>White</td>\n",
       "      <td>...</td>\n",
       "      <td>Big Boys</td>\n",
       "      <td>1.441325e+09</td>\n",
       "      <td>2015.0</td>\n",
       "      <td>9.0</td>\n",
       "      <td>36.0</td>\n",
       "      <td>4.0</td>\n",
       "      <td>4.0</td>\n",
       "      <td>247.0</td>\n",
       "      <td>1.441325e+09</td>\n",
       "      <td>1</td>\n",
       "    </tr>\n",
       "    <tr>\n",
       "      <th>2</th>\n",
       "      <td>5.0</td>\n",
       "      <td>ALJ66O1Y6SLHA</td>\n",
       "      <td>B000K2PJ4K</td>\n",
       "      <td>Great product and price!</td>\n",
       "      <td>Five Stars</td>\n",
       "      <td>1.441325e+09</td>\n",
       "      <td>0</td>\n",
       "      <td>Blue</td>\n",
       "      <td>Gray Logo</td>\n",
       "      <td>missing</td>\n",
       "      <td>...</td>\n",
       "      <td>Big Boys</td>\n",
       "      <td>1.441325e+09</td>\n",
       "      <td>2015.0</td>\n",
       "      <td>9.0</td>\n",
       "      <td>36.0</td>\n",
       "      <td>4.0</td>\n",
       "      <td>4.0</td>\n",
       "      <td>247.0</td>\n",
       "      <td>1.441325e+09</td>\n",
       "      <td>1</td>\n",
       "    </tr>\n",
       "    <tr>\n",
       "      <th>3</th>\n",
       "      <td>5.0</td>\n",
       "      <td>ALJ66O1Y6SLHA</td>\n",
       "      <td>B000K2PJ4K</td>\n",
       "      <td>Great product and price!</td>\n",
       "      <td>Five Stars</td>\n",
       "      <td>1.441325e+09</td>\n",
       "      <td>0</td>\n",
       "      <td>Blue (37867638-99)</td>\n",
       "      <td>Yellow</td>\n",
       "      <td>missing</td>\n",
       "      <td>...</td>\n",
       "      <td>Big Boys</td>\n",
       "      <td>1.441325e+09</td>\n",
       "      <td>2015.0</td>\n",
       "      <td>9.0</td>\n",
       "      <td>36.0</td>\n",
       "      <td>4.0</td>\n",
       "      <td>4.0</td>\n",
       "      <td>247.0</td>\n",
       "      <td>1.441325e+09</td>\n",
       "      <td>1</td>\n",
       "    </tr>\n",
       "    <tr>\n",
       "      <th>4</th>\n",
       "      <td>5.0</td>\n",
       "      <td>ALJ66O1Y6SLHA</td>\n",
       "      <td>B000K2PJ4K</td>\n",
       "      <td>Great product and price!</td>\n",
       "      <td>Five Stars</td>\n",
       "      <td>1.441325e+09</td>\n",
       "      <td>0</td>\n",
       "      <td>Blue</td>\n",
       "      <td>Pink</td>\n",
       "      <td>missing</td>\n",
       "      <td>...</td>\n",
       "      <td>Big Boys</td>\n",
       "      <td>1.441325e+09</td>\n",
       "      <td>2015.0</td>\n",
       "      <td>9.0</td>\n",
       "      <td>36.0</td>\n",
       "      <td>4.0</td>\n",
       "      <td>4.0</td>\n",
       "      <td>247.0</td>\n",
       "      <td>1.441325e+09</td>\n",
       "      <td>1</td>\n",
       "    </tr>\n",
       "  </tbody>\n",
       "</table>\n",
       "<p>5 rows × 21 columns</p>\n",
       "</div>"
      ],
      "text/plain": [
       "   overall     reviewerID        asin                reviewText     summary  \\\n",
       "0      5.0  ALJ66O1Y6SLHA  B000K2PJ4K  Great product and price!  Five Stars   \n",
       "1      5.0  ALJ66O1Y6SLHA  B000K2PJ4K  Great product and price!  Five Stars   \n",
       "2      5.0  ALJ66O1Y6SLHA  B000K2PJ4K  Great product and price!  Five Stars   \n",
       "3      5.0  ALJ66O1Y6SLHA  B000K2PJ4K  Great product and price!  Five Stars   \n",
       "4      5.0  ALJ66O1Y6SLHA  B000K2PJ4K  Great product and price!  Five Stars   \n",
       "\n",
       "   unixReviewTime  vote                Color1     Color2   Color3  ...  \\\n",
       "0    1.441325e+09     0                  Blue     Orange  missing  ...   \n",
       "1    1.441325e+09     0     Black (37467610)         Red    White  ...   \n",
       "2    1.441325e+09     0                  Blue  Gray Logo  missing  ...   \n",
       "3    1.441325e+09     0   Blue (37867638-99)      Yellow  missing  ...   \n",
       "4    1.441325e+09     0                  Blue       Pink  missing  ...   \n",
       "\n",
       "        Size unixReviewTime.1  reviewTimeYear  reviewTimeMonth  \\\n",
       "0   Big Boys     1.441325e+09          2015.0              9.0   \n",
       "1   Big Boys     1.441325e+09          2015.0              9.0   \n",
       "2   Big Boys     1.441325e+09          2015.0              9.0   \n",
       "3   Big Boys     1.441325e+09          2015.0              9.0   \n",
       "4   Big Boys     1.441325e+09          2015.0              9.0   \n",
       "\n",
       "   reviewTimeWeek  reviewTimeDay  reviewTimeDayofweek  reviewTimeDayofyear  \\\n",
       "0            36.0            4.0                  4.0                247.0   \n",
       "1            36.0            4.0                  4.0                247.0   \n",
       "2            36.0            4.0                  4.0                247.0   \n",
       "3            36.0            4.0                  4.0                247.0   \n",
       "4            36.0            4.0                  4.0                247.0   \n",
       "\n",
       "   reviewTimeElapsed  sentiment  \n",
       "0       1.441325e+09          1  \n",
       "1       1.441325e+09          1  \n",
       "2       1.441325e+09          1  \n",
       "3       1.441325e+09          1  \n",
       "4       1.441325e+09          1  \n",
       "\n",
       "[5 rows x 21 columns]"
      ]
     },
     "execution_count": 411,
     "metadata": {},
     "output_type": "execute_result"
    }
   ],
   "source": [
    "fashion_reviews.head()"
   ]
  },
  {
   "cell_type": "markdown",
   "metadata": {},
   "source": [
    "## The Keras Text Classification Model"
   ]
  },
  {
   "cell_type": "markdown",
   "metadata": {},
   "source": [
    "### Finetuning a pretrained backbone"
   ]
  },
  {
   "cell_type": "markdown",
   "metadata": {},
   "source": [
    "\n",
    "Pre-trained models in Keras are commonly called \"tasks\" and involve a pre-trained backbone model being fitted with task-specific layers on top. The goal is to use the text reviewText feature and classify it by its overall sentiment using the pre-trained & inference ready bert sentiment model from keras: \"bert_tiny_en_uncased_sst2\"."
   ]
  },
  {
   "cell_type": "code",
   "execution_count": 373,
   "metadata": {},
   "outputs": [
    {
     "name": "stderr",
     "output_type": "stream",
     "text": [
      "/Users/mocha/miniconda3/envs/mamba/envs/project_env/lib/python3.8/site-packages/keras_core/src/trainers/trainer.py:66: UserWarning: `jit_compile` is not yet enabled for the PyTorch backend. Proceeding with `jit_compile=False`.\n",
      "  warnings.warn(\n"
     ]
    }
   ],
   "source": [
    "reviewText_pretrained_classifier = keras_nlp.models.BertClassifier.from_preset(\"bert_tiny_en_uncased_sst2\")"
   ]
  },
  {
   "cell_type": "code",
   "execution_count": 407,
   "metadata": {},
   "outputs": [
    {
     "data": {
      "text/plain": [
       "'Great product and price!'"
      ]
     },
     "execution_count": 407,
     "metadata": {},
     "output_type": "execute_result"
    }
   ],
   "source": [
    "test_input = fashion_reviews.loc[0,'reviewText']\n",
    "test_input"
   ]
  },
  {
   "cell_type": "code",
   "execution_count": 408,
   "metadata": {},
   "outputs": [
    {
     "name": "stdout",
     "output_type": "stream",
     "text": [
      "\u001b[1m97/97\u001b[0m \u001b[32m━━━━━━━━━━━━━━━━━━━━\u001b[0m\u001b[37m\u001b[0m \u001b[1m52s\u001b[0m 524ms/step\n"
     ]
    }
   ],
   "source": [
    "predictions = reviewText_pretrained_classifier.predict(fashion_reviews.loc[:,'reviewText']) # will build the model"
   ]
  },
  {
   "cell_type": "code",
   "execution_count": 409,
   "metadata": {},
   "outputs": [
    {
     "name": "stdout",
     "output_type": "stream",
     "text": [
      "(3079, 2)\n"
     ]
    },
    {
     "data": {
      "text/plain": [
       "array([-2.555856 ,  2.5678942], dtype=float32)"
      ]
     },
     "execution_count": 409,
     "metadata": {},
     "output_type": "execute_result"
    }
   ],
   "source": [
    "print(predictions.shape)\n",
    "predictions[0] # assuming index 0 is a negative sentiment and index 1 is a positive sentiment"
   ]
  },
  {
   "cell_type": "code",
   "execution_count": 413,
   "metadata": {},
   "outputs": [
    {
     "data": {
      "text/plain": [
       "numpy.ndarray"
      ]
     },
     "execution_count": 413,
     "metadata": {},
     "output_type": "execute_result"
    }
   ],
   "source": [
    "type(predictions)"
   ]
  },
  {
   "cell_type": "code",
   "execution_count": 412,
   "metadata": {},
   "outputs": [],
   "source": [
    "def convert_prediction(prediction):\n",
    "  \"\"\"\n",
    "  Converts a model prediction to a binary 0/1 if index 1 is greater.\n",
    "\n",
    "  Args:\n",
    "    prediction: A NumPy array containing the model prediction.\n",
    "\n",
    "  Returns:\n",
    "    A binary value (0 or 1) based on the prediction.\n",
    "  \"\"\"\n",
    "\n",
    "  if prediction[1] > prediction[0]:\n",
    "    return 1\n",
    "  else:\n",
    "    return 0"
   ]
  },
  {
   "cell_type": "code",
   "execution_count": 416,
   "metadata": {},
   "outputs": [],
   "source": [
    "sentiment_preds = [convert_prediction(pred) for pred in predictions]\n",
    "fashion_reviews['pretrained_sentiment_inference'] = sentiment_preds"
   ]
  },
  {
   "cell_type": "code",
   "execution_count": 422,
   "metadata": {},
   "outputs": [
    {
     "data": {
      "text/html": [
       "<div>\n",
       "<style scoped>\n",
       "    .dataframe tbody tr th:only-of-type {\n",
       "        vertical-align: middle;\n",
       "    }\n",
       "\n",
       "    .dataframe tbody tr th {\n",
       "        vertical-align: top;\n",
       "    }\n",
       "\n",
       "    .dataframe thead th {\n",
       "        text-align: right;\n",
       "    }\n",
       "</style>\n",
       "<table border=\"1\" class=\"dataframe\">\n",
       "  <thead>\n",
       "    <tr style=\"text-align: right;\">\n",
       "      <th></th>\n",
       "      <th>pretrained_sentiment_inference</th>\n",
       "      <th>reviewText</th>\n",
       "    </tr>\n",
       "  </thead>\n",
       "  <tbody>\n",
       "    <tr>\n",
       "      <th>2790</th>\n",
       "      <td>1</td>\n",
       "      <td>BEST sneakers I've ever purchased!!!!</td>\n",
       "    </tr>\n",
       "    <tr>\n",
       "      <th>1687</th>\n",
       "      <td>0</td>\n",
       "      <td>Bought these shoes with HIIT in mind, but not ...</td>\n",
       "    </tr>\n",
       "    <tr>\n",
       "      <th>50</th>\n",
       "      <td>1</td>\n",
       "      <td>Did not fit well. Was not comfortable. Switche...</td>\n",
       "    </tr>\n",
       "    <tr>\n",
       "      <th>1634</th>\n",
       "      <td>0</td>\n",
       "      <td>Great shoe! Outside arch is kind of high, but ...</td>\n",
       "    </tr>\n",
       "    <tr>\n",
       "      <th>2471</th>\n",
       "      <td>0</td>\n",
       "      <td>Ugh... way to large - is this for a man?</td>\n",
       "    </tr>\n",
       "  </tbody>\n",
       "</table>\n",
       "</div>"
      ],
      "text/plain": [
       "      pretrained_sentiment_inference  \\\n",
       "2790                               1   \n",
       "1687                               0   \n",
       "50                                 1   \n",
       "1634                               0   \n",
       "2471                               0   \n",
       "\n",
       "                                             reviewText  \n",
       "2790              BEST sneakers I've ever purchased!!!!  \n",
       "1687  Bought these shoes with HIIT in mind, but not ...  \n",
       "50    Did not fit well. Was not comfortable. Switche...  \n",
       "1634  Great shoe! Outside arch is kind of high, but ...  \n",
       "2471           Ugh... way to large - is this for a man?  "
      ]
     },
     "execution_count": 422,
     "metadata": {},
     "output_type": "execute_result"
    }
   ],
   "source": [
    "fashion_reviews.loc[:, ['pretrained_sentiment_inference', 'reviewText']].sample(5)"
   ]
  },
  {
   "cell_type": "markdown",
   "metadata": {},
   "source": [
    "### Finetuning via Modules\n",
    "This model is not inference ready and must be fine-tuned \"i.e training the head on-top of the pre-trained backbone\""
   ]
  },
  {
   "cell_type": "code",
   "execution_count": 425,
   "metadata": {},
   "outputs": [
    {
     "name": "stderr",
     "output_type": "stream",
     "text": [
      "/Users/mocha/miniconda3/envs/mamba/envs/project_env/lib/python3.8/site-packages/keras_core/src/trainers/trainer.py:66: UserWarning: `jit_compile` is not yet enabled for the PyTorch backend. Proceeding with `jit_compile=False`.\n",
      "  warnings.warn(\n"
     ]
    }
   ],
   "source": [
    "reviewText_pretrained_classifier_from_modules = keras_nlp.models.BertClassifier.from_preset(\n",
    "    \"bert_tiny_en_uncased\",\n",
    "    num_classes=2\n",
    ")"
   ]
  },
  {
   "cell_type": "code",
   "execution_count": 429,
   "metadata": {},
   "outputs": [
    {
     "name": "stdout",
     "output_type": "stream",
     "text": [
      "reviewText    0\n",
      "sentiment     0\n",
      "dtype: int64\n"
     ]
    }
   ],
   "source": [
    "# sentiment is going to be used (the bert model is pretrained to predict sentiment)\n",
    "# we can simulate a sentiment value from our review stars data\n",
    "# assuming anything >= 4 is a good review sentiment\n",
    "fashion_reviews['sentiment'] = fashion_reviews['overall'].copy().astype(int)\n",
    "fashion_reviews['sentiment'] = fashion_reviews.sentiment.apply(lambda x: 1 if x >= 4 else 0)\n",
    "\n",
    "text_vars = ['reviewText', 'sentiment']\n",
    "\n",
    "fashion_reviews.loc[:, text_vars].sample(5)\n",
    "\n",
    "fashion_reviews['reviewText'] = fashion_reviews['reviewText'].fillna(' ')\n",
    "\n",
    "fashion_reviews['sentiment'] = fashion_reviews['sentiment'].fillna(0)\n",
    "\n",
    "print(fashion_reviews.loc[:,text_vars].isna().sum())\n",
    "\n",
    "X = fashion_reviews.loc[:, 'reviewText'].astype(str)\n",
    "y = fashion_reviews.loc[:, 'sentiment']\n",
    "X_train, X_test , y_train, y_test = train_test_split(X, y , test_size = 0.20)\n",
    "\n",
    "X_train = X_train.apply(lambda x: x.decode('utf-8') if isinstance(x, bytes) else x)\n",
    "X_test = X_test.apply(lambda x: x.decode('utf-8') if isinstance(x, bytes) else x)\n",
    "\n",
    "X_train_tfdata = tensorflow.data.Dataset.from_tensor_slices(X_train.values)\n",
    "X_test_tfdata = tensorflow.data.Dataset.from_tensor_slices(X_test.values)\n",
    "\n",
    "# the labels must be transformed to a categorical format using tf.keras.utils\n",
    "train_ds = tensorflow.data.Dataset.zip((X_train_tfdata, tensorflow.data.Dataset.from_tensor_slices(y_train)))\n",
    "test_ds = tensorflow.data.Dataset.zip((X_test_tfdata, tensorflow.data.Dataset.from_tensor_slices(y_test)))"
   ]
  },
  {
   "cell_type": "code",
   "execution_count": 434,
   "metadata": {},
   "outputs": [
    {
     "data": {
      "text/plain": [
       "(<tf.Tensor: shape=(1,), dtype=string, numpy=array([b'Super.'], dtype=object)>,\n",
       " <tf.Tensor: shape=(1,), dtype=int64, numpy=array([1])>)"
      ]
     },
     "execution_count": 434,
     "metadata": {},
     "output_type": "execute_result"
    }
   ],
   "source": [
    "train_ds.batch(1).take(1).get_single_element()"
   ]
  },
  {
   "cell_type": "code",
   "execution_count": 435,
   "metadata": {},
   "outputs": [
    {
     "name": "stdout",
     "output_type": "stream",
     "text": [
      "\u001b[1m247/247\u001b[0m \u001b[32m━━━━━━━━━━━━━━━━━━━━\u001b[0m\u001b[37m\u001b[0m \u001b[1m139s\u001b[0m 561ms/step - loss: 0.5105 - sparse_categorical_accuracy: 0.8154 - val_loss: 0.2898 - val_sparse_categorical_accuracy: 0.8539\n"
     ]
    },
    {
     "data": {
      "text/plain": [
       "<keras_core.src.callbacks.history.History at 0x7fee4216a340>"
      ]
     },
     "execution_count": 435,
     "metadata": {},
     "output_type": "execute_result"
    }
   ],
   "source": [
    "reviewText_pretrained_classifier_from_modules.fit(\n",
    "    train_ds.batch(batch_size=10),\n",
    "    validation_data=test_ds.batch(batch_size=10),\n",
    "    epochs=1,\n",
    ")"
   ]
  },
  {
   "cell_type": "code",
   "execution_count": 438,
   "metadata": {},
   "outputs": [
    {
     "name": "stdout",
     "output_type": "stream",
     "text": [
      "\u001b[1m62/62\u001b[0m \u001b[32m━━━━━━━━━━━━━━━━━━━━\u001b[0m\u001b[37m\u001b[0m \u001b[1m8s\u001b[0m 110ms/step\n"
     ]
    }
   ],
   "source": [
    "finetuned_module_preds = reviewText_pretrained_classifier_from_modules.predict(test_ds.batch(batch_size=10))"
   ]
  },
  {
   "cell_type": "code",
   "execution_count": 448,
   "metadata": {},
   "outputs": [],
   "source": [
    "X_test_eval = X_test.copy()"
   ]
  },
  {
   "cell_type": "code",
   "execution_count": 443,
   "metadata": {},
   "outputs": [],
   "source": [
    "module_sentiment_preds = [convert_prediction(pred) for pred in finetuned_module_preds]"
   ]
  },
  {
   "cell_type": "code",
   "execution_count": 450,
   "metadata": {},
   "outputs": [],
   "source": [
    "pretrained_module_test = pd.DataFrame({'reviewText': X_test, 'pretrained_module_sentiment_inference': module_sentiment_preds})"
   ]
  },
  {
   "cell_type": "code",
   "execution_count": 457,
   "metadata": {},
   "outputs": [
    {
     "data": {
      "text/html": [
       "<div>\n",
       "<style scoped>\n",
       "    .dataframe tbody tr th:only-of-type {\n",
       "        vertical-align: middle;\n",
       "    }\n",
       "\n",
       "    .dataframe tbody tr th {\n",
       "        vertical-align: top;\n",
       "    }\n",
       "\n",
       "    .dataframe thead th {\n",
       "        text-align: right;\n",
       "    }\n",
       "</style>\n",
       "<table border=\"1\" class=\"dataframe\">\n",
       "  <thead>\n",
       "    <tr style=\"text-align: right;\">\n",
       "      <th></th>\n",
       "      <th>reviewText</th>\n",
       "      <th>pretrained_module_sentiment_inference</th>\n",
       "    </tr>\n",
       "  </thead>\n",
       "  <tbody>\n",
       "    <tr>\n",
       "      <th>2727</th>\n",
       "      <td>These shoes are extremely comfortable, and fit...</td>\n",
       "      <td>1</td>\n",
       "    </tr>\n",
       "    <tr>\n",
       "      <th>2436</th>\n",
       "      <td>Love the color and fit. I use them to work on ...</td>\n",
       "      <td>1</td>\n",
       "    </tr>\n",
       "    <tr>\n",
       "      <th>42</th>\n",
       "      <td>Was terribly disappointed, the pants were way ...</td>\n",
       "      <td>0</td>\n",
       "    </tr>\n",
       "    <tr>\n",
       "      <th>1539</th>\n",
       "      <td>Nice looking and fit nice</td>\n",
       "      <td>1</td>\n",
       "    </tr>\n",
       "    <tr>\n",
       "      <th>2952</th>\n",
       "      <td>These are as far as comfort goes the most comf...</td>\n",
       "      <td>1</td>\n",
       "    </tr>\n",
       "  </tbody>\n",
       "</table>\n",
       "</div>"
      ],
      "text/plain": [
       "                                             reviewText  \\\n",
       "2727  These shoes are extremely comfortable, and fit...   \n",
       "2436  Love the color and fit. I use them to work on ...   \n",
       "42    Was terribly disappointed, the pants were way ...   \n",
       "1539                          Nice looking and fit nice   \n",
       "2952  These are as far as comfort goes the most comf...   \n",
       "\n",
       "      pretrained_module_sentiment_inference  \n",
       "2727                                      1  \n",
       "2436                                      1  \n",
       "42                                        0  \n",
       "1539                                      1  \n",
       "2952                                      1  "
      ]
     },
     "execution_count": 457,
     "metadata": {},
     "output_type": "execute_result"
    }
   ],
   "source": [
    "pretrained_module_test.sample(5)"
   ]
  },
  {
   "cell_type": "markdown",
   "metadata": {},
   "source": [
    "### Finetuning via Preprocessing\n",
    "Pre-processing of the data can be done seperately before fitting or making predictions of the data. This may be useful if using large datasets where pre-processing on-the-fly is too memory intensive and could impact the speed of inference."
   ]
  },
  {
   "cell_type": "code",
   "execution_count": 459,
   "metadata": {},
   "outputs": [
    {
     "name": "stderr",
     "output_type": "stream",
     "text": [
      "/Users/mocha/miniconda3/envs/mamba/envs/project_env/lib/python3.8/site-packages/keras_core/src/trainers/trainer.py:66: UserWarning: `jit_compile` is not yet enabled for the PyTorch backend. Proceeding with `jit_compile=False`.\n",
      "  warnings.warn(\n"
     ]
    },
    {
     "name": "stdout",
     "output_type": "stream",
     "text": [
      "Epoch 1/3\n"
     ]
    },
    {
     "name": "stderr",
     "output_type": "stream",
     "text": [
      "2024-03-12 00:50:00.500247: W tensorflow/core/kernels/data/cache_dataset_ops.cc:856] The calling iterator did not fully read the dataset being cached. In order to avoid unexpected truncation of the dataset, the partially cached contents of the dataset  will be discarded. This can happen if you have an input pipeline similar to `dataset.cache().take(k).repeat()`. You should use `dataset.take(k).cache().repeat()` instead.\n"
     ]
    },
    {
     "name": "stdout",
     "output_type": "stream",
     "text": [
      "\u001b[1m247/247\u001b[0m \u001b[32m━━━━━━━━━━━━━━━━━━━━\u001b[0m\u001b[37m\u001b[0m \u001b[1m188s\u001b[0m 760ms/step - loss: 0.5001 - sparse_categorical_accuracy: 0.8155 - val_loss: 0.2880 - val_sparse_categorical_accuracy: 0.8620\n",
      "Epoch 2/3\n",
      "\u001b[1m247/247\u001b[0m \u001b[32m━━━━━━━━━━━━━━━━━━━━\u001b[0m\u001b[37m\u001b[0m \u001b[1m232s\u001b[0m 939ms/step - loss: 0.2381 - sparse_categorical_accuracy: 0.9179 - val_loss: 0.0659 - val_sparse_categorical_accuracy: 0.9919\n",
      "Epoch 3/3\n",
      "\u001b[1m247/247\u001b[0m \u001b[32m━━━━━━━━━━━━━━━━━━━━\u001b[0m\u001b[37m\u001b[0m \u001b[1m227s\u001b[0m 918ms/step - loss: 0.0750 - sparse_categorical_accuracy: 0.9814 - val_loss: 0.0188 - val_sparse_categorical_accuracy: 0.9968\n"
     ]
    },
    {
     "data": {
      "text/plain": [
       "<keras_core.src.callbacks.history.History at 0x7fee4b102b50>"
      ]
     },
     "execution_count": 459,
     "metadata": {},
     "output_type": "execute_result"
    }
   ],
   "source": [
    "preprocessor = keras_nlp.models.BertPreprocessor.from_preset(\n",
    "    \"bert_tiny_en_uncased\",\n",
    "    sequence_length=512,\n",
    ")\n",
    "\n",
    "train_cached = (\n",
    "    train_ds.map(preprocessor, tensorflow.data.AUTOTUNE).cache().prefetch(tensorflow.data.AUTOTUNE)\n",
    ")\n",
    "test_cached = (\n",
    "    test_ds.map(preprocessor, tensorflow.data.AUTOTUNE).cache().prefetch(tensorflow.data.AUTOTUNE)\n",
    ")\n",
    "\n",
    "reviewText_pretrained_classifier_via_preprocessing = keras_nlp.models.BertClassifier.from_preset(\n",
    "    \"bert_tiny_en_uncased\", preprocessor=None, num_classes=2\n",
    ")\n",
    "reviewText_pretrained_classifier_via_preprocessing.fit(\n",
    "    train_cached.batch(10),\n",
    "    validation_data=test_cached.batch(10),\n",
    "    epochs=3,\n",
    ")"
   ]
  },
  {
   "cell_type": "code",
   "execution_count": 461,
   "metadata": {},
   "outputs": [
    {
     "name": "stdout",
     "output_type": "stream",
     "text": [
      "\u001b[1m62/62\u001b[0m \u001b[32m━━━━━━━━━━━━━━━━━━━━\u001b[0m\u001b[37m\u001b[0m \u001b[1m8s\u001b[0m 116ms/step\n"
     ]
    }
   ],
   "source": [
    "finetuned_preprocessing_preds = reviewText_pretrained_classifier_via_preprocessing.predict(test_cached.batch(batch_size=10))"
   ]
  },
  {
   "cell_type": "code",
   "execution_count": 462,
   "metadata": {},
   "outputs": [],
   "source": [
    "preprocessing_sentiment_preds = [convert_prediction(pred) for pred in finetuned_preprocessing_preds]"
   ]
  },
  {
   "cell_type": "code",
   "execution_count": 463,
   "metadata": {},
   "outputs": [],
   "source": [
    "pretrained_preprocessing_test = pd.DataFrame({'reviewText': X_test, 'pretrained_preprocessing_sentiment_inference': preprocessing_sentiment_preds})"
   ]
  },
  {
   "cell_type": "code",
   "execution_count": 465,
   "metadata": {},
   "outputs": [
    {
     "data": {
      "text/html": [
       "<div>\n",
       "<style scoped>\n",
       "    .dataframe tbody tr th:only-of-type {\n",
       "        vertical-align: middle;\n",
       "    }\n",
       "\n",
       "    .dataframe tbody tr th {\n",
       "        vertical-align: top;\n",
       "    }\n",
       "\n",
       "    .dataframe thead th {\n",
       "        text-align: right;\n",
       "    }\n",
       "</style>\n",
       "<table border=\"1\" class=\"dataframe\">\n",
       "  <thead>\n",
       "    <tr style=\"text-align: right;\">\n",
       "      <th></th>\n",
       "      <th>reviewText</th>\n",
       "      <th>pretrained_preprocessing_sentiment_inference</th>\n",
       "    </tr>\n",
       "  </thead>\n",
       "  <tbody>\n",
       "    <tr>\n",
       "      <th>2081</th>\n",
       "      <td>They fit great, look great, are quite comforta...</td>\n",
       "      <td>1</td>\n",
       "    </tr>\n",
       "    <tr>\n",
       "      <th>191</th>\n",
       "      <td>I love the shoe and it fit as expected the pho...</td>\n",
       "      <td>1</td>\n",
       "    </tr>\n",
       "    <tr>\n",
       "      <th>2587</th>\n",
       "      <td>Light-weight comfy shoes.</td>\n",
       "      <td>1</td>\n",
       "    </tr>\n",
       "    <tr>\n",
       "      <th>539</th>\n",
       "      <td>The fit is as expected</td>\n",
       "      <td>1</td>\n",
       "    </tr>\n",
       "    <tr>\n",
       "      <th>19</th>\n",
       "      <td>We have used these inserts for years.  They pr...</td>\n",
       "      <td>1</td>\n",
       "    </tr>\n",
       "    <tr>\n",
       "      <th>916</th>\n",
       "      <td>Not sure why, but my mid section of my foot st...</td>\n",
       "      <td>0</td>\n",
       "    </tr>\n",
       "    <tr>\n",
       "      <th>2492</th>\n",
       "      <td>Love them</td>\n",
       "      <td>1</td>\n",
       "    </tr>\n",
       "    <tr>\n",
       "      <th>305</th>\n",
       "      <td>they are very comfortable feel like you have n...</td>\n",
       "      <td>1</td>\n",
       "    </tr>\n",
       "    <tr>\n",
       "      <th>2489</th>\n",
       "      <td>They fit as expected and perfect for training,...</td>\n",
       "      <td>1</td>\n",
       "    </tr>\n",
       "    <tr>\n",
       "      <th>654</th>\n",
       "      <td>I got the impression it's cushiony and comfy b...</td>\n",
       "      <td>0</td>\n",
       "    </tr>\n",
       "  </tbody>\n",
       "</table>\n",
       "</div>"
      ],
      "text/plain": [
       "                                             reviewText  \\\n",
       "2081  They fit great, look great, are quite comforta...   \n",
       "191   I love the shoe and it fit as expected the pho...   \n",
       "2587                          Light-weight comfy shoes.   \n",
       "539                              The fit is as expected   \n",
       "19    We have used these inserts for years.  They pr...   \n",
       "916   Not sure why, but my mid section of my foot st...   \n",
       "2492                                          Love them   \n",
       "305   they are very comfortable feel like you have n...   \n",
       "2489  They fit as expected and perfect for training,...   \n",
       "654   I got the impression it's cushiony and comfy b...   \n",
       "\n",
       "      pretrained_preprocessing_sentiment_inference  \n",
       "2081                                             1  \n",
       "191                                              1  \n",
       "2587                                             1  \n",
       "539                                              1  \n",
       "19                                               1  \n",
       "916                                              0  \n",
       "2492                                             1  \n",
       "305                                              1  \n",
       "2489                                             1  \n",
       "654                                              0  "
      ]
     },
     "execution_count": 465,
     "metadata": {},
     "output_type": "execute_result"
    }
   ],
   "source": [
    "pretrained_preprocessing_test.sample(10)"
   ]
  },
  {
   "cell_type": "markdown",
   "metadata": {},
   "source": [
    "## Conclusion"
   ]
  },
  {
   "cell_type": "markdown",
   "metadata": {},
   "source": [
    "Using Keras' text classification methods require a little bit more pre-processing steps that can significantly improve the performance of the model by fitting a fine-tuning model on top of a pretrained text classifier. Using different fine-tuning methods can also increase the flexibility and utility of the base model."
   ]
  }
 ],
 "metadata": {
  "kernelspec": {
   "display_name": "fastai_env",
   "language": "python",
   "name": "python3"
  },
  "language_info": {
   "codemirror_mode": {
    "name": "ipython",
    "version": 3
   },
   "file_extension": ".py",
   "mimetype": "text/x-python",
   "name": "python",
   "nbconvert_exporter": "python",
   "pygments_lexer": "ipython3",
   "version": "3.8.18"
  }
 },
 "nbformat": 4,
 "nbformat_minor": 2
}
