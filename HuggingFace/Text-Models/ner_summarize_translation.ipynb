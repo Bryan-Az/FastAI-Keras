{
 "cells": [
  {
   "cell_type": "markdown",
   "metadata": {},
   "source": [
    "# Imports"
   ]
  },
  {
   "cell_type": "code",
   "execution_count": 1,
   "metadata": {},
   "outputs": [
    {
     "name": "stderr",
     "output_type": "stream",
     "text": [
      "/Users/mocha/miniconda3/envs/mamba/envs/fastai_env/lib/python3.8/site-packages/transformers/utils/generic.py:311: UserWarning: torch.utils._pytree._register_pytree_node is deprecated. Please use torch.utils._pytree.register_pytree_node instead.\n",
      "  torch.utils._pytree._register_pytree_node(\n"
     ]
    }
   ],
   "source": [
    "import pandas as pd\n",
    "import numpy as np\n",
    "import gzip\n",
    "import json\n",
    "import ast\n",
    "import textwrap\n",
    "from transformers import pipeline"
   ]
  },
  {
   "cell_type": "markdown",
   "metadata": {},
   "source": [
    "# The Data"
   ]
  },
  {
   "cell_type": "code",
   "execution_count": 2,
   "metadata": {},
   "outputs": [],
   "source": [
    "# explore the data and select features\n",
    "def parse(path):\n",
    "  g = gzip.open(path, 'rb')\n",
    "  for l in g:\n",
    "    yield json.loads(l)\n",
    "\n",
    "def getDF(path):\n",
    "  i = 0\n",
    "  df = {}\n",
    "  for d in parse(path):\n",
    "    df[i] = d\n",
    "    i += 1\n",
    "  return pd.DataFrame.from_dict(df, orient='index')"
   ]
  },
  {
   "cell_type": "code",
   "execution_count": 3,
   "metadata": {},
   "outputs": [],
   "source": [
    "fashion_reviews = getDF('../../data/text_data/Amazon Fashion Review Data.json.gz')"
   ]
  },
  {
   "cell_type": "code",
   "execution_count": 4,
   "metadata": {},
   "outputs": [
    {
     "data": {
      "text/plain": [
       "(3176, 12)"
      ]
     },
     "execution_count": 4,
     "metadata": {},
     "output_type": "execute_result"
    }
   ],
   "source": [
    "fashion_reviews.shape"
   ]
  },
  {
   "cell_type": "code",
   "execution_count": 5,
   "metadata": {},
   "outputs": [
    {
     "data": {
      "text/plain": [
       "overall                                                        5.0\n",
       "verified                                                      True\n",
       "reviewTime                                              09 4, 2015\n",
       "reviewerID                                           ALJ66O1Y6SLHA\n",
       "asin                                                    B000K2PJ4K\n",
       "style             {'Size:': ' Big Boys', 'Color:': ' Blue/Orange'}\n",
       "reviewerName                                              Tonya B.\n",
       "reviewText                                Great product and price!\n",
       "summary                                                 Five Stars\n",
       "unixReviewTime                                          1441324800\n",
       "vote                                                           NaN\n",
       "image                                                          NaN\n",
       "Name: 0, dtype: object"
      ]
     },
     "execution_count": 5,
     "metadata": {},
     "output_type": "execute_result"
    }
   ],
   "source": [
    "fashion_reviews.iloc[0]"
   ]
  },
  {
   "cell_type": "markdown",
   "metadata": {},
   "source": [
    "# The Models & Tasks\n",
    "All of the following tasks will be using the same text feature: reviewText. The model will differ based on the architecture for the task. "
   ]
  },
  {
   "cell_type": "markdown",
   "metadata": {},
   "source": [
    "### Named Entity Recognition\n",
    "The ner pipeline from huggingface accepts a single text input as a feature, and then returns a json objects having the estimated entities and their corresponding probabilities. Each text input will have three output features after input to the ner pipeline (entity, entity group, and entity score). For each reviewText input there will be many predicted entities. For the purposes of this assignment I will only be selecting the max entity."
   ]
  },
  {
   "cell_type": "code",
   "execution_count": 6,
   "metadata": {},
   "outputs": [],
   "source": [
    "fashion_reviews['reviewText'] = fashion_reviews['reviewText'].fillna('no review')"
   ]
  },
  {
   "cell_type": "code",
   "execution_count": 7,
   "metadata": {},
   "outputs": [
    {
     "name": "stderr",
     "output_type": "stream",
     "text": [
      "No model was supplied, defaulted to dbmdz/bert-large-cased-finetuned-conll03-english and revision f2482bf (https://huggingface.co/dbmdz/bert-large-cased-finetuned-conll03-english).\n",
      "Using a pipeline without specifying a model name and revision in production is not recommended.\n",
      "Some weights of the model checkpoint at dbmdz/bert-large-cased-finetuned-conll03-english were not used when initializing BertForTokenClassification: ['bert.pooler.dense.weight', 'bert.pooler.dense.bias']\n",
      "- This IS expected if you are initializing BertForTokenClassification from the checkpoint of a model trained on another task or with another architecture (e.g. initializing a BertForSequenceClassification model from a BertForPreTraining model).\n",
      "- This IS NOT expected if you are initializing BertForTokenClassification from the checkpoint of a model that you expect to be exactly identical (initializing a BertForSequenceClassification model from a BertForSequenceClassification model).\n"
     ]
    }
   ],
   "source": [
    "ner_pipeline = pipeline('ner')"
   ]
  },
  {
   "cell_type": "code",
   "execution_count": 8,
   "metadata": {},
   "outputs": [],
   "source": [
    "def apply_ner(column, pipeline=ner_pipeline):\n",
    "    output = {'reviewText':[],'word':[], 'entity_group':[], 'score':[]}\n",
    "    def map_to_input(row, input_map=output):\n",
    "        result = ner_pipeline(row,  aggregation_strategy=\"simple\")\n",
    "        input_map['reviewText'].append(row)\n",
    "        max_score = float('-inf')  # Initialize max score to negative infinity\n",
    "        max_score_entity = None # we will only select the entity with the max score\n",
    "        for entity in result:\n",
    "            if entity['score'] > max_score:\n",
    "                max_score = entity['score']\n",
    "                max_score_entity = entity\n",
    "        if max_score_entity is not None:\n",
    "            input_map['word'].append(max_score_entity['word'])\n",
    "            input_map['entity_group'].append(max_score_entity['entity_group'])\n",
    "            input_map['score'].append(max_score_entity['score'])\n",
    "        else:\n",
    "            input_map['word'].append(np.nan)\n",
    "            input_map['entity_group'].append(np.nan)\n",
    "            input_map['score'].append(np.nan)\n",
    "    column.apply(map_to_input)\n",
    "    return output\n"
   ]
  },
  {
   "cell_type": "code",
   "execution_count": 9,
   "metadata": {},
   "outputs": [],
   "source": [
    "entity_features = apply_ner(fashion_reviews['reviewText'][:100]) # would take ~13 minutes for the full dataset"
   ]
  },
  {
   "cell_type": "code",
   "execution_count": 10,
   "metadata": {},
   "outputs": [],
   "source": [
    "entity_feature_lengths = [len(entity[1]) for entity in entity_features.items()]"
   ]
  },
  {
   "cell_type": "code",
   "execution_count": 11,
   "metadata": {},
   "outputs": [
    {
     "data": {
      "text/plain": [
       "[100, 100, 100, 100]"
      ]
     },
     "execution_count": 11,
     "metadata": {},
     "output_type": "execute_result"
    }
   ],
   "source": [
    "entity_feature_lengths"
   ]
  },
  {
   "cell_type": "code",
   "execution_count": 12,
   "metadata": {},
   "outputs": [
    {
     "data": {
      "text/html": [
       "<div>\n",
       "<style scoped>\n",
       "    .dataframe tbody tr th:only-of-type {\n",
       "        vertical-align: middle;\n",
       "    }\n",
       "\n",
       "    .dataframe tbody tr th {\n",
       "        vertical-align: top;\n",
       "    }\n",
       "\n",
       "    .dataframe thead th {\n",
       "        text-align: right;\n",
       "    }\n",
       "</style>\n",
       "<table border=\"1\" class=\"dataframe\">\n",
       "  <thead>\n",
       "    <tr style=\"text-align: right;\">\n",
       "      <th></th>\n",
       "      <th>reviewText</th>\n",
       "      <th>word</th>\n",
       "      <th>entity_group</th>\n",
       "      <th>score</th>\n",
       "    </tr>\n",
       "  </thead>\n",
       "  <tbody>\n",
       "    <tr>\n",
       "      <th>10</th>\n",
       "      <td>Relieved my Plantar Fascitis for 3 Days. Then ...</td>\n",
       "      <td>##tis</td>\n",
       "      <td>MISC</td>\n",
       "      <td>0.557792</td>\n",
       "    </tr>\n",
       "    <tr>\n",
       "      <th>11</th>\n",
       "      <td>This is my 6th pair and they are the best thin...</td>\n",
       "      <td>SmartDestination</td>\n",
       "      <td>ORG</td>\n",
       "      <td>0.979718</td>\n",
       "    </tr>\n",
       "    <tr>\n",
       "      <th>13</th>\n",
       "      <td>Pinnacle seems to have more cushioning so my h...</td>\n",
       "      <td>Powers</td>\n",
       "      <td>MISC</td>\n",
       "      <td>0.651797</td>\n",
       "    </tr>\n",
       "    <tr>\n",
       "      <th>15</th>\n",
       "      <td>A little more cushion than the Powerstep Prote...</td>\n",
       "      <td>Powerstep Protech</td>\n",
       "      <td>MISC</td>\n",
       "      <td>0.929084</td>\n",
       "    </tr>\n",
       "    <tr>\n",
       "      <th>17</th>\n",
       "      <td>Relieved my Plantar Fascitis for 3 Days. Then ...</td>\n",
       "      <td>##tis</td>\n",
       "      <td>MISC</td>\n",
       "      <td>0.557792</td>\n",
       "    </tr>\n",
       "  </tbody>\n",
       "</table>\n",
       "</div>"
      ],
      "text/plain": [
       "                                           reviewText               word  \\\n",
       "10  Relieved my Plantar Fascitis for 3 Days. Then ...              ##tis   \n",
       "11  This is my 6th pair and they are the best thin...   SmartDestination   \n",
       "13  Pinnacle seems to have more cushioning so my h...             Powers   \n",
       "15  A little more cushion than the Powerstep Prote...  Powerstep Protech   \n",
       "17  Relieved my Plantar Fascitis for 3 Days. Then ...              ##tis   \n",
       "\n",
       "   entity_group     score  \n",
       "10         MISC  0.557792  \n",
       "11          ORG  0.979718  \n",
       "13         MISC  0.651797  \n",
       "15         MISC  0.929084  \n",
       "17         MISC  0.557792  "
      ]
     },
     "execution_count": 12,
     "metadata": {},
     "output_type": "execute_result"
    }
   ],
   "source": [
    "fashion_entities = pd.DataFrame(entity_features).dropna(how='any')\n",
    "fashion_entities.head()"
   ]
  },
  {
   "cell_type": "code",
   "execution_count": 13,
   "metadata": {},
   "outputs": [
    {
     "data": {
      "text/plain": [
       "(17, 4)"
      ]
     },
     "execution_count": 13,
     "metadata": {},
     "output_type": "execute_result"
    }
   ],
   "source": [
    "fashion_entities.shape"
   ]
  },
  {
   "cell_type": "markdown",
   "metadata": {},
   "source": [
    "#### Conclusion\n",
    "The output of the named entity recognition model on the reviewText for 100 rows showed that the model could only detect an entity in 17 of these reviews. The entities that I selected for the 17 reviews that included entities has the max score, but there are some discrepencies. For example, '##tis' does not seem like an entity, while SmartDestination/Powerstep Protech do seem like they would be products."
   ]
  },
  {
   "cell_type": "markdown",
   "metadata": {},
   "source": [
    "### Summarization"
   ]
  },
  {
   "cell_type": "code",
   "execution_count": 14,
   "metadata": {},
   "outputs": [
    {
     "name": "stderr",
     "output_type": "stream",
     "text": [
      "No model was supplied, defaulted to sshleifer/distilbart-cnn-12-6 and revision a4f8f3e (https://huggingface.co/sshleifer/distilbart-cnn-12-6).\n",
      "Using a pipeline without specifying a model name and revision in production is not recommended.\n"
     ]
    }
   ],
   "source": [
    "summarization_pipeline = pipeline(\"summarization\")"
   ]
  },
  {
   "cell_type": "code",
   "execution_count": 15,
   "metadata": {},
   "outputs": [],
   "source": [
    "# since we want to summarize, let us only select the reviews having long length\n",
    "long_reviews = fashion_reviews.where(fashion_reviews['reviewText'].apply(lambda x: len(x.split(' ')) > 56))\n",
    "long_reviews.dropna(how='all', inplace=True)"
   ]
  },
  {
   "cell_type": "code",
   "execution_count": 16,
   "metadata": {},
   "outputs": [],
   "source": [
    "long_review_sample = long_reviews.sample(10)"
   ]
  },
  {
   "cell_type": "code",
   "execution_count": 17,
   "metadata": {},
   "outputs": [
    {
     "data": {
      "text/plain": [
       "\"Love these shoes, I have worn them all day and found them really comfortable with no aching feet at the end of the day. Fantastic colour and true to size. I also bought  Nike Women's Flex Supreme Tr 3 Pnk Pw/Mtllc Slvr/Cl Gry/White Training Shoe and these shoes are slightly more comfortable than those even though they look very similar.\""
      ]
     },
     "metadata": {},
     "output_type": "display_data"
    }
   ],
   "source": [
    "display(long_reviews['reviewText'].sample().iloc[0])"
   ]
  },
  {
   "cell_type": "code",
   "execution_count": 24,
   "metadata": {},
   "outputs": [],
   "source": [
    "# converts strings to a readable format\n",
    "wrapper = textwrap.TextWrapper(width=80, break_long_words=False, break_on_hyphens=False)"
   ]
  },
  {
   "cell_type": "code",
   "execution_count": 26,
   "metadata": {},
   "outputs": [],
   "source": [
    "def apply_summarization(column, pipeline=summarization_pipeline, wrapper=wrapper):\n",
    "    output = {'reviewText':[], 'summary_reviewText':[]}\n",
    "    def map_to_input(row, input_map = output):\n",
    "        input_map['reviewText'].append(row)\n",
    "        # find the summary of the reviewText\n",
    "        results = pipeline(row, max_length=56, clean_up_tokenization_spaces=True)\n",
    "        input_map['summary_reviewText'].append(wrapper.fill(results[0]['summary_text']))\n",
    "    column.apply(map_to_input)\n",
    "    return output"
   ]
  },
  {
   "cell_type": "code",
   "execution_count": 19,
   "metadata": {},
   "outputs": [],
   "source": [
    "summarization_features = apply_summarization(long_review_sample['reviewText'])"
   ]
  },
  {
   "cell_type": "code",
   "execution_count": 20,
   "metadata": {},
   "outputs": [
    {
     "data": {
      "text/html": [
       "<div>\n",
       "<style scoped>\n",
       "    .dataframe tbody tr th:only-of-type {\n",
       "        vertical-align: middle;\n",
       "    }\n",
       "\n",
       "    .dataframe tbody tr th {\n",
       "        vertical-align: top;\n",
       "    }\n",
       "\n",
       "    .dataframe thead th {\n",
       "        text-align: right;\n",
       "    }\n",
       "</style>\n",
       "<table border=\"1\" class=\"dataframe\">\n",
       "  <thead>\n",
       "    <tr style=\"text-align: right;\">\n",
       "      <th></th>\n",
       "      <th>reviewText</th>\n",
       "      <th>summary_reviewText</th>\n",
       "    </tr>\n",
       "  </thead>\n",
       "  <tbody>\n",
       "    <tr>\n",
       "      <th>0</th>\n",
       "      <td>A-MA-ZING!  I needed a good jogging shoe and t...</td>\n",
       "      <td>A-MA-ZING!  I needed a good jogging shoe and ...</td>\n",
       "    </tr>\n",
       "    <tr>\n",
       "      <th>1</th>\n",
       "      <td>Love these shoes, I have worn them all day and...</td>\n",
       "      <td>Nike Women's Flex Supreme Tr 3 Pnk Pw/Mtllc S...</td>\n",
       "    </tr>\n",
       "    <tr>\n",
       "      <th>2</th>\n",
       "      <td>I was wearing running shoes for cardio dance c...</td>\n",
       "      <td>The lacing is done in a way that allows you t...</td>\n",
       "    </tr>\n",
       "    <tr>\n",
       "      <th>3</th>\n",
       "      <td>Tried them on in a store before buying online ...</td>\n",
       "      <td>Overall I was looking for a durable cross tra...</td>\n",
       "    </tr>\n",
       "    <tr>\n",
       "      <th>4</th>\n",
       "      <td>I have pretty high arches and my calves always...</td>\n",
       "      <td>I have been on the hunt for a good cross trai...</td>\n",
       "    </tr>\n",
       "  </tbody>\n",
       "</table>\n",
       "</div>"
      ],
      "text/plain": [
       "                                          reviewText  \\\n",
       "0  A-MA-ZING!  I needed a good jogging shoe and t...   \n",
       "1  Love these shoes, I have worn them all day and...   \n",
       "2  I was wearing running shoes for cardio dance c...   \n",
       "3  Tried them on in a store before buying online ...   \n",
       "4  I have pretty high arches and my calves always...   \n",
       "\n",
       "                                  summary_reviewText  \n",
       "0   A-MA-ZING!  I needed a good jogging shoe and ...  \n",
       "1   Nike Women's Flex Supreme Tr 3 Pnk Pw/Mtllc S...  \n",
       "2   The lacing is done in a way that allows you t...  \n",
       "3   Overall I was looking for a durable cross tra...  \n",
       "4   I have been on the hunt for a good cross trai...  "
      ]
     },
     "execution_count": 20,
     "metadata": {},
     "output_type": "execute_result"
    }
   ],
   "source": [
    "summarizations = pd.DataFrame(summarization_features)\n",
    "summarizations.head()"
   ]
  },
  {
   "cell_type": "code",
   "execution_count": 27,
   "metadata": {},
   "outputs": [
    {
     "name": "stdout",
     "output_type": "stream",
     "text": [
      "I was wearing running shoes for cardio dance classes at the gym because I\n",
      "thought they would be sufficient. After getting 2 blood blisters I did some\n",
      "research and found out cross trainers would be more appropriate which is how I\n",
      "ended up buying this pair. They are slightly longer in look then I  would like\n",
      "but I think that is typical of cross trainers. Also, the lacing is done in a way\n",
      "that allows you to tie too tightly if you're not careful (my toes were tingling\n",
      "during one particular work out when I had done this). Other then that I am very\n",
      "happy with the shoes.\n"
     ]
    }
   ],
   "source": [
    "example_summary = summarizations.sample()\n",
    "print(wrapper.fill(example_summary['reviewText'].iloc[0]))"
   ]
  },
  {
   "cell_type": "code",
   "execution_count": 22,
   "metadata": {},
   "outputs": [
    {
     "name": "stdout",
     "output_type": "stream",
     "text": [
      " Super comfortable and fit my small feet perfectly. I have flat feet so a lot of\n",
      "shoes are not comfortable for long periods of time. I can wear the shoe all day\n",
      "long and they are super comfortable. They are light colored so any dirt will be\n",
      "seen right away\n"
     ]
    }
   ],
   "source": [
    "print(example_summary['summary_reviewText'].iloc[0])"
   ]
  },
  {
   "cell_type": "markdown",
   "metadata": {},
   "source": [
    "#### Conclusion\n",
    "The summary of the sample review was able to capture the color of the shoe being reviewed as well as the general sentiment. The summarization model was a little slow since summarization and text generation depends on the inference per word being chained. This takes a long time especially in summarizations that are longer. A better implementation would utilize GPU to summarize columns with more records and thus more tokens."
   ]
  },
  {
   "cell_type": "markdown",
   "metadata": {},
   "source": [
    "### Translation (EN->ES)"
   ]
  },
  {
   "cell_type": "code",
   "execution_count": 32,
   "metadata": {},
   "outputs": [],
   "source": [
    "translation_pipeline = pipeline(\"translation_en_to_es\", model=\"Helsinki-NLP/opus-mt-en-es\")"
   ]
  },
  {
   "cell_type": "markdown",
   "metadata": {},
   "source": [
    "Since we are doing translation, this will also be a text generation technique so it may be wiser to apply it on the summarized reviews we have just prepared to speed up processing time!"
   ]
  },
  {
   "cell_type": "code",
   "execution_count": 37,
   "metadata": {},
   "outputs": [],
   "source": [
    "def apply_translation(column, pipeline=translation_pipeline, wrapper=wrapper):\n",
    "    output = {'summary_reviewText':[], 'translated_summary':[]}\n",
    "    def map_to_input(row, input_map = output):\n",
    "        input_map['summary_reviewText'].append(row)\n",
    "        # find the summary of the reviewText\n",
    "        results = pipeline(row, max_length=84, clean_up_tokenization_spaces=True)\n",
    "        input_map['translated_summary'].append(wrapper.fill(results[0]['translation_text']))\n",
    "    column.apply(map_to_input)\n",
    "    return output"
   ]
  },
  {
   "cell_type": "code",
   "execution_count": 38,
   "metadata": {},
   "outputs": [],
   "source": [
    "spanish_translation_summary_reviews = apply_translation(summarizations['summary_reviewText'])"
   ]
  },
  {
   "cell_type": "code",
   "execution_count": 40,
   "metadata": {},
   "outputs": [
    {
     "data": {
      "text/html": [
       "<div>\n",
       "<style scoped>\n",
       "    .dataframe tbody tr th:only-of-type {\n",
       "        vertical-align: middle;\n",
       "    }\n",
       "\n",
       "    .dataframe tbody tr th {\n",
       "        vertical-align: top;\n",
       "    }\n",
       "\n",
       "    .dataframe thead th {\n",
       "        text-align: right;\n",
       "    }\n",
       "</style>\n",
       "<table border=\"1\" class=\"dataframe\">\n",
       "  <thead>\n",
       "    <tr style=\"text-align: right;\">\n",
       "      <th></th>\n",
       "      <th>summary_reviewText</th>\n",
       "      <th>translated_summary</th>\n",
       "    </tr>\n",
       "  </thead>\n",
       "  <tbody>\n",
       "    <tr>\n",
       "      <th>0</th>\n",
       "      <td>A-MA-ZING!  I needed a good jogging shoe and ...</td>\n",
       "      <td>A-MA-ZING! Necesitaba un buen zapato de joggin...</td>\n",
       "    </tr>\n",
       "    <tr>\n",
       "      <th>1</th>\n",
       "      <td>Nike Women's Flex Supreme Tr 3 Pnk Pw/Mtllc S...</td>\n",
       "      <td>Zapato de entrenamiento Nike Women's Flex Supr...</td>\n",
       "    </tr>\n",
       "    <tr>\n",
       "      <th>2</th>\n",
       "      <td>The lacing is done in a way that allows you t...</td>\n",
       "      <td>El encaje se hace de una manera que te permite...</td>\n",
       "    </tr>\n",
       "    <tr>\n",
       "      <th>3</th>\n",
       "      <td>Overall I was looking for a durable cross tra...</td>\n",
       "      <td>En general, estaba buscando un zapato de entre...</td>\n",
       "    </tr>\n",
       "    <tr>\n",
       "      <th>4</th>\n",
       "      <td>I have been on the hunt for a good cross trai...</td>\n",
       "      <td>He estado en la caza de un buen entrenador de ...</td>\n",
       "    </tr>\n",
       "  </tbody>\n",
       "</table>\n",
       "</div>"
      ],
      "text/plain": [
       "                                  summary_reviewText  \\\n",
       "0   A-MA-ZING!  I needed a good jogging shoe and ...   \n",
       "1   Nike Women's Flex Supreme Tr 3 Pnk Pw/Mtllc S...   \n",
       "2   The lacing is done in a way that allows you t...   \n",
       "3   Overall I was looking for a durable cross tra...   \n",
       "4   I have been on the hunt for a good cross trai...   \n",
       "\n",
       "                                  translated_summary  \n",
       "0  A-MA-ZING! Necesitaba un buen zapato de joggin...  \n",
       "1  Zapato de entrenamiento Nike Women's Flex Supr...  \n",
       "2  El encaje se hace de una manera que te permite...  \n",
       "3  En general, estaba buscando un zapato de entre...  \n",
       "4  He estado en la caza de un buen entrenador de ...  "
      ]
     },
     "execution_count": 40,
     "metadata": {},
     "output_type": "execute_result"
    }
   ],
   "source": [
    "translations = pd.DataFrame(spanish_translation_summary_reviews)\n",
    "translations.head()"
   ]
  },
  {
   "cell_type": "code",
   "execution_count": 41,
   "metadata": {},
   "outputs": [],
   "source": [
    "example_translation = translations.sample()"
   ]
  },
  {
   "cell_type": "code",
   "execution_count": 43,
   "metadata": {},
   "outputs": [
    {
     "name": "stdout",
     "output_type": "stream",
     "text": [
      " Super comfortable and fit my small feet perfectly. I have flat feet so a lot of\n",
      "shoes are not comfortable for long periods of time. I can wear the shoe all day\n",
      "long and they are super comfortable. They are light colored so any dirt will be\n",
      "seen right away\n"
     ]
    }
   ],
   "source": [
    "print(example_translation['summary_reviewText'].iloc[0])"
   ]
  },
  {
   "cell_type": "code",
   "execution_count": 44,
   "metadata": {},
   "outputs": [
    {
     "name": "stdout",
     "output_type": "stream",
     "text": [
      "Tengo pies planos por lo que muchos zapatos no son cómodos durante largos\n",
      "períodos de tiempo. Puedo usar el zapato todo el día y son súper cómodos. Son de\n",
      "color claro por lo que cualquier suciedad se verá de inmediato\n"
     ]
    }
   ],
   "source": [
    "print(example_translation['translated_summary'].iloc[0])"
   ]
  },
  {
   "cell_type": "markdown",
   "metadata": {},
   "source": [
    "#### Conclusion"
   ]
  },
  {
   "cell_type": "markdown",
   "metadata": {},
   "source": [
    "It was a good thing that the summarization is able to be done before translation. It is able to preserve the meaning and sentiment behind the review, and then reduce the complexity of the review before it has to be translated. The translation seems to be accurate - given my native speaker understanding of spanish. A couple reviews could not translate the english that was broken up ex: \"A-MA-ZING' -> 'A-SOM-BROSO'. The model also doesn't seem to translate the name of the product/entity. This may or may not be intended."
   ]
  }
 ],
 "metadata": {
  "kernelspec": {
   "display_name": "fastai_env",
   "language": "python",
   "name": "python3"
  },
  "language_info": {
   "codemirror_mode": {
    "name": "ipython",
    "version": 3
   },
   "file_extension": ".py",
   "mimetype": "text/x-python",
   "name": "python",
   "nbconvert_exporter": "python",
   "pygments_lexer": "ipython3",
   "version": "3.8.18"
  }
 },
 "nbformat": 4,
 "nbformat_minor": 2
}
