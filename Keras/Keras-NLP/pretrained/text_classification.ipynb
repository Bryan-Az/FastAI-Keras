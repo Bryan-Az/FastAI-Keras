{
 "cells": [
  {
   "cell_type": "markdown",
   "metadata": {},
   "source": [
    "# Keras NLP: Text Classification"
   ]
  },
  {
   "cell_type": "markdown",
   "metadata": {},
   "source": [
    "## Imports"
   ]
  },
  {
   "cell_type": "code",
   "execution_count": 8,
   "metadata": {},
   "outputs": [],
   "source": [
    "# loads the libraries used in this notebook\n",
    "import pandas as pd"
   ]
  },
  {
   "cell_type": "markdown",
   "metadata": {},
   "source": [
    "## The Data"
   ]
  },
  {
   "cell_type": "code",
   "execution_count": 9,
   "metadata": {},
   "outputs": [],
   "source": [
    "fashion_reviews = pd.read_csv('../../../data/text_data/combined_preprocessed.csv')"
   ]
  },
  {
   "cell_type": "code",
   "execution_count": 10,
   "metadata": {},
   "outputs": [
    {
     "data": {
      "text/html": [
       "<div>\n",
       "<style scoped>\n",
       "    .dataframe tbody tr th:only-of-type {\n",
       "        vertical-align: middle;\n",
       "    }\n",
       "\n",
       "    .dataframe tbody tr th {\n",
       "        vertical-align: top;\n",
       "    }\n",
       "\n",
       "    .dataframe thead th {\n",
       "        text-align: right;\n",
       "    }\n",
       "</style>\n",
       "<table border=\"1\" class=\"dataframe\">\n",
       "  <thead>\n",
       "    <tr style=\"text-align: right;\">\n",
       "      <th></th>\n",
       "      <th>overall</th>\n",
       "      <th>reviewerID</th>\n",
       "      <th>asin</th>\n",
       "      <th>reviewText</th>\n",
       "      <th>summary</th>\n",
       "      <th>unixReviewTime</th>\n",
       "      <th>vote</th>\n",
       "      <th>Color1</th>\n",
       "      <th>Color2</th>\n",
       "      <th>Color3</th>\n",
       "      <th>Color4</th>\n",
       "      <th>Size</th>\n",
       "      <th>unixReviewTime.1</th>\n",
       "      <th>reviewTimeYear</th>\n",
       "      <th>reviewTimeMonth</th>\n",
       "      <th>reviewTimeWeek</th>\n",
       "      <th>reviewTimeDay</th>\n",
       "      <th>reviewTimeDayofweek</th>\n",
       "      <th>reviewTimeDayofyear</th>\n",
       "      <th>reviewTimeElapsed</th>\n",
       "    </tr>\n",
       "  </thead>\n",
       "  <tbody>\n",
       "    <tr>\n",
       "      <th>0</th>\n",
       "      <td>5.0</td>\n",
       "      <td>ALJ66O1Y6SLHA</td>\n",
       "      <td>B000K2PJ4K</td>\n",
       "      <td>Great product and price!</td>\n",
       "      <td>Five Stars</td>\n",
       "      <td>1.441325e+09</td>\n",
       "      <td>0</td>\n",
       "      <td>Blue</td>\n",
       "      <td>Orange</td>\n",
       "      <td>missing</td>\n",
       "      <td>missing</td>\n",
       "      <td>Big Boys</td>\n",
       "      <td>1.441325e+09</td>\n",
       "      <td>2015.0</td>\n",
       "      <td>9.0</td>\n",
       "      <td>36.0</td>\n",
       "      <td>4.0</td>\n",
       "      <td>4.0</td>\n",
       "      <td>247.0</td>\n",
       "      <td>1.441325e+09</td>\n",
       "    </tr>\n",
       "    <tr>\n",
       "      <th>1</th>\n",
       "      <td>5.0</td>\n",
       "      <td>ALJ66O1Y6SLHA</td>\n",
       "      <td>B000K2PJ4K</td>\n",
       "      <td>Great product and price!</td>\n",
       "      <td>Five Stars</td>\n",
       "      <td>1.441325e+09</td>\n",
       "      <td>0</td>\n",
       "      <td>Black (37467610)</td>\n",
       "      <td>Red</td>\n",
       "      <td>White</td>\n",
       "      <td>missing</td>\n",
       "      <td>Big Boys</td>\n",
       "      <td>1.441325e+09</td>\n",
       "      <td>2015.0</td>\n",
       "      <td>9.0</td>\n",
       "      <td>36.0</td>\n",
       "      <td>4.0</td>\n",
       "      <td>4.0</td>\n",
       "      <td>247.0</td>\n",
       "      <td>1.441325e+09</td>\n",
       "    </tr>\n",
       "    <tr>\n",
       "      <th>2</th>\n",
       "      <td>5.0</td>\n",
       "      <td>ALJ66O1Y6SLHA</td>\n",
       "      <td>B000K2PJ4K</td>\n",
       "      <td>Great product and price!</td>\n",
       "      <td>Five Stars</td>\n",
       "      <td>1.441325e+09</td>\n",
       "      <td>0</td>\n",
       "      <td>Blue</td>\n",
       "      <td>Gray Logo</td>\n",
       "      <td>missing</td>\n",
       "      <td>missing</td>\n",
       "      <td>Big Boys</td>\n",
       "      <td>1.441325e+09</td>\n",
       "      <td>2015.0</td>\n",
       "      <td>9.0</td>\n",
       "      <td>36.0</td>\n",
       "      <td>4.0</td>\n",
       "      <td>4.0</td>\n",
       "      <td>247.0</td>\n",
       "      <td>1.441325e+09</td>\n",
       "    </tr>\n",
       "    <tr>\n",
       "      <th>3</th>\n",
       "      <td>5.0</td>\n",
       "      <td>ALJ66O1Y6SLHA</td>\n",
       "      <td>B000K2PJ4K</td>\n",
       "      <td>Great product and price!</td>\n",
       "      <td>Five Stars</td>\n",
       "      <td>1.441325e+09</td>\n",
       "      <td>0</td>\n",
       "      <td>Blue (37867638-99)</td>\n",
       "      <td>Yellow</td>\n",
       "      <td>missing</td>\n",
       "      <td>missing</td>\n",
       "      <td>Big Boys</td>\n",
       "      <td>1.441325e+09</td>\n",
       "      <td>2015.0</td>\n",
       "      <td>9.0</td>\n",
       "      <td>36.0</td>\n",
       "      <td>4.0</td>\n",
       "      <td>4.0</td>\n",
       "      <td>247.0</td>\n",
       "      <td>1.441325e+09</td>\n",
       "    </tr>\n",
       "    <tr>\n",
       "      <th>4</th>\n",
       "      <td>5.0</td>\n",
       "      <td>ALJ66O1Y6SLHA</td>\n",
       "      <td>B000K2PJ4K</td>\n",
       "      <td>Great product and price!</td>\n",
       "      <td>Five Stars</td>\n",
       "      <td>1.441325e+09</td>\n",
       "      <td>0</td>\n",
       "      <td>Blue</td>\n",
       "      <td>Pink</td>\n",
       "      <td>missing</td>\n",
       "      <td>missing</td>\n",
       "      <td>Big Boys</td>\n",
       "      <td>1.441325e+09</td>\n",
       "      <td>2015.0</td>\n",
       "      <td>9.0</td>\n",
       "      <td>36.0</td>\n",
       "      <td>4.0</td>\n",
       "      <td>4.0</td>\n",
       "      <td>247.0</td>\n",
       "      <td>1.441325e+09</td>\n",
       "    </tr>\n",
       "  </tbody>\n",
       "</table>\n",
       "</div>"
      ],
      "text/plain": [
       "   overall     reviewerID        asin                reviewText     summary  \\\n",
       "0      5.0  ALJ66O1Y6SLHA  B000K2PJ4K  Great product and price!  Five Stars   \n",
       "1      5.0  ALJ66O1Y6SLHA  B000K2PJ4K  Great product and price!  Five Stars   \n",
       "2      5.0  ALJ66O1Y6SLHA  B000K2PJ4K  Great product and price!  Five Stars   \n",
       "3      5.0  ALJ66O1Y6SLHA  B000K2PJ4K  Great product and price!  Five Stars   \n",
       "4      5.0  ALJ66O1Y6SLHA  B000K2PJ4K  Great product and price!  Five Stars   \n",
       "\n",
       "   unixReviewTime  vote                Color1     Color2   Color3   Color4  \\\n",
       "0    1.441325e+09     0                  Blue     Orange  missing  missing   \n",
       "1    1.441325e+09     0     Black (37467610)         Red    White  missing   \n",
       "2    1.441325e+09     0                  Blue  Gray Logo  missing  missing   \n",
       "3    1.441325e+09     0   Blue (37867638-99)      Yellow  missing  missing   \n",
       "4    1.441325e+09     0                  Blue       Pink  missing  missing   \n",
       "\n",
       "        Size  unixReviewTime.1  reviewTimeYear  reviewTimeMonth  \\\n",
       "0   Big Boys      1.441325e+09          2015.0              9.0   \n",
       "1   Big Boys      1.441325e+09          2015.0              9.0   \n",
       "2   Big Boys      1.441325e+09          2015.0              9.0   \n",
       "3   Big Boys      1.441325e+09          2015.0              9.0   \n",
       "4   Big Boys      1.441325e+09          2015.0              9.0   \n",
       "\n",
       "   reviewTimeWeek  reviewTimeDay  reviewTimeDayofweek  reviewTimeDayofyear  \\\n",
       "0            36.0            4.0                  4.0                247.0   \n",
       "1            36.0            4.0                  4.0                247.0   \n",
       "2            36.0            4.0                  4.0                247.0   \n",
       "3            36.0            4.0                  4.0                247.0   \n",
       "4            36.0            4.0                  4.0                247.0   \n",
       "\n",
       "   reviewTimeElapsed  \n",
       "0       1.441325e+09  \n",
       "1       1.441325e+09  \n",
       "2       1.441325e+09  \n",
       "3       1.441325e+09  \n",
       "4       1.441325e+09  "
      ]
     },
     "execution_count": 10,
     "metadata": {},
     "output_type": "execute_result"
    }
   ],
   "source": [
    "fashion_reviews.head()"
   ]
  },
  {
   "cell_type": "markdown",
   "metadata": {},
   "source": [
    "## The Keras Text Classification Model"
   ]
  },
  {
   "cell_type": "code",
   "execution_count": null,
   "metadata": {},
   "outputs": [],
   "source": []
  },
  {
   "cell_type": "markdown",
   "metadata": {},
   "source": [
    "### Finetuning a Pretrained Model"
   ]
  },
  {
   "cell_type": "code",
   "execution_count": null,
   "metadata": {},
   "outputs": [],
   "source": []
  },
  {
   "cell_type": "markdown",
   "metadata": {},
   "source": [
    "### Finetuning via Modules"
   ]
  },
  {
   "cell_type": "code",
   "execution_count": null,
   "metadata": {},
   "outputs": [],
   "source": []
  },
  {
   "cell_type": "markdown",
   "metadata": {},
   "source": [
    "### Finetuning via Preprocessing"
   ]
  },
  {
   "cell_type": "code",
   "execution_count": null,
   "metadata": {},
   "outputs": [],
   "source": []
  },
  {
   "cell_type": "markdown",
   "metadata": {},
   "source": [
    "## Conclusion"
   ]
  },
  {
   "cell_type": "markdown",
   "metadata": {},
   "source": []
  }
 ],
 "metadata": {
  "kernelspec": {
   "display_name": "fastai_env",
   "language": "python",
   "name": "python3"
  },
  "language_info": {
   "codemirror_mode": {
    "name": "ipython",
    "version": 3
   },
   "file_extension": ".py",
   "mimetype": "text/x-python",
   "name": "python",
   "nbconvert_exporter": "python",
   "pygments_lexer": "ipython3",
   "version": "3.8.18"
  }
 },
 "nbformat": 4,
 "nbformat_minor": 2
}
