{
 "cells": [
  {
   "cell_type": "markdown",
   "metadata": {},
   "source": [
    "# Fast AI Text: Product Recommendation\n",
    "Fast AI is a deep learning library built on top of PyTorch, designed to make it easier and faster to develop and train deep learning models.\n",
    "\n",
    "In this section I used FastAI to implement a product recommendation model built on top of a text dataset of clothing reviews from amazon.com. The 'X' features are a json dataset of reviews, star ratings, etc. of users for certain products, and the 'y' target is the product id number."
   ]
  },
  {
   "cell_type": "markdown",
   "metadata": {},
   "source": []
  },
  {
   "cell_type": "markdown",
   "metadata": {},
   "source": [
    "## Imports"
   ]
  },
  {
   "cell_type": "code",
   "execution_count": 1,
   "metadata": {},
   "outputs": [],
   "source": [
    "# loads the libraries used in this notebook\n",
    "import pandas as pd\n",
    "import gzip\n",
    "import json\n",
    "from fastai.tabular.all import *\n",
    "from fastai.text.all import *\n",
    "import ast"
   ]
  },
  {
   "cell_type": "markdown",
   "metadata": {},
   "source": [
    "## The Data"
   ]
  },
  {
   "cell_type": "code",
   "execution_count": 2,
   "metadata": {},
   "outputs": [],
   "source": [
    "# explore the data and select features\n",
    "def parse(path):\n",
    "  g = gzip.open(path, 'rb')\n",
    "  for l in g:\n",
    "    yield json.loads(l)\n",
    "\n",
    "def getDF(path):\n",
    "  i = 0\n",
    "  df = {}\n",
    "  for d in parse(path):\n",
    "    df[i] = d\n",
    "    i += 1\n",
    "  return pd.DataFrame.from_dict(df, orient='index')"
   ]
  },
  {
   "cell_type": "code",
   "execution_count": 3,
   "metadata": {},
   "outputs": [],
   "source": [
    "fashion_reviews = getDF('../../data/text_data/Amazon Fashion Review Data.json.gz')"
   ]
  },
  {
   "cell_type": "code",
   "execution_count": 4,
   "metadata": {},
   "outputs": [
    {
     "data": {
      "text/html": [
       "<div>\n",
       "<style scoped>\n",
       "    .dataframe tbody tr th:only-of-type {\n",
       "        vertical-align: middle;\n",
       "    }\n",
       "\n",
       "    .dataframe tbody tr th {\n",
       "        vertical-align: top;\n",
       "    }\n",
       "\n",
       "    .dataframe thead th {\n",
       "        text-align: right;\n",
       "    }\n",
       "</style>\n",
       "<table border=\"1\" class=\"dataframe\">\n",
       "  <thead>\n",
       "    <tr style=\"text-align: right;\">\n",
       "      <th></th>\n",
       "      <th>overall</th>\n",
       "      <th>verified</th>\n",
       "      <th>reviewTime</th>\n",
       "      <th>reviewerID</th>\n",
       "      <th>asin</th>\n",
       "      <th>style</th>\n",
       "      <th>reviewerName</th>\n",
       "      <th>reviewText</th>\n",
       "      <th>summary</th>\n",
       "      <th>unixReviewTime</th>\n",
       "      <th>vote</th>\n",
       "      <th>image</th>\n",
       "    </tr>\n",
       "  </thead>\n",
       "  <tbody>\n",
       "    <tr>\n",
       "      <th>0</th>\n",
       "      <td>5.0</td>\n",
       "      <td>True</td>\n",
       "      <td>09 4, 2015</td>\n",
       "      <td>ALJ66O1Y6SLHA</td>\n",
       "      <td>B000K2PJ4K</td>\n",
       "      <td>{'Size:': ' Big Boys', 'Color:': ' Blue/Orange'}</td>\n",
       "      <td>Tonya B.</td>\n",
       "      <td>Great product and price!</td>\n",
       "      <td>Five Stars</td>\n",
       "      <td>1441324800</td>\n",
       "      <td>NaN</td>\n",
       "      <td>NaN</td>\n",
       "    </tr>\n",
       "    <tr>\n",
       "      <th>1</th>\n",
       "      <td>5.0</td>\n",
       "      <td>True</td>\n",
       "      <td>09 4, 2015</td>\n",
       "      <td>ALJ66O1Y6SLHA</td>\n",
       "      <td>B000K2PJ4K</td>\n",
       "      <td>{'Size:': ' Big Boys', 'Color:': ' Black (37467610) / Red/White'}</td>\n",
       "      <td>Tonya B.</td>\n",
       "      <td>Great product and price!</td>\n",
       "      <td>Five Stars</td>\n",
       "      <td>1441324800</td>\n",
       "      <td>NaN</td>\n",
       "      <td>NaN</td>\n",
       "    </tr>\n",
       "    <tr>\n",
       "      <th>2</th>\n",
       "      <td>5.0</td>\n",
       "      <td>True</td>\n",
       "      <td>09 4, 2015</td>\n",
       "      <td>ALJ66O1Y6SLHA</td>\n",
       "      <td>B000K2PJ4K</td>\n",
       "      <td>{'Size:': ' Big Boys', 'Color:': ' Blue/Gray Logo'}</td>\n",
       "      <td>Tonya B.</td>\n",
       "      <td>Great product and price!</td>\n",
       "      <td>Five Stars</td>\n",
       "      <td>1441324800</td>\n",
       "      <td>NaN</td>\n",
       "      <td>NaN</td>\n",
       "    </tr>\n",
       "    <tr>\n",
       "      <th>3</th>\n",
       "      <td>5.0</td>\n",
       "      <td>True</td>\n",
       "      <td>09 4, 2015</td>\n",
       "      <td>ALJ66O1Y6SLHA</td>\n",
       "      <td>B000K2PJ4K</td>\n",
       "      <td>{'Size:': ' Big Boys', 'Color:': ' Blue (37867638-99) / Yellow'}</td>\n",
       "      <td>Tonya B.</td>\n",
       "      <td>Great product and price!</td>\n",
       "      <td>Five Stars</td>\n",
       "      <td>1441324800</td>\n",
       "      <td>NaN</td>\n",
       "      <td>NaN</td>\n",
       "    </tr>\n",
       "    <tr>\n",
       "      <th>4</th>\n",
       "      <td>5.0</td>\n",
       "      <td>True</td>\n",
       "      <td>09 4, 2015</td>\n",
       "      <td>ALJ66O1Y6SLHA</td>\n",
       "      <td>B000K2PJ4K</td>\n",
       "      <td>{'Size:': ' Big Boys', 'Color:': ' Blue/Pink'}</td>\n",
       "      <td>Tonya B.</td>\n",
       "      <td>Great product and price!</td>\n",
       "      <td>Five Stars</td>\n",
       "      <td>1441324800</td>\n",
       "      <td>NaN</td>\n",
       "      <td>NaN</td>\n",
       "    </tr>\n",
       "  </tbody>\n",
       "</table>\n",
       "</div>"
      ],
      "text/plain": [
       "   overall  verified  reviewTime     reviewerID        asin  \\\n",
       "0      5.0      True  09 4, 2015  ALJ66O1Y6SLHA  B000K2PJ4K   \n",
       "1      5.0      True  09 4, 2015  ALJ66O1Y6SLHA  B000K2PJ4K   \n",
       "2      5.0      True  09 4, 2015  ALJ66O1Y6SLHA  B000K2PJ4K   \n",
       "3      5.0      True  09 4, 2015  ALJ66O1Y6SLHA  B000K2PJ4K   \n",
       "4      5.0      True  09 4, 2015  ALJ66O1Y6SLHA  B000K2PJ4K   \n",
       "\n",
       "                                                               style  \\\n",
       "0                   {'Size:': ' Big Boys', 'Color:': ' Blue/Orange'}   \n",
       "1  {'Size:': ' Big Boys', 'Color:': ' Black (37467610) / Red/White'}   \n",
       "2                {'Size:': ' Big Boys', 'Color:': ' Blue/Gray Logo'}   \n",
       "3   {'Size:': ' Big Boys', 'Color:': ' Blue (37867638-99) / Yellow'}   \n",
       "4                     {'Size:': ' Big Boys', 'Color:': ' Blue/Pink'}   \n",
       "\n",
       "  reviewerName                reviewText     summary  unixReviewTime vote  \\\n",
       "0     Tonya B.  Great product and price!  Five Stars      1441324800  NaN   \n",
       "1     Tonya B.  Great product and price!  Five Stars      1441324800  NaN   \n",
       "2     Tonya B.  Great product and price!  Five Stars      1441324800  NaN   \n",
       "3     Tonya B.  Great product and price!  Five Stars      1441324800  NaN   \n",
       "4     Tonya B.  Great product and price!  Five Stars      1441324800  NaN   \n",
       "\n",
       "  image  \n",
       "0   NaN  \n",
       "1   NaN  \n",
       "2   NaN  \n",
       "3   NaN  \n",
       "4   NaN  "
      ]
     },
     "execution_count": 4,
     "metadata": {},
     "output_type": "execute_result"
    }
   ],
   "source": [
    "fashion_reviews.head()"
   ]
  },
  {
   "cell_type": "markdown",
   "metadata": {},
   "source": [
    "Since the purposes of our recommender is to recommend based on product review text to a product, it should be the product ASIN that is being predicted, and the input should be the review text."
   ]
  },
  {
   "cell_type": "markdown",
   "metadata": {},
   "source": [
    "## Pre-processing"
   ]
  },
  {
   "cell_type": "code",
   "execution_count": 5,
   "metadata": {},
   "outputs": [
    {
     "data": {
      "text/plain": [
       "Index(['overall', 'verified', 'reviewTime', 'reviewerID', 'asin', 'style',\n",
       "       'reviewerName', 'reviewText', 'summary', 'unixReviewTime', 'vote',\n",
       "       'image'],\n",
       "      dtype='object')"
      ]
     },
     "execution_count": 5,
     "metadata": {},
     "output_type": "execute_result"
    }
   ],
   "source": [
    "fashion_reviews.columns"
   ]
  },
  {
   "cell_type": "markdown",
   "metadata": {},
   "source": [
    "Looking at the columns, [reviewTime, unixReviewTime, vote, verified] features are numerical & may have signals useful for prediction a products likeability. The [style, reviewerID, reviewText, summary, overall] features are categorical and could also be useful. Finally, the ASIN is our 'y' target variable. The reviewerName and image features could be dropped as they may offer less useful signals for our purporse and given choice of a text recommendation model. "
   ]
  },
  {
   "cell_type": "code",
   "execution_count": 6,
   "metadata": {},
   "outputs": [
    {
     "data": {
      "text/plain": [
       "(3176, 12)"
      ]
     },
     "execution_count": 6,
     "metadata": {},
     "output_type": "execute_result"
    }
   ],
   "source": [
    "fashion_reviews.shape"
   ]
  },
  {
   "cell_type": "code",
   "execution_count": 7,
   "metadata": {},
   "outputs": [],
   "source": [
    "fashion_reviews.drop(['image', 'reviewerName'], axis=1, inplace=True)"
   ]
  },
  {
   "cell_type": "markdown",
   "metadata": {},
   "source": [
    "### Numerical Features"
   ]
  },
  {
   "cell_type": "markdown",
   "metadata": {},
   "source": [
    "#### Verified\n",
    "It may be a good idea to drop unverified reviews as they might be spam and there is only a small number of unverified comments."
   ]
  },
  {
   "cell_type": "code",
   "execution_count": 8,
   "metadata": {},
   "outputs": [
    {
     "data": {
      "text/plain": [
       "True     3079\n",
       "False      97\n",
       "Name: verified, dtype: int64"
      ]
     },
     "execution_count": 8,
     "metadata": {},
     "output_type": "execute_result"
    }
   ],
   "source": [
    "fashion_reviews.verified.value_counts()"
   ]
  },
  {
   "cell_type": "code",
   "execution_count": 9,
   "metadata": {},
   "outputs": [
    {
     "data": {
      "text/plain": [
       "(3079, 10)"
      ]
     },
     "execution_count": 9,
     "metadata": {},
     "output_type": "execute_result"
    }
   ],
   "source": [
    "fashion_reviews = fashion_reviews.where(fashion_reviews.verified == True).dropna(how='all')\n",
    "fashion_reviews.shape"
   ]
  },
  {
   "cell_type": "code",
   "execution_count": 10,
   "metadata": {},
   "outputs": [],
   "source": [
    "fashion_reviews.drop('verified', axis=1, inplace=True) #can be dropped as column is all true"
   ]
  },
  {
   "cell_type": "markdown",
   "metadata": {},
   "source": [
    "#### Date"
   ]
  },
  {
   "cell_type": "code",
   "execution_count": 11,
   "metadata": {},
   "outputs": [],
   "source": [
    "# date has to be converted into seperate date features\n",
    "date_feature = fashion_reviews.copy()\n",
    "date_feature = add_datepart(date_feature, 'reviewTime')"
   ]
  },
  {
   "cell_type": "code",
   "execution_count": 12,
   "metadata": {},
   "outputs": [],
   "source": [
    "datelike_features = list(date_feature.describe().columns)\n",
    "date_features = date_feature.loc[:, datelike_features]\n",
    "date_features.drop(['overall'], axis=1,inplace=True)"
   ]
  },
  {
   "cell_type": "code",
   "execution_count": 13,
   "metadata": {},
   "outputs": [
    {
     "data": {
      "text/html": [
       "<div>\n",
       "<style scoped>\n",
       "    .dataframe tbody tr th:only-of-type {\n",
       "        vertical-align: middle;\n",
       "    }\n",
       "\n",
       "    .dataframe tbody tr th {\n",
       "        vertical-align: top;\n",
       "    }\n",
       "\n",
       "    .dataframe thead th {\n",
       "        text-align: right;\n",
       "    }\n",
       "</style>\n",
       "<table border=\"1\" class=\"dataframe\">\n",
       "  <thead>\n",
       "    <tr style=\"text-align: right;\">\n",
       "      <th></th>\n",
       "      <th>unixReviewTime</th>\n",
       "      <th>reviewTimeYear</th>\n",
       "      <th>reviewTimeMonth</th>\n",
       "      <th>reviewTimeWeek</th>\n",
       "      <th>reviewTimeDay</th>\n",
       "      <th>reviewTimeDayofweek</th>\n",
       "      <th>reviewTimeDayofyear</th>\n",
       "      <th>reviewTimeElapsed</th>\n",
       "    </tr>\n",
       "  </thead>\n",
       "  <tbody>\n",
       "    <tr>\n",
       "      <th>0</th>\n",
       "      <td>1.441325e+09</td>\n",
       "      <td>2015</td>\n",
       "      <td>9</td>\n",
       "      <td>36</td>\n",
       "      <td>4</td>\n",
       "      <td>4</td>\n",
       "      <td>247</td>\n",
       "      <td>1.441325e+09</td>\n",
       "    </tr>\n",
       "    <tr>\n",
       "      <th>1</th>\n",
       "      <td>1.441325e+09</td>\n",
       "      <td>2015</td>\n",
       "      <td>9</td>\n",
       "      <td>36</td>\n",
       "      <td>4</td>\n",
       "      <td>4</td>\n",
       "      <td>247</td>\n",
       "      <td>1.441325e+09</td>\n",
       "    </tr>\n",
       "    <tr>\n",
       "      <th>2</th>\n",
       "      <td>1.441325e+09</td>\n",
       "      <td>2015</td>\n",
       "      <td>9</td>\n",
       "      <td>36</td>\n",
       "      <td>4</td>\n",
       "      <td>4</td>\n",
       "      <td>247</td>\n",
       "      <td>1.441325e+09</td>\n",
       "    </tr>\n",
       "    <tr>\n",
       "      <th>3</th>\n",
       "      <td>1.441325e+09</td>\n",
       "      <td>2015</td>\n",
       "      <td>9</td>\n",
       "      <td>36</td>\n",
       "      <td>4</td>\n",
       "      <td>4</td>\n",
       "      <td>247</td>\n",
       "      <td>1.441325e+09</td>\n",
       "    </tr>\n",
       "    <tr>\n",
       "      <th>4</th>\n",
       "      <td>1.441325e+09</td>\n",
       "      <td>2015</td>\n",
       "      <td>9</td>\n",
       "      <td>36</td>\n",
       "      <td>4</td>\n",
       "      <td>4</td>\n",
       "      <td>247</td>\n",
       "      <td>1.441325e+09</td>\n",
       "    </tr>\n",
       "  </tbody>\n",
       "</table>\n",
       "</div>"
      ],
      "text/plain": [
       "   unixReviewTime  reviewTimeYear  reviewTimeMonth  reviewTimeWeek  \\\n",
       "0    1.441325e+09            2015                9              36   \n",
       "1    1.441325e+09            2015                9              36   \n",
       "2    1.441325e+09            2015                9              36   \n",
       "3    1.441325e+09            2015                9              36   \n",
       "4    1.441325e+09            2015                9              36   \n",
       "\n",
       "   reviewTimeDay  reviewTimeDayofweek  reviewTimeDayofyear  reviewTimeElapsed  \n",
       "0              4                    4                  247       1.441325e+09  \n",
       "1              4                    4                  247       1.441325e+09  \n",
       "2              4                    4                  247       1.441325e+09  \n",
       "3              4                    4                  247       1.441325e+09  \n",
       "4              4                    4                  247       1.441325e+09  "
      ]
     },
     "execution_count": 13,
     "metadata": {},
     "output_type": "execute_result"
    }
   ],
   "source": [
    "date_features.head()"
   ]
  },
  {
   "cell_type": "markdown",
   "metadata": {},
   "source": [
    "### Categorical Features"
   ]
  },
  {
   "cell_type": "markdown",
   "metadata": {},
   "source": [
    "#### Style"
   ]
  },
  {
   "cell_type": "code",
   "execution_count": 14,
   "metadata": {},
   "outputs": [],
   "source": [
    "# converting style into features\n",
    "product_style = fashion_reviews.loc[:, ['style']]"
   ]
  },
  {
   "cell_type": "code",
   "execution_count": 15,
   "metadata": {},
   "outputs": [
    {
     "data": {
      "text/html": [
       "<div>\n",
       "<style scoped>\n",
       "    .dataframe tbody tr th:only-of-type {\n",
       "        vertical-align: middle;\n",
       "    }\n",
       "\n",
       "    .dataframe tbody tr th {\n",
       "        vertical-align: top;\n",
       "    }\n",
       "\n",
       "    .dataframe thead th {\n",
       "        text-align: right;\n",
       "    }\n",
       "</style>\n",
       "<table border=\"1\" class=\"dataframe\">\n",
       "  <thead>\n",
       "    <tr style=\"text-align: right;\">\n",
       "      <th></th>\n",
       "      <th>style</th>\n",
       "    </tr>\n",
       "  </thead>\n",
       "  <tbody>\n",
       "    <tr>\n",
       "      <th>0</th>\n",
       "      <td>{'Size:': ' Big Boys', 'Color:': ' Blue/Orange'}</td>\n",
       "    </tr>\n",
       "    <tr>\n",
       "      <th>1</th>\n",
       "      <td>{'Size:': ' Big Boys', 'Color:': ' Black (37467610) / Red/White'}</td>\n",
       "    </tr>\n",
       "    <tr>\n",
       "      <th>2</th>\n",
       "      <td>{'Size:': ' Big Boys', 'Color:': ' Blue/Gray Logo'}</td>\n",
       "    </tr>\n",
       "    <tr>\n",
       "      <th>3</th>\n",
       "      <td>{'Size:': ' Big Boys', 'Color:': ' Blue (37867638-99) / Yellow'}</td>\n",
       "    </tr>\n",
       "    <tr>\n",
       "      <th>4</th>\n",
       "      <td>{'Size:': ' Big Boys', 'Color:': ' Blue/Pink'}</td>\n",
       "    </tr>\n",
       "    <tr>\n",
       "      <th>...</th>\n",
       "      <td>...</td>\n",
       "    </tr>\n",
       "    <tr>\n",
       "      <th>3171</th>\n",
       "      <td>{'Size:': ' 8.5 B(M) US', 'Color:': ' Green Glow/Seaweed - Hasta - White'}</td>\n",
       "    </tr>\n",
       "    <tr>\n",
       "      <th>3172</th>\n",
       "      <td>{'Size:': ' 5 B(M) US', 'Color:': ' Wolf Grey/Black-pink Blast/White'}</td>\n",
       "    </tr>\n",
       "    <tr>\n",
       "      <th>3173</th>\n",
       "      <td>{'Size:': ' 8 B(M) US', 'Color:': ' Blue Tint/Green Glow/Hasta/White'}</td>\n",
       "    </tr>\n",
       "    <tr>\n",
       "      <th>3174</th>\n",
       "      <td>{'Size:': ' 9 B(M) US', 'Color:': ' Blue Tint/Green Glow/Hasta/White'}</td>\n",
       "    </tr>\n",
       "    <tr>\n",
       "      <th>3175</th>\n",
       "      <td>{'Size:': ' 9 B(M) US', 'Color:': ' Black/White/Anthracite/Stealth'}</td>\n",
       "    </tr>\n",
       "  </tbody>\n",
       "</table>\n",
       "<p>3079 rows × 1 columns</p>\n",
       "</div>"
      ],
      "text/plain": [
       "                                                                           style\n",
       "0                               {'Size:': ' Big Boys', 'Color:': ' Blue/Orange'}\n",
       "1              {'Size:': ' Big Boys', 'Color:': ' Black (37467610) / Red/White'}\n",
       "2                            {'Size:': ' Big Boys', 'Color:': ' Blue/Gray Logo'}\n",
       "3               {'Size:': ' Big Boys', 'Color:': ' Blue (37867638-99) / Yellow'}\n",
       "4                                 {'Size:': ' Big Boys', 'Color:': ' Blue/Pink'}\n",
       "...                                                                          ...\n",
       "3171  {'Size:': ' 8.5 B(M) US', 'Color:': ' Green Glow/Seaweed - Hasta - White'}\n",
       "3172      {'Size:': ' 5 B(M) US', 'Color:': ' Wolf Grey/Black-pink Blast/White'}\n",
       "3173      {'Size:': ' 8 B(M) US', 'Color:': ' Blue Tint/Green Glow/Hasta/White'}\n",
       "3174      {'Size:': ' 9 B(M) US', 'Color:': ' Blue Tint/Green Glow/Hasta/White'}\n",
       "3175        {'Size:': ' 9 B(M) US', 'Color:': ' Black/White/Anthracite/Stealth'}\n",
       "\n",
       "[3079 rows x 1 columns]"
      ]
     },
     "execution_count": 15,
     "metadata": {},
     "output_type": "execute_result"
    }
   ],
   "source": [
    "product_style"
   ]
  },
  {
   "cell_type": "code",
   "execution_count": 16,
   "metadata": {},
   "outputs": [
    {
     "data": {
      "text/plain": [
       "61"
      ]
     },
     "execution_count": 16,
     "metadata": {},
     "output_type": "execute_result"
    }
   ],
   "source": [
    "product_style['style'].isnull().sum()"
   ]
  },
  {
   "cell_type": "code",
   "execution_count": 17,
   "metadata": {},
   "outputs": [],
   "source": [
    "# style has to be converted from json to a feature of columns\n",
    "# made with help of ai\n",
    "def unpack_style_features(df, style_column):\n",
    "    def process_styles(styles):\n",
    "        if isinstance(styles, dict):\n",
    "            return styles\n",
    "        else:\n",
    "            return {}\n",
    "    \n",
    "    # Get unique style keys\n",
    "    unique_keys = set()\n",
    "    for styles in df[style_column]:\n",
    "        styles = process_styles(styles)\n",
    "        unique_keys.update(styles.keys())\n",
    "    \n",
    "    # Create a DataFrame with missing category for each unique style key\n",
    "    style_df = pd.DataFrame(columns=list(unique_keys))\n",
    "    \n",
    "    # Fill the DataFrame with the style values\n",
    "    for index, styles in enumerate(df[style_column]):\n",
    "        styles = process_styles(styles)\n",
    "        for key, value in styles.items():\n",
    "            if key == 'Color:':\n",
    "                colors = value.split('/')\n",
    "                for i, color in enumerate(colors, start=1):\n",
    "                    style_df.loc[index, f'Color{i}'] = color\n",
    "            else:\n",
    "                style_df.loc[index, key] = value\n",
    "    \n",
    "    # Fill missing values with 'missing'\n",
    "    style_df = style_df.fillna('missing')\n",
    "    \n",
    "    # Concatenate the style DataFrame with the original DataFrame\n",
    "    df = pd.concat([df, style_df], axis=1)\n",
    "    \n",
    "    return df\n",
    "\n"
   ]
  },
  {
   "cell_type": "code",
   "execution_count": 18,
   "metadata": {},
   "outputs": [],
   "source": [
    "style_features = unpack_style_features(product_style, 'style')\n",
    "style_features = style_features.dropna(how='all')\n",
    "style_features['Size'] = style_features['Size:'].copy()\n",
    "style_features = style_features.drop(['Size:','style','Style:', 'Size Name:', 'Color:'], axis=1)"
   ]
  },
  {
   "cell_type": "code",
   "execution_count": 19,
   "metadata": {},
   "outputs": [
    {
     "data": {
      "text/html": [
       "<div>\n",
       "<style scoped>\n",
       "    .dataframe tbody tr th:only-of-type {\n",
       "        vertical-align: middle;\n",
       "    }\n",
       "\n",
       "    .dataframe tbody tr th {\n",
       "        vertical-align: top;\n",
       "    }\n",
       "\n",
       "    .dataframe thead th {\n",
       "        text-align: right;\n",
       "    }\n",
       "</style>\n",
       "<table border=\"1\" class=\"dataframe\">\n",
       "  <thead>\n",
       "    <tr style=\"text-align: right;\">\n",
       "      <th></th>\n",
       "      <th>Color1</th>\n",
       "      <th>Color2</th>\n",
       "      <th>Color3</th>\n",
       "      <th>Color4</th>\n",
       "      <th>Size</th>\n",
       "    </tr>\n",
       "  </thead>\n",
       "  <tbody>\n",
       "    <tr>\n",
       "      <th>0</th>\n",
       "      <td>Blue</td>\n",
       "      <td>Orange</td>\n",
       "      <td>missing</td>\n",
       "      <td>missing</td>\n",
       "      <td>Big Boys</td>\n",
       "    </tr>\n",
       "    <tr>\n",
       "      <th>1</th>\n",
       "      <td>Black (37467610)</td>\n",
       "      <td>Red</td>\n",
       "      <td>White</td>\n",
       "      <td>missing</td>\n",
       "      <td>Big Boys</td>\n",
       "    </tr>\n",
       "    <tr>\n",
       "      <th>2</th>\n",
       "      <td>Blue</td>\n",
       "      <td>Gray Logo</td>\n",
       "      <td>missing</td>\n",
       "      <td>missing</td>\n",
       "      <td>Big Boys</td>\n",
       "    </tr>\n",
       "    <tr>\n",
       "      <th>3</th>\n",
       "      <td>Blue (37867638-99)</td>\n",
       "      <td>Yellow</td>\n",
       "      <td>missing</td>\n",
       "      <td>missing</td>\n",
       "      <td>Big Boys</td>\n",
       "    </tr>\n",
       "    <tr>\n",
       "      <th>4</th>\n",
       "      <td>Blue</td>\n",
       "      <td>Pink</td>\n",
       "      <td>missing</td>\n",
       "      <td>missing</td>\n",
       "      <td>Big Boys</td>\n",
       "    </tr>\n",
       "    <tr>\n",
       "      <th>...</th>\n",
       "      <td>...</td>\n",
       "      <td>...</td>\n",
       "      <td>...</td>\n",
       "      <td>...</td>\n",
       "      <td>...</td>\n",
       "    </tr>\n",
       "    <tr>\n",
       "      <th>2943</th>\n",
       "      <td>Pink Blast</td>\n",
       "      <td>Stealth</td>\n",
       "      <td>Hyper Pink</td>\n",
       "      <td>White</td>\n",
       "      <td>10 M US</td>\n",
       "    </tr>\n",
       "    <tr>\n",
       "      <th>2979</th>\n",
       "      <td>Black</td>\n",
       "      <td>White</td>\n",
       "      <td>Anthracite</td>\n",
       "      <td>Stealth</td>\n",
       "      <td>9.5 M US</td>\n",
       "    </tr>\n",
       "    <tr>\n",
       "      <th>3035</th>\n",
       "      <td>Black</td>\n",
       "      <td>White</td>\n",
       "      <td>Anthracite</td>\n",
       "      <td>Stealth</td>\n",
       "      <td>9 B(M) US</td>\n",
       "    </tr>\n",
       "    <tr>\n",
       "      <th>3049</th>\n",
       "      <td>Blue Tint</td>\n",
       "      <td>Green Glow</td>\n",
       "      <td>Hasta</td>\n",
       "      <td>White</td>\n",
       "      <td>6 B(M) US</td>\n",
       "    </tr>\n",
       "    <tr>\n",
       "      <th>3078</th>\n",
       "      <td>Black</td>\n",
       "      <td>White</td>\n",
       "      <td>Anthracite</td>\n",
       "      <td>Stealth</td>\n",
       "      <td>9 B(M) US</td>\n",
       "    </tr>\n",
       "  </tbody>\n",
       "</table>\n",
       "<p>3117 rows × 5 columns</p>\n",
       "</div>"
      ],
      "text/plain": [
       "                    Color1      Color2      Color3   Color4        Size\n",
       "0                     Blue      Orange     missing  missing    Big Boys\n",
       "1        Black (37467610)          Red       White  missing    Big Boys\n",
       "2                     Blue   Gray Logo     missing  missing    Big Boys\n",
       "3      Blue (37867638-99)       Yellow     missing  missing    Big Boys\n",
       "4                     Blue        Pink     missing  missing    Big Boys\n",
       "...                    ...         ...         ...      ...         ...\n",
       "2943            Pink Blast     Stealth  Hyper Pink    White     10 M US\n",
       "2979                 Black       White  Anthracite  Stealth    9.5 M US\n",
       "3035                 Black       White  Anthracite  Stealth   9 B(M) US\n",
       "3049             Blue Tint  Green Glow       Hasta    White   6 B(M) US\n",
       "3078                 Black       White  Anthracite  Stealth   9 B(M) US\n",
       "\n",
       "[3117 rows x 5 columns]"
      ]
     },
     "execution_count": 19,
     "metadata": {},
     "output_type": "execute_result"
    }
   ],
   "source": [
    "style_features"
   ]
  },
  {
   "cell_type": "code",
   "execution_count": 20,
   "metadata": {},
   "outputs": [
    {
     "data": {
      "text/plain": [
       "Color1                Color2           Color3      Color4   Size        \n",
       " Black                White            Anthracite  Stealth   9 B(M) US      175\n",
       "                                                             8.5 B(M) US    152\n",
       "                                                             9.5 B(M) US    152\n",
       "                                                             8 B(M) US      140\n",
       "                                                             7.5 B(M) US     96\n",
       "                                                                           ... \n",
       " Blue                 Orange           missing     missing   Little Boys      1\n",
       "                                                             Big Boys         1\n",
       " White                Metallic Silver  Black       missing   8.5 M US         1\n",
       " Blue                 Gray Logo        missing     missing   Big Boys         1\n",
       " Blue (37867638-99)    Yellow          missing     missing   Little Boys      1\n",
       "Length: 279, dtype: int64"
      ]
     },
     "execution_count": 20,
     "metadata": {},
     "output_type": "execute_result"
    }
   ],
   "source": [
    "style_features.value_counts()"
   ]
  },
  {
   "cell_type": "markdown",
   "metadata": {},
   "source": [
    "#### reviewerID, reviewText, summary, overall"
   ]
  },
  {
   "cell_type": "code",
   "execution_count": 21,
   "metadata": {},
   "outputs": [],
   "source": [
    "fashion_reviews = fashion_reviews.drop(['style', 'reviewTime'], axis = 1)"
   ]
  },
  {
   "cell_type": "markdown",
   "metadata": {},
   "source": [
    "Althought 'vote' is numerical, it doesn't have much data. Only about 10% of the dataset has a 'vote' value. This may be useful though as it may mean that the other votes are lower ranked and are not as informative. I debate dropping this one due to high missing values, but may just fill in using imputation later on."
   ]
  },
  {
   "cell_type": "code",
   "execution_count": 22,
   "metadata": {},
   "outputs": [
    {
     "data": {
      "text/plain": [
       "2814"
      ]
     },
     "execution_count": 22,
     "metadata": {},
     "output_type": "execute_result"
    }
   ],
   "source": [
    "fashion_reviews.vote.isnull().sum()"
   ]
  },
  {
   "cell_type": "code",
   "execution_count": 23,
   "metadata": {},
   "outputs": [
    {
     "data": {
      "text/plain": [
       "count     265\n",
       "unique     15\n",
       "top         2\n",
       "freq       84\n",
       "Name: vote, dtype: object"
      ]
     },
     "execution_count": 23,
     "metadata": {},
     "output_type": "execute_result"
    }
   ],
   "source": [
    "fashion_reviews.vote.describe()"
   ]
  },
  {
   "cell_type": "code",
   "execution_count": 24,
   "metadata": {},
   "outputs": [
    {
     "data": {
      "text/plain": [
       "5.0    2077\n",
       "4.0     463\n",
       "3.0     329\n",
       "1.0     117\n",
       "2.0      93\n",
       "Name: overall, dtype: int64"
      ]
     },
     "execution_count": 24,
     "metadata": {},
     "output_type": "execute_result"
    }
   ],
   "source": [
    "fashion_reviews.overall.value_counts() #overall is the ordinal star value, where 5 is the best"
   ]
  },
  {
   "cell_type": "markdown",
   "metadata": {},
   "source": [
    "### Combining Features"
   ]
  },
  {
   "cell_type": "code",
   "execution_count": 25,
   "metadata": {},
   "outputs": [],
   "source": [
    "combined_preprocessed = pd.concat([fashion_reviews, style_features, date_features], axis=1)"
   ]
  },
  {
   "cell_type": "code",
   "execution_count": 26,
   "metadata": {},
   "outputs": [],
   "source": [
    "combined_preprocessed = combined_preprocessed.dropna(subset=['reviewTimeYear'])\n",
    "combined_preprocessed = combined_preprocessed.dropna(subset=['asin'])"
   ]
  },
  {
   "cell_type": "code",
   "execution_count": 27,
   "metadata": {},
   "outputs": [],
   "source": [
    "combined_preprocessed.reset_index(drop=True, inplace=True)"
   ]
  },
  {
   "cell_type": "code",
   "execution_count": 28,
   "metadata": {},
   "outputs": [
    {
     "data": {
      "text/plain": [
       "(3079, 20)"
      ]
     },
     "execution_count": 28,
     "metadata": {},
     "output_type": "execute_result"
    }
   ],
   "source": [
    "combined_preprocessed.shape"
   ]
  },
  {
   "cell_type": "code",
   "execution_count": 29,
   "metadata": {},
   "outputs": [
    {
     "data": {
      "text/html": [
       "<div>\n",
       "<style scoped>\n",
       "    .dataframe tbody tr th:only-of-type {\n",
       "        vertical-align: middle;\n",
       "    }\n",
       "\n",
       "    .dataframe tbody tr th {\n",
       "        vertical-align: top;\n",
       "    }\n",
       "\n",
       "    .dataframe thead th {\n",
       "        text-align: right;\n",
       "    }\n",
       "</style>\n",
       "<table border=\"1\" class=\"dataframe\">\n",
       "  <thead>\n",
       "    <tr style=\"text-align: right;\">\n",
       "      <th></th>\n",
       "      <th>overall</th>\n",
       "      <th>reviewerID</th>\n",
       "      <th>asin</th>\n",
       "      <th>reviewText</th>\n",
       "      <th>summary</th>\n",
       "      <th>unixReviewTime</th>\n",
       "      <th>vote</th>\n",
       "      <th>Color1</th>\n",
       "      <th>Color2</th>\n",
       "      <th>Color3</th>\n",
       "      <th>Color4</th>\n",
       "      <th>Size</th>\n",
       "      <th>unixReviewTime</th>\n",
       "      <th>reviewTimeYear</th>\n",
       "      <th>reviewTimeMonth</th>\n",
       "      <th>reviewTimeWeek</th>\n",
       "      <th>reviewTimeDay</th>\n",
       "      <th>reviewTimeDayofweek</th>\n",
       "      <th>reviewTimeDayofyear</th>\n",
       "      <th>reviewTimeElapsed</th>\n",
       "    </tr>\n",
       "  </thead>\n",
       "  <tbody>\n",
       "    <tr>\n",
       "      <th>0</th>\n",
       "      <td>5.0</td>\n",
       "      <td>ALJ66O1Y6SLHA</td>\n",
       "      <td>B000K2PJ4K</td>\n",
       "      <td>Great product and price!</td>\n",
       "      <td>Five Stars</td>\n",
       "      <td>1.441325e+09</td>\n",
       "      <td>NaN</td>\n",
       "      <td>Blue</td>\n",
       "      <td>Orange</td>\n",
       "      <td>missing</td>\n",
       "      <td>missing</td>\n",
       "      <td>Big Boys</td>\n",
       "      <td>1.441325e+09</td>\n",
       "      <td>2015.0</td>\n",
       "      <td>9.0</td>\n",
       "      <td>36.0</td>\n",
       "      <td>4.0</td>\n",
       "      <td>4.0</td>\n",
       "      <td>247.0</td>\n",
       "      <td>1.441325e+09</td>\n",
       "    </tr>\n",
       "    <tr>\n",
       "      <th>1</th>\n",
       "      <td>5.0</td>\n",
       "      <td>ALJ66O1Y6SLHA</td>\n",
       "      <td>B000K2PJ4K</td>\n",
       "      <td>Great product and price!</td>\n",
       "      <td>Five Stars</td>\n",
       "      <td>1.441325e+09</td>\n",
       "      <td>NaN</td>\n",
       "      <td>Black (37467610)</td>\n",
       "      <td>Red</td>\n",
       "      <td>White</td>\n",
       "      <td>missing</td>\n",
       "      <td>Big Boys</td>\n",
       "      <td>1.441325e+09</td>\n",
       "      <td>2015.0</td>\n",
       "      <td>9.0</td>\n",
       "      <td>36.0</td>\n",
       "      <td>4.0</td>\n",
       "      <td>4.0</td>\n",
       "      <td>247.0</td>\n",
       "      <td>1.441325e+09</td>\n",
       "    </tr>\n",
       "    <tr>\n",
       "      <th>2</th>\n",
       "      <td>5.0</td>\n",
       "      <td>ALJ66O1Y6SLHA</td>\n",
       "      <td>B000K2PJ4K</td>\n",
       "      <td>Great product and price!</td>\n",
       "      <td>Five Stars</td>\n",
       "      <td>1.441325e+09</td>\n",
       "      <td>NaN</td>\n",
       "      <td>Blue</td>\n",
       "      <td>Gray Logo</td>\n",
       "      <td>missing</td>\n",
       "      <td>missing</td>\n",
       "      <td>Big Boys</td>\n",
       "      <td>1.441325e+09</td>\n",
       "      <td>2015.0</td>\n",
       "      <td>9.0</td>\n",
       "      <td>36.0</td>\n",
       "      <td>4.0</td>\n",
       "      <td>4.0</td>\n",
       "      <td>247.0</td>\n",
       "      <td>1.441325e+09</td>\n",
       "    </tr>\n",
       "    <tr>\n",
       "      <th>3</th>\n",
       "      <td>5.0</td>\n",
       "      <td>ALJ66O1Y6SLHA</td>\n",
       "      <td>B000K2PJ4K</td>\n",
       "      <td>Great product and price!</td>\n",
       "      <td>Five Stars</td>\n",
       "      <td>1.441325e+09</td>\n",
       "      <td>NaN</td>\n",
       "      <td>Blue (37867638-99)</td>\n",
       "      <td>Yellow</td>\n",
       "      <td>missing</td>\n",
       "      <td>missing</td>\n",
       "      <td>Big Boys</td>\n",
       "      <td>1.441325e+09</td>\n",
       "      <td>2015.0</td>\n",
       "      <td>9.0</td>\n",
       "      <td>36.0</td>\n",
       "      <td>4.0</td>\n",
       "      <td>4.0</td>\n",
       "      <td>247.0</td>\n",
       "      <td>1.441325e+09</td>\n",
       "    </tr>\n",
       "    <tr>\n",
       "      <th>4</th>\n",
       "      <td>5.0</td>\n",
       "      <td>ALJ66O1Y6SLHA</td>\n",
       "      <td>B000K2PJ4K</td>\n",
       "      <td>Great product and price!</td>\n",
       "      <td>Five Stars</td>\n",
       "      <td>1.441325e+09</td>\n",
       "      <td>NaN</td>\n",
       "      <td>Blue</td>\n",
       "      <td>Pink</td>\n",
       "      <td>missing</td>\n",
       "      <td>missing</td>\n",
       "      <td>Big Boys</td>\n",
       "      <td>1.441325e+09</td>\n",
       "      <td>2015.0</td>\n",
       "      <td>9.0</td>\n",
       "      <td>36.0</td>\n",
       "      <td>4.0</td>\n",
       "      <td>4.0</td>\n",
       "      <td>247.0</td>\n",
       "      <td>1.441325e+09</td>\n",
       "    </tr>\n",
       "  </tbody>\n",
       "</table>\n",
       "</div>"
      ],
      "text/plain": [
       "   overall     reviewerID        asin                reviewText     summary  \\\n",
       "0      5.0  ALJ66O1Y6SLHA  B000K2PJ4K  Great product and price!  Five Stars   \n",
       "1      5.0  ALJ66O1Y6SLHA  B000K2PJ4K  Great product and price!  Five Stars   \n",
       "2      5.0  ALJ66O1Y6SLHA  B000K2PJ4K  Great product and price!  Five Stars   \n",
       "3      5.0  ALJ66O1Y6SLHA  B000K2PJ4K  Great product and price!  Five Stars   \n",
       "4      5.0  ALJ66O1Y6SLHA  B000K2PJ4K  Great product and price!  Five Stars   \n",
       "\n",
       "   unixReviewTime vote                Color1     Color2   Color3   Color4  \\\n",
       "0    1.441325e+09  NaN                  Blue     Orange  missing  missing   \n",
       "1    1.441325e+09  NaN     Black (37467610)         Red    White  missing   \n",
       "2    1.441325e+09  NaN                  Blue  Gray Logo  missing  missing   \n",
       "3    1.441325e+09  NaN   Blue (37867638-99)      Yellow  missing  missing   \n",
       "4    1.441325e+09  NaN                  Blue       Pink  missing  missing   \n",
       "\n",
       "        Size  unixReviewTime  reviewTimeYear  reviewTimeMonth  reviewTimeWeek  \\\n",
       "0   Big Boys    1.441325e+09          2015.0              9.0            36.0   \n",
       "1   Big Boys    1.441325e+09          2015.0              9.0            36.0   \n",
       "2   Big Boys    1.441325e+09          2015.0              9.0            36.0   \n",
       "3   Big Boys    1.441325e+09          2015.0              9.0            36.0   \n",
       "4   Big Boys    1.441325e+09          2015.0              9.0            36.0   \n",
       "\n",
       "   reviewTimeDay  reviewTimeDayofweek  reviewTimeDayofyear  reviewTimeElapsed  \n",
       "0            4.0                  4.0                247.0       1.441325e+09  \n",
       "1            4.0                  4.0                247.0       1.441325e+09  \n",
       "2            4.0                  4.0                247.0       1.441325e+09  \n",
       "3            4.0                  4.0                247.0       1.441325e+09  \n",
       "4            4.0                  4.0                247.0       1.441325e+09  "
      ]
     },
     "execution_count": 29,
     "metadata": {},
     "output_type": "execute_result"
    }
   ],
   "source": [
    "combined_preprocessed.head()"
   ]
  },
  {
   "cell_type": "markdown",
   "metadata": {},
   "source": [
    "### Processing with FastAI"
   ]
  },
  {
   "cell_type": "code",
   "execution_count": 30,
   "metadata": {},
   "outputs": [
    {
     "data": {
      "text/plain": [
       "reviewTimeYear\n",
       "2017.0    0.525495\n",
       "2016.0    0.272491\n",
       "2018.0    0.180578\n",
       "2015.0    0.013966\n",
       "2014.0    0.003248\n",
       "2010.0    0.001624\n",
       "2012.0    0.001299\n",
       "2009.0    0.001299\n",
       "Name: proportion, dtype: float64"
      ]
     },
     "execution_count": 30,
     "metadata": {},
     "output_type": "execute_result"
    }
   ],
   "source": [
    "combined_preprocessed.reviewTimeYear.value_counts(normalize=True) # training on years <= 2017"
   ]
  },
  {
   "cell_type": "code",
   "execution_count": 31,
   "metadata": {},
   "outputs": [],
   "source": [
    "year_cond = (combined_preprocessed.reviewTimeYear<2018)\n",
    "train_idx = np.where( year_cond)[0]\n",
    "valid_idx = np.where(~year_cond)[0]\n",
    "splits = (list(train_idx),list(valid_idx))"
   ]
  },
  {
   "cell_type": "code",
   "execution_count": 32,
   "metadata": {},
   "outputs": [
    {
     "data": {
      "text/plain": [
       "True"
      ]
     },
     "execution_count": 32,
     "metadata": {},
     "output_type": "execute_result"
    }
   ],
   "source": [
    "len(splits[0]) + len(splits[1]) == len(combined_preprocessed)"
   ]
  },
  {
   "cell_type": "code",
   "execution_count": 33,
   "metadata": {},
   "outputs": [
    {
     "data": {
      "text/plain": [
       "Index(['overall', 'reviewerID', 'asin', 'reviewText', 'summary',\n",
       "       'unixReviewTime', 'vote', 'Color1', 'Color2', 'Color3', 'Color4',\n",
       "       'Size', 'unixReviewTime', 'reviewTimeYear', 'reviewTimeMonth',\n",
       "       'reviewTimeWeek', 'reviewTimeDay', 'reviewTimeDayofweek',\n",
       "       'reviewTimeDayofyear', 'reviewTimeElapsed'],\n",
       "      dtype='object')"
      ]
     },
     "execution_count": 33,
     "metadata": {},
     "output_type": "execute_result"
    }
   ],
   "source": [
    "combined_preprocessed.columns"
   ]
  },
  {
   "cell_type": "code",
   "execution_count": 34,
   "metadata": {},
   "outputs": [
    {
     "data": {
      "text/plain": [
       "(3079, 20)"
      ]
     },
     "execution_count": 34,
     "metadata": {},
     "output_type": "execute_result"
    }
   ],
   "source": [
    "combined_preprocessed.shape"
   ]
  },
  {
   "cell_type": "code",
   "execution_count": 35,
   "metadata": {},
   "outputs": [
    {
     "data": {
      "text/plain": [
       "['unixReviewTime',\n",
       " 'reviewTimeYear',\n",
       " 'reviewTimeMonth',\n",
       " 'reviewTimeWeek',\n",
       " 'reviewTimeDay',\n",
       " 'reviewTimeDayofweek',\n",
       " 'reviewTimeDayofyear',\n",
       " 'reviewTimeElapsed',\n",
       " 'vote',\n",
       " 'overall']"
      ]
     },
     "execution_count": 35,
     "metadata": {},
     "output_type": "execute_result"
    }
   ],
   "source": [
    "continuous_vars = list(date_features.columns)+['vote','overall']\n",
    "continuous_vars"
   ]
  },
  {
   "cell_type": "code",
   "execution_count": 36,
   "metadata": {},
   "outputs": [
    {
     "data": {
      "text/plain": [
       "['asin', 'Color1', 'reviewerID', 'Size', 'Color2', 'Color3', 'Color4']"
      ]
     },
     "execution_count": 36,
     "metadata": {},
     "output_type": "execute_result"
    }
   ],
   "source": [
    "categorical_vars = list(set(combined_preprocessed.columns)-set(continuous_vars)-set(['reviewText', 'summary']))\n",
    "categorical_vars"
   ]
  },
  {
   "cell_type": "code",
   "execution_count": 37,
   "metadata": {},
   "outputs": [],
   "source": [
    "text_vars = ['reviewText', 'summary']"
   ]
  },
  {
   "cell_type": "code",
   "execution_count": 38,
   "metadata": {},
   "outputs": [],
   "source": [
    "# filling na with 'no color' for color1-4\n",
    "combined_preprocessed['Color1'] = combined_preprocessed['Color1'].fillna('no color')\n",
    "combined_preprocessed['Color2'] = combined_preprocessed['Color2'].fillna('no color')\n",
    "combined_preprocessed['Color3'] = combined_preprocessed['Color3'].fillna('no color')\n",
    "combined_preprocessed['Color4'] = combined_preprocessed['Color4'].fillna('no color')\n",
    "# fill na with 'no size' for Size\n",
    "combined_preprocessed['Size'] = combined_preprocessed['Size'].fillna('no size')"
   ]
  },
  {
   "cell_type": "code",
   "execution_count": 39,
   "metadata": {},
   "outputs": [],
   "source": [
    "# filling na with 0 for vote \n",
    "combined_preprocessed['vote'] = combined_preprocessed['vote'].fillna(0)"
   ]
  },
  {
   "cell_type": "code",
   "execution_count": 40,
   "metadata": {},
   "outputs": [],
   "source": [
    "combined_preprocessed['reviewText'].fillna('', inplace=True)"
   ]
  },
  {
   "cell_type": "code",
   "execution_count": 41,
   "metadata": {},
   "outputs": [
    {
     "data": {
      "text/plain": [
       "overall                0\n",
       "reviewerID             0\n",
       "asin                   0\n",
       "reviewText             0\n",
       "summary                0\n",
       "unixReviewTime         0\n",
       "vote                   0\n",
       "Color1                 0\n",
       "Color2                 0\n",
       "Color3                 0\n",
       "Color4                 0\n",
       "Size                   0\n",
       "unixReviewTime         0\n",
       "reviewTimeYear         0\n",
       "reviewTimeMonth        0\n",
       "reviewTimeWeek         0\n",
       "reviewTimeDay          0\n",
       "reviewTimeDayofweek    0\n",
       "reviewTimeDayofyear    0\n",
       "reviewTimeElapsed      0\n",
       "dtype: int64"
      ]
     },
     "execution_count": 41,
     "metadata": {},
     "output_type": "execute_result"
    }
   ],
   "source": [
    "combined_preprocessed.isna().sum()"
   ]
  },
  {
   "cell_type": "markdown",
   "metadata": {},
   "source": [
    "## Training a Recommender Model"
   ]
  },
  {
   "cell_type": "markdown",
   "metadata": {},
   "source": [
    "### Creating the FastAI Dataloaders"
   ]
  },
  {
   "cell_type": "code",
   "execution_count": 42,
   "metadata": {},
   "outputs": [],
   "source": [
    "combined_preprocessed.to_csv('../../data/text_data/combined_preprocessed.csv', index=False)"
   ]
  },
  {
   "cell_type": "code",
   "execution_count": 43,
   "metadata": {},
   "outputs": [
    {
     "data": {
      "text/html": [
       "\n",
       "<style>\n",
       "    /* Turns off some styling */\n",
       "    progress {\n",
       "        /* gets rid of default border in Firefox and Opera. */\n",
       "        border: none;\n",
       "        /* Needs to be in here for Safari polyfill so background images work as expected. */\n",
       "        background-size: auto;\n",
       "    }\n",
       "    progress:not([value]), progress:not([value])::-webkit-progress-bar {\n",
       "        background: repeating-linear-gradient(45deg, #7e7e7e, #7e7e7e 10px, #5c5c5c 10px, #5c5c5c 20px);\n",
       "    }\n",
       "    .progress-bar-interrupted, .progress-bar-interrupted::-webkit-progress-bar {\n",
       "        background: #F44336;\n",
       "    }\n",
       "</style>\n"
      ],
      "text/plain": [
       "<IPython.core.display.HTML object>"
      ]
     },
     "metadata": {},
     "output_type": "display_data"
    },
    {
     "data": {
      "text/html": [],
      "text/plain": [
       "<IPython.core.display.HTML object>"
      ]
     },
     "metadata": {},
     "output_type": "display_data"
    }
   ],
   "source": [
    "textreviewdl = TextDataLoaders.from_df(combined_preprocessed, text_col='reviewText', is_lm=False)"
   ]
  },
  {
   "cell_type": "code",
   "execution_count": 44,
   "metadata": {},
   "outputs": [
    {
     "data": {
      "text/html": [
       "\n",
       "<style>\n",
       "    /* Turns off some styling */\n",
       "    progress {\n",
       "        /* gets rid of default border in Firefox and Opera. */\n",
       "        border: none;\n",
       "        /* Needs to be in here for Safari polyfill so background images work as expected. */\n",
       "        background-size: auto;\n",
       "    }\n",
       "    progress:not([value]), progress:not([value])::-webkit-progress-bar {\n",
       "        background: repeating-linear-gradient(45deg, #7e7e7e, #7e7e7e 10px, #5c5c5c 10px, #5c5c5c 20px);\n",
       "    }\n",
       "    .progress-bar-interrupted, .progress-bar-interrupted::-webkit-progress-bar {\n",
       "        background: #F44336;\n",
       "    }\n",
       "</style>\n"
      ],
      "text/plain": [
       "<IPython.core.display.HTML object>"
      ]
     },
     "metadata": {},
     "output_type": "display_data"
    },
    {
     "data": {
      "text/html": [],
      "text/plain": [
       "<IPython.core.display.HTML object>"
      ]
     },
     "metadata": {},
     "output_type": "display_data"
    }
   ],
   "source": [
    "textsummarydl = TextDataLoaders.from_df(combined_preprocessed, text_col='summary', is_lm=False)"
   ]
  },
  {
   "cell_type": "code",
   "execution_count": 45,
   "metadata": {},
   "outputs": [],
   "source": [
    "tabulardls = TabularDataLoaders.from_csv('./combined_preprocessed.csv', y_names=\"asin\",\n",
    "    cat_names = categorical_vars,\n",
    "    cont_names = continuous_vars,\n",
    "    procs = [Categorify, FillMissing, Normalize], splits=splits)"
   ]
  },
  {
   "cell_type": "code",
   "execution_count": 46,
   "metadata": {},
   "outputs": [],
   "source": [
    "# Create a learner for the tabular model\n",
    "tabular_learn = tabular_learner(tabulardls, loss_func=CrossEntropyLossFlat(), metrics=accuracy)"
   ]
  },
  {
   "cell_type": "code",
   "execution_count": 47,
   "metadata": {},
   "outputs": [],
   "source": [
    "text_learn1 = text_classifier_learner(textreviewdl, arch=AWD_LSTM)"
   ]
  },
  {
   "cell_type": "code",
   "execution_count": 48,
   "metadata": {},
   "outputs": [],
   "source": [
    "text_learn2 = text_classifier_learner(textsummarydl, arch=AWD_LSTM)"
   ]
  },
  {
   "cell_type": "markdown",
   "metadata": {},
   "source": [
    "## Evaluating the Models"
   ]
  },
  {
   "cell_type": "code",
   "execution_count": 49,
   "metadata": {},
   "outputs": [
    {
     "data": {
      "text/html": [
       "\n",
       "<style>\n",
       "    /* Turns off some styling */\n",
       "    progress {\n",
       "        /* gets rid of default border in Firefox and Opera. */\n",
       "        border: none;\n",
       "        /* Needs to be in here for Safari polyfill so background images work as expected. */\n",
       "        background-size: auto;\n",
       "    }\n",
       "    progress:not([value]), progress:not([value])::-webkit-progress-bar {\n",
       "        background: repeating-linear-gradient(45deg, #7e7e7e, #7e7e7e 10px, #5c5c5c 10px, #5c5c5c 20px);\n",
       "    }\n",
       "    .progress-bar-interrupted, .progress-bar-interrupted::-webkit-progress-bar {\n",
       "        background: #F44336;\n",
       "    }\n",
       "</style>\n"
      ],
      "text/plain": [
       "<IPython.core.display.HTML object>"
      ]
     },
     "metadata": {},
     "output_type": "display_data"
    },
    {
     "data": {
      "text/html": [],
      "text/plain": [
       "<IPython.core.display.HTML object>"
      ]
     },
     "metadata": {},
     "output_type": "display_data"
    },
    {
     "data": {
      "text/html": [
       "\n",
       "<style>\n",
       "    /* Turns off some styling */\n",
       "    progress {\n",
       "        /* gets rid of default border in Firefox and Opera. */\n",
       "        border: none;\n",
       "        /* Needs to be in here for Safari polyfill so background images work as expected. */\n",
       "        background-size: auto;\n",
       "    }\n",
       "    progress:not([value]), progress:not([value])::-webkit-progress-bar {\n",
       "        background: repeating-linear-gradient(45deg, #7e7e7e, #7e7e7e 10px, #5c5c5c 10px, #5c5c5c 20px);\n",
       "    }\n",
       "    .progress-bar-interrupted, .progress-bar-interrupted::-webkit-progress-bar {\n",
       "        background: #F44336;\n",
       "    }\n",
       "</style>\n"
      ],
      "text/plain": [
       "<IPython.core.display.HTML object>"
      ]
     },
     "metadata": {},
     "output_type": "display_data"
    },
    {
     "data": {
      "text/html": [],
      "text/plain": [
       "<IPython.core.display.HTML object>"
      ]
     },
     "metadata": {},
     "output_type": "display_data"
    }
   ],
   "source": [
    "predicted_user1 = text_learn1.predict('I really like the color of my shoes')[0]\n",
    "predicted_user2 = text_learn2.predict('Hat')[0]"
   ]
  },
  {
   "cell_type": "code",
   "execution_count": 50,
   "metadata": {},
   "outputs": [],
   "source": [
    "predicted_product_rows1 = combined_preprocessed[combined_preprocessed['reviewerID'] == predicted_user1]\n",
    "predicted_product_rows2 = combined_preprocessed[combined_preprocessed['reviewerID'] == predicted_user2]\n"
   ]
  },
  {
   "cell_type": "code",
   "execution_count": 51,
   "metadata": {},
   "outputs": [
    {
     "data": {
      "text/html": [
       "<div>\n",
       "<style scoped>\n",
       "    .dataframe tbody tr th:only-of-type {\n",
       "        vertical-align: middle;\n",
       "    }\n",
       "\n",
       "    .dataframe tbody tr th {\n",
       "        vertical-align: top;\n",
       "    }\n",
       "\n",
       "    .dataframe thead th {\n",
       "        text-align: right;\n",
       "    }\n",
       "</style>\n",
       "<table border=\"1\" class=\"dataframe\">\n",
       "  <thead>\n",
       "    <tr style=\"text-align: right;\">\n",
       "      <th></th>\n",
       "      <th>overall</th>\n",
       "      <th>reviewerID</th>\n",
       "      <th>asin</th>\n",
       "      <th>reviewText</th>\n",
       "      <th>summary</th>\n",
       "      <th>unixReviewTime</th>\n",
       "      <th>vote</th>\n",
       "      <th>Color1</th>\n",
       "      <th>Color2</th>\n",
       "      <th>Color3</th>\n",
       "      <th>Color4</th>\n",
       "      <th>Size</th>\n",
       "      <th>unixReviewTime</th>\n",
       "      <th>reviewTimeYear</th>\n",
       "      <th>reviewTimeMonth</th>\n",
       "      <th>reviewTimeWeek</th>\n",
       "      <th>reviewTimeDay</th>\n",
       "      <th>reviewTimeDayofweek</th>\n",
       "      <th>reviewTimeDayofyear</th>\n",
       "      <th>reviewTimeElapsed</th>\n",
       "    </tr>\n",
       "  </thead>\n",
       "  <tbody>\n",
       "    <tr>\n",
       "      <th>466</th>\n",
       "      <td>5.0</td>\n",
       "      <td>AIM9MWMG87AWG</td>\n",
       "      <td>B001IKJOLW</td>\n",
       "      <td>Size 5. Very comfortable shoes. Love!</td>\n",
       "      <td>Very comfortable shoes. Love</td>\n",
       "      <td>1.469578e+09</td>\n",
       "      <td>0</td>\n",
       "      <td>Black</td>\n",
       "      <td>White</td>\n",
       "      <td>Anthracite</td>\n",
       "      <td>Stealth</td>\n",
       "      <td>8 B(M) US</td>\n",
       "      <td>1.469578e+09</td>\n",
       "      <td>2016.0</td>\n",
       "      <td>7.0</td>\n",
       "      <td>30.0</td>\n",
       "      <td>27.0</td>\n",
       "      <td>2.0</td>\n",
       "      <td>209.0</td>\n",
       "      <td>1.469578e+09</td>\n",
       "    </tr>\n",
       "    <tr>\n",
       "      <th>817</th>\n",
       "      <td>5.0</td>\n",
       "      <td>AIM9MWMG87AWG</td>\n",
       "      <td>B0058YEJ5K</td>\n",
       "      <td>Size 5. Very comfortable shoes. Love!</td>\n",
       "      <td>Very comfortable shoes. Love</td>\n",
       "      <td>1.469578e+09</td>\n",
       "      <td>0</td>\n",
       "      <td>Ocean Fog</td>\n",
       "      <td>Blue Grey</td>\n",
       "      <td>Mango</td>\n",
       "      <td>missing</td>\n",
       "      <td>8 B(M) US</td>\n",
       "      <td>1.469578e+09</td>\n",
       "      <td>2016.0</td>\n",
       "      <td>7.0</td>\n",
       "      <td>30.0</td>\n",
       "      <td>27.0</td>\n",
       "      <td>2.0</td>\n",
       "      <td>209.0</td>\n",
       "      <td>1.469578e+09</td>\n",
       "    </tr>\n",
       "    <tr>\n",
       "      <th>1160</th>\n",
       "      <td>5.0</td>\n",
       "      <td>AIM9MWMG87AWG</td>\n",
       "      <td>B0014F7B98</td>\n",
       "      <td>Size 5. Very comfortable shoes. Love!</td>\n",
       "      <td>Very comfortable shoes. Love</td>\n",
       "      <td>1.469578e+09</td>\n",
       "      <td>0</td>\n",
       "      <td>Black</td>\n",
       "      <td>White</td>\n",
       "      <td>Anthracite</td>\n",
       "      <td>Stealth</td>\n",
       "      <td>9.5 B(M) US</td>\n",
       "      <td>1.469578e+09</td>\n",
       "      <td>2016.0</td>\n",
       "      <td>7.0</td>\n",
       "      <td>30.0</td>\n",
       "      <td>27.0</td>\n",
       "      <td>2.0</td>\n",
       "      <td>209.0</td>\n",
       "      <td>1.469578e+09</td>\n",
       "    </tr>\n",
       "    <tr>\n",
       "      <th>1516</th>\n",
       "      <td>5.0</td>\n",
       "      <td>AIM9MWMG87AWG</td>\n",
       "      <td>B009MA34NY</td>\n",
       "      <td>Size 5. Very comfortable shoes. Love!</td>\n",
       "      <td>Very comfortable shoes. Love</td>\n",
       "      <td>1.469578e+09</td>\n",
       "      <td>0</td>\n",
       "      <td>Cool Grey</td>\n",
       "      <td>Team Orange</td>\n",
       "      <td>White</td>\n",
       "      <td>Platinum</td>\n",
       "      <td>13 D(M) US</td>\n",
       "      <td>1.469578e+09</td>\n",
       "      <td>2016.0</td>\n",
       "      <td>7.0</td>\n",
       "      <td>30.0</td>\n",
       "      <td>27.0</td>\n",
       "      <td>2.0</td>\n",
       "      <td>209.0</td>\n",
       "      <td>1.469578e+09</td>\n",
       "    </tr>\n",
       "    <tr>\n",
       "      <th>1873</th>\n",
       "      <td>5.0</td>\n",
       "      <td>AIM9MWMG87AWG</td>\n",
       "      <td>B0092UF54A</td>\n",
       "      <td>Size 5. Very comfortable shoes. Love!</td>\n",
       "      <td>Very comfortable shoes. Love</td>\n",
       "      <td>1.469578e+09</td>\n",
       "      <td>0</td>\n",
       "      <td>Black</td>\n",
       "      <td>White</td>\n",
       "      <td>Anthracite</td>\n",
       "      <td>Stealth</td>\n",
       "      <td>7 B(M) US</td>\n",
       "      <td>1.469578e+09</td>\n",
       "      <td>2016.0</td>\n",
       "      <td>7.0</td>\n",
       "      <td>30.0</td>\n",
       "      <td>27.0</td>\n",
       "      <td>2.0</td>\n",
       "      <td>209.0</td>\n",
       "      <td>1.469578e+09</td>\n",
       "    </tr>\n",
       "  </tbody>\n",
       "</table>\n",
       "</div>"
      ],
      "text/plain": [
       "      overall     reviewerID        asin  \\\n",
       "466       5.0  AIM9MWMG87AWG  B001IKJOLW   \n",
       "817       5.0  AIM9MWMG87AWG  B0058YEJ5K   \n",
       "1160      5.0  AIM9MWMG87AWG  B0014F7B98   \n",
       "1516      5.0  AIM9MWMG87AWG  B009MA34NY   \n",
       "1873      5.0  AIM9MWMG87AWG  B0092UF54A   \n",
       "\n",
       "                                 reviewText                       summary  \\\n",
       "466   Size 5. Very comfortable shoes. Love!  Very comfortable shoes. Love   \n",
       "817   Size 5. Very comfortable shoes. Love!  Very comfortable shoes. Love   \n",
       "1160  Size 5. Very comfortable shoes. Love!  Very comfortable shoes. Love   \n",
       "1516  Size 5. Very comfortable shoes. Love!  Very comfortable shoes. Love   \n",
       "1873  Size 5. Very comfortable shoes. Love!  Very comfortable shoes. Love   \n",
       "\n",
       "      unixReviewTime vote      Color1       Color2      Color3    Color4  \\\n",
       "466     1.469578e+09    0       Black        White  Anthracite   Stealth   \n",
       "817     1.469578e+09    0   Ocean Fog    Blue Grey       Mango   missing   \n",
       "1160    1.469578e+09    0       Black        White  Anthracite   Stealth   \n",
       "1516    1.469578e+09    0   Cool Grey  Team Orange       White  Platinum   \n",
       "1873    1.469578e+09    0       Black        White  Anthracite   Stealth   \n",
       "\n",
       "              Size  unixReviewTime  reviewTimeYear  reviewTimeMonth  \\\n",
       "466      8 B(M) US    1.469578e+09          2016.0              7.0   \n",
       "817      8 B(M) US    1.469578e+09          2016.0              7.0   \n",
       "1160   9.5 B(M) US    1.469578e+09          2016.0              7.0   \n",
       "1516    13 D(M) US    1.469578e+09          2016.0              7.0   \n",
       "1873     7 B(M) US    1.469578e+09          2016.0              7.0   \n",
       "\n",
       "      reviewTimeWeek  reviewTimeDay  reviewTimeDayofweek  reviewTimeDayofyear  \\\n",
       "466             30.0           27.0                  2.0                209.0   \n",
       "817             30.0           27.0                  2.0                209.0   \n",
       "1160            30.0           27.0                  2.0                209.0   \n",
       "1516            30.0           27.0                  2.0                209.0   \n",
       "1873            30.0           27.0                  2.0                209.0   \n",
       "\n",
       "      reviewTimeElapsed  \n",
       "466        1.469578e+09  \n",
       "817        1.469578e+09  \n",
       "1160       1.469578e+09  \n",
       "1516       1.469578e+09  \n",
       "1873       1.469578e+09  "
      ]
     },
     "execution_count": 51,
     "metadata": {},
     "output_type": "execute_result"
    }
   ],
   "source": [
    "predicted_product_rows1.head()"
   ]
  },
  {
   "cell_type": "code",
   "execution_count": 52,
   "metadata": {},
   "outputs": [
    {
     "data": {
      "text/html": [
       "<div>\n",
       "<style scoped>\n",
       "    .dataframe tbody tr th:only-of-type {\n",
       "        vertical-align: middle;\n",
       "    }\n",
       "\n",
       "    .dataframe tbody tr th {\n",
       "        vertical-align: top;\n",
       "    }\n",
       "\n",
       "    .dataframe thead th {\n",
       "        text-align: right;\n",
       "    }\n",
       "</style>\n",
       "<table border=\"1\" class=\"dataframe\">\n",
       "  <thead>\n",
       "    <tr style=\"text-align: right;\">\n",
       "      <th></th>\n",
       "      <th>overall</th>\n",
       "      <th>reviewerID</th>\n",
       "      <th>asin</th>\n",
       "      <th>reviewText</th>\n",
       "      <th>summary</th>\n",
       "      <th>unixReviewTime</th>\n",
       "      <th>vote</th>\n",
       "      <th>Color1</th>\n",
       "      <th>Color2</th>\n",
       "      <th>Color3</th>\n",
       "      <th>Color4</th>\n",
       "      <th>Size</th>\n",
       "      <th>unixReviewTime</th>\n",
       "      <th>reviewTimeYear</th>\n",
       "      <th>reviewTimeMonth</th>\n",
       "      <th>reviewTimeWeek</th>\n",
       "      <th>reviewTimeDay</th>\n",
       "      <th>reviewTimeDayofweek</th>\n",
       "      <th>reviewTimeDayofyear</th>\n",
       "      <th>reviewTimeElapsed</th>\n",
       "    </tr>\n",
       "  </thead>\n",
       "  <tbody>\n",
       "    <tr>\n",
       "      <th>464</th>\n",
       "      <td>5.0</td>\n",
       "      <td>A36XF6818PQ4DJ</td>\n",
       "      <td>B001IKJOLW</td>\n",
       "      <td>These sneakers give me the motivation to workout because they feel so good and are great for any training</td>\n",
       "      <td>... me the motivation to workout because they feel so good and are great for any training</td>\n",
       "      <td>1.470614e+09</td>\n",
       "      <td>0</td>\n",
       "      <td>Black</td>\n",
       "      <td>White</td>\n",
       "      <td>Anthracite</td>\n",
       "      <td>Stealth</td>\n",
       "      <td>6.5 B(M) US</td>\n",
       "      <td>1.470614e+09</td>\n",
       "      <td>2016.0</td>\n",
       "      <td>8.0</td>\n",
       "      <td>32.0</td>\n",
       "      <td>8.0</td>\n",
       "      <td>0.0</td>\n",
       "      <td>221.0</td>\n",
       "      <td>1.470614e+09</td>\n",
       "    </tr>\n",
       "    <tr>\n",
       "      <th>815</th>\n",
       "      <td>5.0</td>\n",
       "      <td>A36XF6818PQ4DJ</td>\n",
       "      <td>B0058YEJ5K</td>\n",
       "      <td>These sneakers give me the motivation to workout because they feel so good and are great for any training</td>\n",
       "      <td>... me the motivation to workout because they feel so good and are great for any training</td>\n",
       "      <td>1.470614e+09</td>\n",
       "      <td>0</td>\n",
       "      <td>Black</td>\n",
       "      <td>White</td>\n",
       "      <td>Anthracite</td>\n",
       "      <td>Stealth</td>\n",
       "      <td>6.5 B(M) US</td>\n",
       "      <td>1.470614e+09</td>\n",
       "      <td>2016.0</td>\n",
       "      <td>8.0</td>\n",
       "      <td>32.0</td>\n",
       "      <td>8.0</td>\n",
       "      <td>0.0</td>\n",
       "      <td>221.0</td>\n",
       "      <td>1.470614e+09</td>\n",
       "    </tr>\n",
       "    <tr>\n",
       "      <th>1158</th>\n",
       "      <td>5.0</td>\n",
       "      <td>A36XF6818PQ4DJ</td>\n",
       "      <td>B0014F7B98</td>\n",
       "      <td>These sneakers give me the motivation to workout because they feel so good and are great for any training</td>\n",
       "      <td>... me the motivation to workout because they feel so good and are great for any training</td>\n",
       "      <td>1.470614e+09</td>\n",
       "      <td>0</td>\n",
       "      <td>Black</td>\n",
       "      <td>White</td>\n",
       "      <td>Anthracite</td>\n",
       "      <td>Stealth</td>\n",
       "      <td>7 B(M) US</td>\n",
       "      <td>1.470614e+09</td>\n",
       "      <td>2016.0</td>\n",
       "      <td>8.0</td>\n",
       "      <td>32.0</td>\n",
       "      <td>8.0</td>\n",
       "      <td>0.0</td>\n",
       "      <td>221.0</td>\n",
       "      <td>1.470614e+09</td>\n",
       "    </tr>\n",
       "    <tr>\n",
       "      <th>1514</th>\n",
       "      <td>5.0</td>\n",
       "      <td>A36XF6818PQ4DJ</td>\n",
       "      <td>B009MA34NY</td>\n",
       "      <td>These sneakers give me the motivation to workout because they feel so good and are great for any training</td>\n",
       "      <td>... me the motivation to workout because they feel so good and are great for any training</td>\n",
       "      <td>1.470614e+09</td>\n",
       "      <td>0</td>\n",
       "      <td>Black</td>\n",
       "      <td>White</td>\n",
       "      <td>Anthracite</td>\n",
       "      <td>Stealth</td>\n",
       "      <td>8.5 B(M) US</td>\n",
       "      <td>1.470614e+09</td>\n",
       "      <td>2016.0</td>\n",
       "      <td>8.0</td>\n",
       "      <td>32.0</td>\n",
       "      <td>8.0</td>\n",
       "      <td>0.0</td>\n",
       "      <td>221.0</td>\n",
       "      <td>1.470614e+09</td>\n",
       "    </tr>\n",
       "    <tr>\n",
       "      <th>1871</th>\n",
       "      <td>5.0</td>\n",
       "      <td>A36XF6818PQ4DJ</td>\n",
       "      <td>B0092UF54A</td>\n",
       "      <td>These sneakers give me the motivation to workout because they feel so good and are great for any training</td>\n",
       "      <td>... me the motivation to workout because they feel so good and are great for any training</td>\n",
       "      <td>1.470614e+09</td>\n",
       "      <td>0</td>\n",
       "      <td>Pure Platinum</td>\n",
       "      <td>Blue Glow</td>\n",
       "      <td>Wolf Grey</td>\n",
       "      <td>missing</td>\n",
       "      <td>9.5 B(M) US</td>\n",
       "      <td>1.470614e+09</td>\n",
       "      <td>2016.0</td>\n",
       "      <td>8.0</td>\n",
       "      <td>32.0</td>\n",
       "      <td>8.0</td>\n",
       "      <td>0.0</td>\n",
       "      <td>221.0</td>\n",
       "      <td>1.470614e+09</td>\n",
       "    </tr>\n",
       "  </tbody>\n",
       "</table>\n",
       "</div>"
      ],
      "text/plain": [
       "      overall      reviewerID        asin  \\\n",
       "464       5.0  A36XF6818PQ4DJ  B001IKJOLW   \n",
       "815       5.0  A36XF6818PQ4DJ  B0058YEJ5K   \n",
       "1158      5.0  A36XF6818PQ4DJ  B0014F7B98   \n",
       "1514      5.0  A36XF6818PQ4DJ  B009MA34NY   \n",
       "1871      5.0  A36XF6818PQ4DJ  B0092UF54A   \n",
       "\n",
       "                                                                                                     reviewText  \\\n",
       "464   These sneakers give me the motivation to workout because they feel so good and are great for any training   \n",
       "815   These sneakers give me the motivation to workout because they feel so good and are great for any training   \n",
       "1158  These sneakers give me the motivation to workout because they feel so good and are great for any training   \n",
       "1514  These sneakers give me the motivation to workout because they feel so good and are great for any training   \n",
       "1871  These sneakers give me the motivation to workout because they feel so good and are great for any training   \n",
       "\n",
       "                                                                                        summary  \\\n",
       "464   ... me the motivation to workout because they feel so good and are great for any training   \n",
       "815   ... me the motivation to workout because they feel so good and are great for any training   \n",
       "1158  ... me the motivation to workout because they feel so good and are great for any training   \n",
       "1514  ... me the motivation to workout because they feel so good and are great for any training   \n",
       "1871  ... me the motivation to workout because they feel so good and are great for any training   \n",
       "\n",
       "      unixReviewTime vote          Color1     Color2      Color3   Color4  \\\n",
       "464     1.470614e+09    0           Black      White  Anthracite  Stealth   \n",
       "815     1.470614e+09    0           Black      White  Anthracite  Stealth   \n",
       "1158    1.470614e+09    0           Black      White  Anthracite  Stealth   \n",
       "1514    1.470614e+09    0           Black      White  Anthracite  Stealth   \n",
       "1871    1.470614e+09    0   Pure Platinum  Blue Glow   Wolf Grey  missing   \n",
       "\n",
       "              Size  unixReviewTime  reviewTimeYear  reviewTimeMonth  \\\n",
       "464    6.5 B(M) US    1.470614e+09          2016.0              8.0   \n",
       "815    6.5 B(M) US    1.470614e+09          2016.0              8.0   \n",
       "1158     7 B(M) US    1.470614e+09          2016.0              8.0   \n",
       "1514   8.5 B(M) US    1.470614e+09          2016.0              8.0   \n",
       "1871   9.5 B(M) US    1.470614e+09          2016.0              8.0   \n",
       "\n",
       "      reviewTimeWeek  reviewTimeDay  reviewTimeDayofweek  reviewTimeDayofyear  \\\n",
       "464             32.0            8.0                  0.0                221.0   \n",
       "815             32.0            8.0                  0.0                221.0   \n",
       "1158            32.0            8.0                  0.0                221.0   \n",
       "1514            32.0            8.0                  0.0                221.0   \n",
       "1871            32.0            8.0                  0.0                221.0   \n",
       "\n",
       "      reviewTimeElapsed  \n",
       "464        1.470614e+09  \n",
       "815        1.470614e+09  \n",
       "1158       1.470614e+09  \n",
       "1514       1.470614e+09  \n",
       "1871       1.470614e+09  "
      ]
     },
     "execution_count": 52,
     "metadata": {},
     "output_type": "execute_result"
    }
   ],
   "source": [
    "predicted_product_rows2.head()"
   ]
  }
 ],
 "metadata": {
  "kernelspec": {
   "display_name": "fastai_env",
   "language": "python",
   "name": "python3"
  },
  "language_info": {
   "codemirror_mode": {
    "name": "ipython",
    "version": 3
   },
   "file_extension": ".py",
   "mimetype": "text/x-python",
   "name": "python",
   "nbconvert_exporter": "python",
   "pygments_lexer": "ipython3",
   "version": "3.8.18"
  }
 },
 "nbformat": 4,
 "nbformat_minor": 2
}
